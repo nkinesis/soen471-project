{
 "cells": [
  {
   "cell_type": "code",
   "execution_count": 21,
   "id": "c07b9daf",
   "metadata": {},
   "outputs": [],
   "source": [
    "import xgboost\n",
    "import numpy as np\n",
    "import pandas as pd\n",
    "from sklearn.model_selection import train_test_split\n",
    "from sklearn.metrics import classification_report"
   ]
  },
  {
   "cell_type": "code",
   "execution_count": 22,
   "id": "7b45d799",
   "metadata": {},
   "outputs": [],
   "source": [
    "data = pd.read_csv('preprocessing/data/london_clean.csv')\n",
    "data = data.loc[\n",
    "    :,\n",
    "    [\n",
    "        \"DateOfCall\",\n",
    "        \"PropertyType\",\n",
    "        \"NumPumpsAttending\",\n",
    "        \"PumpHoursRoundUp\",\n",
    "        \"CostCat\",\n",
    "        \"mean_temp\",\n",
    "    ],\n",
    "]\n",
    "X = data.drop([\"CostCat\"], axis=1).values  # Input features (attributes)\n",
    "y = data[\"CostCat\"].values  # Target vector\n",
    "\n",
    "\n",
    "X_train, X_test, y_train, y_test = train_test_split(\n",
    "    X, y, train_size=0.7, test_size=0.3, random_state=42\n",
    ")\n"
   ]
  },
  {
   "cell_type": "code",
   "execution_count": 23,
   "id": "a4a373d0",
   "metadata": {},
   "outputs": [
    {
     "name": "stdout",
     "output_type": "stream",
     "text": [
      "              precision    recall  f1-score   support\n",
      "\n",
      "           0       0.74      0.90      0.82    210199\n",
      "           1       0.76      0.48      0.59    127674\n",
      "           2       1.00      1.00      1.00     31404\n",
      "           3       0.70      0.91      0.79      4963\n",
      "           4       0.72      0.42      0.53      4546\n",
      "           5       0.91      0.96      0.93      7200\n",
      "\n",
      "    accuracy                           0.77    385986\n",
      "   macro avg       0.80      0.78      0.78    385986\n",
      "weighted avg       0.77      0.77      0.75    385986\n",
      "\n"
     ]
    }
   ],
   "source": [
    "final_model = xgboost.XGBClassifier(objective=\"binary:logistic\", random_state=42)\n",
    "final_model.fit(X_train, y_train)\n",
    "\n",
    "# Make predictions on the testing data\n",
    "y_pred = final_model.predict(X_test)\n",
    "\n",
    "# Evaluate the accuracy of the model\n",
    "print(classification_report(y_test, y_pred))"
   ]
  },
  {
   "cell_type": "code",
   "execution_count": null,
   "id": "491f168a",
   "metadata": {},
   "outputs": [],
   "source": []
  }
 ],
 "metadata": {
  "kernelspec": {
   "display_name": "Python 3",
   "language": "python",
   "name": "python3"
  },
  "language_info": {
   "codemirror_mode": {
    "name": "ipython",
    "version": 3
   },
   "file_extension": ".py",
   "mimetype": "text/x-python",
   "name": "python",
   "nbconvert_exporter": "python",
   "pygments_lexer": "ipython3",
   "version": "3.8.10"
  },
  "vscode": {
   "interpreter": {
    "hash": "31f2aee4e71d21fbe5cf8b01ff0e069b9275f58929596ceb00d14d90e3e16cd6"
   }
  }
 },
 "nbformat": 4,
 "nbformat_minor": 5
}
