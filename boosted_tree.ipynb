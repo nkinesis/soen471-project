{
 "cells": [
  {
   "attachments": {},
   "cell_type": "markdown",
   "id": "c07b9daf",
   "metadata": {},
   "source": [
    "### Boosted Tree Classification Model\n",
    "In this tutorial, we show you the steps to train a boosted tree classification model, and also how to evaluate this model afterwards."
   ]
  },
  {
   "attachments": {},
   "cell_type": "markdown",
   "id": "55e8c2d9",
   "metadata": {},
   "source": [
    "### 1. Import libraries\n",
    "First of all, we import xgboost, the library which provides boosted tree functionality. The purpose other libraries will be explained as we advance in the tutorial."
   ]
  },
  {
   "cell_type": "code",
   "execution_count": 35,
   "id": "884d1c8b",
   "metadata": {},
   "outputs": [],
   "source": [
    "import pickle\n",
    "import xgboost\n",
    "import pandas as pd\n",
    "import seaborn as sns\n",
    "import matplotlib.pyplot as plt\n",
    "from sklearn.metrics import classification_report, confusion_matrix\n",
    "from sklearn.model_selection import train_test_split\n",
    "from sklearn.model_selection import GridSearchCV\n",
    "from sklearn.metrics import classification_report"
   ]
  },
  {
   "attachments": {},
   "cell_type": "markdown",
   "id": "7880a96c",
   "metadata": {},
   "source": [
    "### 2. Load data\n",
    "We use Pandas to load the preprocessed version of our dataset (london_clean.csv) and select only the columns we will use for training the tree. We are aware the unecessary columns could have been removed in the preprocessing phase, but we chose to keep them in the file so we can experiment with different combination of inputs/outputs."
   ]
  },
  {
   "cell_type": "code",
   "execution_count": 2,
   "id": "7b45d799",
   "metadata": {},
   "outputs": [],
   "source": [
    "ds = pd.read_csv('preprocessing/data/london_clean.csv')\n",
    "selected_cols = [\"DateOfCall\", \"PropertyType\", \"NumPumpsAttending\", \n",
    "                    \"PumpHoursRoundUp\", \"CostCat\", \"mean_temp\"]\n",
    "ds = ds.loc[:, selected_cols]"
   ]
  },
  {
   "attachments": {},
   "cell_type": "markdown",
   "id": "332000f5",
   "metadata": {},
   "source": [
    "### 3. Split data\n",
    "After loading the data, we start by splitting the dataset between columns that will be used as input to train the model (X) and the actual output (y). In other words, for a certain combination of data about the file (e.g. data of call, property type, etc.) we want to predict its cost category.\n",
    "\n",
    "Besides splitting columns, we also want to split the rows to create two datasets: one for training (70% of the original dataset rows) and testing (30% of the original dataset rows). We use train_test_split from scikit-learn to do this task for us."
   ]
  },
  {
   "cell_type": "code",
   "execution_count": 3,
   "id": "027558d3",
   "metadata": {},
   "outputs": [],
   "source": [
    "X = ds.drop([\"CostCat\"], axis=1).values \n",
    "y = ds[\"CostCat\"].values\n",
    "\n",
    "X_train, X_test, y_train, y_test = train_test_split(\n",
    "    X, y, test_size=0.33, random_state=42\n",
    ")"
   ]
  },
  {
   "attachments": {},
   "cell_type": "markdown",
   "id": "26a30bc3",
   "metadata": {},
   "source": [
    "### 4. Train model\n",
    "We call xgboost.XGBClassifier and use the training dataset (x_train, y_train) to train the model. We use the hyperparameter objective=\"multi:softmax\" because we want to do multiclass classification. We keep the other hyperparameters in their default values. Later, in step 6, we will try different hyperparameter combinations to find the best one."
   ]
  },
  {
   "cell_type": "code",
   "execution_count": 4,
   "id": "a4a373d0",
   "metadata": {},
   "outputs": [
    {
     "data": {
      "text/html": [
       "<style>#sk-container-id-1 {color: black;background-color: white;}#sk-container-id-1 pre{padding: 0;}#sk-container-id-1 div.sk-toggleable {background-color: white;}#sk-container-id-1 label.sk-toggleable__label {cursor: pointer;display: block;width: 100%;margin-bottom: 0;padding: 0.3em;box-sizing: border-box;text-align: center;}#sk-container-id-1 label.sk-toggleable__label-arrow:before {content: \"▸\";float: left;margin-right: 0.25em;color: #696969;}#sk-container-id-1 label.sk-toggleable__label-arrow:hover:before {color: black;}#sk-container-id-1 div.sk-estimator:hover label.sk-toggleable__label-arrow:before {color: black;}#sk-container-id-1 div.sk-toggleable__content {max-height: 0;max-width: 0;overflow: hidden;text-align: left;background-color: #f0f8ff;}#sk-container-id-1 div.sk-toggleable__content pre {margin: 0.2em;color: black;border-radius: 0.25em;background-color: #f0f8ff;}#sk-container-id-1 input.sk-toggleable__control:checked~div.sk-toggleable__content {max-height: 200px;max-width: 100%;overflow: auto;}#sk-container-id-1 input.sk-toggleable__control:checked~label.sk-toggleable__label-arrow:before {content: \"▾\";}#sk-container-id-1 div.sk-estimator input.sk-toggleable__control:checked~label.sk-toggleable__label {background-color: #d4ebff;}#sk-container-id-1 div.sk-label input.sk-toggleable__control:checked~label.sk-toggleable__label {background-color: #d4ebff;}#sk-container-id-1 input.sk-hidden--visually {border: 0;clip: rect(1px 1px 1px 1px);clip: rect(1px, 1px, 1px, 1px);height: 1px;margin: -1px;overflow: hidden;padding: 0;position: absolute;width: 1px;}#sk-container-id-1 div.sk-estimator {font-family: monospace;background-color: #f0f8ff;border: 1px dotted black;border-radius: 0.25em;box-sizing: border-box;margin-bottom: 0.5em;}#sk-container-id-1 div.sk-estimator:hover {background-color: #d4ebff;}#sk-container-id-1 div.sk-parallel-item::after {content: \"\";width: 100%;border-bottom: 1px solid gray;flex-grow: 1;}#sk-container-id-1 div.sk-label:hover label.sk-toggleable__label {background-color: #d4ebff;}#sk-container-id-1 div.sk-serial::before {content: \"\";position: absolute;border-left: 1px solid gray;box-sizing: border-box;top: 0;bottom: 0;left: 50%;z-index: 0;}#sk-container-id-1 div.sk-serial {display: flex;flex-direction: column;align-items: center;background-color: white;padding-right: 0.2em;padding-left: 0.2em;position: relative;}#sk-container-id-1 div.sk-item {position: relative;z-index: 1;}#sk-container-id-1 div.sk-parallel {display: flex;align-items: stretch;justify-content: center;background-color: white;position: relative;}#sk-container-id-1 div.sk-item::before, #sk-container-id-1 div.sk-parallel-item::before {content: \"\";position: absolute;border-left: 1px solid gray;box-sizing: border-box;top: 0;bottom: 0;left: 50%;z-index: -1;}#sk-container-id-1 div.sk-parallel-item {display: flex;flex-direction: column;z-index: 1;position: relative;background-color: white;}#sk-container-id-1 div.sk-parallel-item:first-child::after {align-self: flex-end;width: 50%;}#sk-container-id-1 div.sk-parallel-item:last-child::after {align-self: flex-start;width: 50%;}#sk-container-id-1 div.sk-parallel-item:only-child::after {width: 0;}#sk-container-id-1 div.sk-dashed-wrapped {border: 1px dashed gray;margin: 0 0.4em 0.5em 0.4em;box-sizing: border-box;padding-bottom: 0.4em;background-color: white;}#sk-container-id-1 div.sk-label label {font-family: monospace;font-weight: bold;display: inline-block;line-height: 1.2em;}#sk-container-id-1 div.sk-label-container {text-align: center;}#sk-container-id-1 div.sk-container {/* jupyter's `normalize.less` sets `[hidden] { display: none; }` but bootstrap.min.css set `[hidden] { display: none !important; }` so we also need the `!important` here to be able to override the default hidden behavior on the sphinx rendered scikit-learn.org. See: https://github.com/scikit-learn/scikit-learn/issues/21755 */display: inline-block !important;position: relative;}#sk-container-id-1 div.sk-text-repr-fallback {display: none;}</style><div id=\"sk-container-id-1\" class=\"sk-top-container\"><div class=\"sk-text-repr-fallback\"><pre>XGBClassifier(base_score=None, booster=None, callbacks=None,\n",
       "              colsample_bylevel=None, colsample_bynode=None,\n",
       "              colsample_bytree=None, early_stopping_rounds=None,\n",
       "              enable_categorical=False, eval_metric=None, feature_types=None,\n",
       "              gamma=None, gpu_id=None, grow_policy=None, importance_type=None,\n",
       "              interaction_constraints=None, learning_rate=None, max_bin=None,\n",
       "              max_cat_threshold=None, max_cat_to_onehot=None,\n",
       "              max_delta_step=None, max_depth=None, max_leaves=None,\n",
       "              min_child_weight=None, missing=nan, monotone_constraints=None,\n",
       "              n_estimators=100, n_jobs=None, num_parallel_tree=None,\n",
       "              objective=&#x27;multi:softmax&#x27;, predictor=None, ...)</pre><b>In a Jupyter environment, please rerun this cell to show the HTML representation or trust the notebook. <br />On GitHub, the HTML representation is unable to render, please try loading this page with nbviewer.org.</b></div><div class=\"sk-container\" hidden><div class=\"sk-item\"><div class=\"sk-estimator sk-toggleable\"><input class=\"sk-toggleable__control sk-hidden--visually\" id=\"sk-estimator-id-1\" type=\"checkbox\" checked><label for=\"sk-estimator-id-1\" class=\"sk-toggleable__label sk-toggleable__label-arrow\">XGBClassifier</label><div class=\"sk-toggleable__content\"><pre>XGBClassifier(base_score=None, booster=None, callbacks=None,\n",
       "              colsample_bylevel=None, colsample_bynode=None,\n",
       "              colsample_bytree=None, early_stopping_rounds=None,\n",
       "              enable_categorical=False, eval_metric=None, feature_types=None,\n",
       "              gamma=None, gpu_id=None, grow_policy=None, importance_type=None,\n",
       "              interaction_constraints=None, learning_rate=None, max_bin=None,\n",
       "              max_cat_threshold=None, max_cat_to_onehot=None,\n",
       "              max_delta_step=None, max_depth=None, max_leaves=None,\n",
       "              min_child_weight=None, missing=nan, monotone_constraints=None,\n",
       "              n_estimators=100, n_jobs=None, num_parallel_tree=None,\n",
       "              objective=&#x27;multi:softmax&#x27;, predictor=None, ...)</pre></div></div></div></div></div>"
      ],
      "text/plain": [
       "XGBClassifier(base_score=None, booster=None, callbacks=None,\n",
       "              colsample_bylevel=None, colsample_bynode=None,\n",
       "              colsample_bytree=None, early_stopping_rounds=None,\n",
       "              enable_categorical=False, eval_metric=None, feature_types=None,\n",
       "              gamma=None, gpu_id=None, grow_policy=None, importance_type=None,\n",
       "              interaction_constraints=None, learning_rate=None, max_bin=None,\n",
       "              max_cat_threshold=None, max_cat_to_onehot=None,\n",
       "              max_delta_step=None, max_depth=None, max_leaves=None,\n",
       "              min_child_weight=None, missing=nan, monotone_constraints=None,\n",
       "              n_estimators=100, n_jobs=None, num_parallel_tree=None,\n",
       "              objective='multi:softmax', predictor=None, ...)"
      ]
     },
     "execution_count": 4,
     "metadata": {},
     "output_type": "execute_result"
    }
   ],
   "source": [
    "model = xgboost.XGBClassifier(objective=\"multi:softmax\", random_state=42)\n",
    "model.fit(X_train, y_train)"
   ]
  },
  {
   "attachments": {},
   "cell_type": "markdown",
   "id": "7368ea88",
   "metadata": {},
   "source": [
    "### 5. Evaluate model\n",
    "We use the trained model to make predictions. We then compare these predictions to the actual labels to check how accurate is the model. According to sci-kit learn's classification_report, the weighter average f1-score is 0.78."
   ]
  },
  {
   "cell_type": "code",
   "execution_count": 5,
   "id": "491f168a",
   "metadata": {},
   "outputs": [
    {
     "name": "stdout",
     "output_type": "stream",
     "text": [
      "              precision    recall  f1-score   support\n",
      "\n",
      "           0       0.73      0.90      0.81     20861\n",
      "           1       0.74      0.45      0.56     12791\n",
      "           2       1.00      1.00      1.00      9264\n",
      "           3       0.70      0.91      0.79      4977\n",
      "           4       0.73      0.44      0.55      4712\n",
      "           5       0.91      0.96      0.93      7398\n",
      "\n",
      "    accuracy                           0.79     60003\n",
      "   macro avg       0.80      0.78      0.77     60003\n",
      "weighted avg       0.79      0.79      0.78     60003\n",
      "\n"
     ]
    }
   ],
   "source": [
    "y_pred = model.predict(X_test)\n",
    "print(classification_report(y_test, y_pred))"
   ]
  },
  {
   "attachments": {},
   "cell_type": "markdown",
   "id": "fa7e204a",
   "metadata": {},
   "source": [
    "### 6. Hyperparameter tunning\n",
    "ATTENTION: the code below may take a long time to run and consume a large amount of CPU/RAM from your system.\n",
    "\n",
    "After training the model successfully with default hyperparameters, we want to test other hyperameters as well to determine if the model can be improved, or if the results we got are the best possible for this combination of tree-method and dataset. \n",
    "\n",
    "First of all we need to know what are the hyperparameters used in the default run of the algorithm. According to the [documentation](https://xgboost.readthedocs.io/en/stable/parameter.html#parameters-for-tree-booster), the defaults are:\n",
    "- max_depth: 6\n",
    "- tree_method: 'auto'\n",
    "- n_estimators: the default is 'none', meaning that this value can grow as much as needed. For the model we just trained, the value obtained is 100\n",
    "\n",
    "We used GridSearchCV to search for the best combination of hyperparameters for training a boosted tree. We chose the range of hyperparams in tree_params based on step 6. We chose values that are bit larger/smaller than the defaults so we can check if adjustments to these values cause some kind of improvement.\n",
    "\n",
    "After the search is done, it gives us the model that it found to be the best: x. We save it in pickle format so we can load it later to re-evaluate it or generate predictions. \n",
    "\n",
    "We also convert the cv_results_ object into a JSON file, which we use to create the visualizations seen in step 7. \n",
    "\n",
    "GridSearchCV also does cross-validation (here we used 5 splits, the default)."
   ]
  },
  {
   "cell_type": "code",
   "execution_count": 21,
   "id": "64b247ba",
   "metadata": {},
   "outputs": [
    {
     "name": "stdout",
     "output_type": "stream",
     "text": [
      "{'max_depth': 10, 'n_estimators': 100, 'tree_method': 'exact'}\n"
     ]
    }
   ],
   "source": [
    "select_params = {'n_estimators': [75, 100, 125], \n",
    "               'max_depth': [3, 6, 9], \n",
    "               'tree_method': ['auto', 'exact', 'approx', 'hist']}\n",
    "model_best = GridSearchCV(xgboost.XGBClassifier(), select_params, n_jobs=4, cv=5)\n",
    "model_best = model_best.fit(X_train, y_train)\n",
    "\n",
    "# save in pickle format\n",
    "pickle.dump(model, open('test_results/boosted_trees_best.pickle', \"wb\"))\n",
    "\n",
    "print(\"The best hyperparameter found in this search are:\", model_best.best_params_)"
   ]
  },
  {
   "attachments": {},
   "cell_type": "markdown",
   "id": "c0a00cae",
   "metadata": {},
   "source": [
    "#### 7. Best Performing Model\n",
    "According to sci-kit learn's classification_report, the weighted average f1-score is 0.80. This is an improvement of 0.02 in comparison with the default hyperparameters.\n",
    "\n",
    "We can use a confusion matrix to visualize the count of classifications and misclassifications for each category. Category 4 was the most frequently misclassified.\n"
   ]
  },
  {
   "cell_type": "code",
   "execution_count": 40,
   "id": "863ac6a6",
   "metadata": {},
   "outputs": [
    {
     "name": "stdout",
     "output_type": "stream",
     "text": [
      "Boosted Trees - Classification Report\n",
      "              precision    recall  f1-score   support\n",
      "\n",
      "           0       0.77      0.87      0.82     20861\n",
      "           1       0.73      0.58      0.65     12791\n",
      "           2       1.00      1.00      1.00      9264\n",
      "           3       0.74      0.85      0.80      4977\n",
      "           4       0.69      0.55      0.62      4712\n",
      "           5       0.92      0.94      0.93      7398\n",
      "\n",
      "    accuracy                           0.81     60003\n",
      "   macro avg       0.81      0.80      0.80     60003\n",
      "weighted avg       0.81      0.81      0.80     60003\n",
      "\n"
     ]
    },
    {
     "data": {
      "image/png": "[encoded data removed]",
      "text/plain": [
       "<Figure size 700x700 with 2 Axes>"
      ]
     },
     "metadata": {},
     "output_type": "display_data"
    }
   ],
   "source": [
    "y_top_pred = model_best.predict(X_test)\n",
    "print(\"Boosted Trees - Classification Report\")\n",
    "print(classification_report(y_test, y_top_pred))\n",
    "\n",
    "# visualizing classification report\n",
    "cmap = sns.color_palette(\"Blues\")\n",
    "cm = confusion_matrix(y_test, y_top_pred)\n",
    "plt.figure(figsize=(7, 7))\n",
    "sns.heatmap(\n",
    "    cm,\n",
    "    annot=True,\n",
    "    fmt=\"g\",\n",
    "    cmap=cmap,\n",
    "    annot_kws={\"fontsize\": 10},\n",
    "    linewidth=1,\n",
    "    square=True,\n",
    ")\n",
    "plt.xlabel(\"Predicted\")\n",
    "plt.ylabel(\"Actual\")\n",
    "plt.title(\"Boosted Trees - Best Model\")\n",
    "plt.show()"
   ]
  },
  {
   "attachments": {},
   "cell_type": "markdown",
   "id": "000687ba",
   "metadata": {},
   "source": [
    "### 9. Repeat Steps 4-7 for the Undersampled Dataset\n",
    "We do this to compare performance"
   ]
  },
  {
   "attachments": {},
   "cell_type": "markdown",
   "id": "95b29e7d",
   "metadata": {},
   "source": [
    "### 10. Conclusions\n",
    "This model provides a weighted average f1-score of 0.78 when trained with default hyperparameters. By doing hyperparameter tunning, we managed to improve the weighted average f1-score from 0.78 to 0.80. Considering that the goal of the project is simply showing the viability of firefighting cost prediction by using this kind of tree-based model, the accuracy score we obtained is satisfactory."
   ]
  },
  {
   "cell_type": "markdown",
   "id": "722af019",
   "metadata": {},
   "source": []
  }
 ],
 "metadata": {
  "kernelspec": {
   "display_name": "Python 3",
   "language": "python",
   "name": "python3"
  },
  "language_info": {
   "codemirror_mode": {
    "name": "ipython",
    "version": 3
   },
   "file_extension": ".py",
   "mimetype": "text/x-python",
   "name": "python",
   "nbconvert_exporter": "python",
   "pygments_lexer": "ipython3",
   "version": "3.8.10"
  },
  "vscode": {
   "interpreter": {
    "hash": "31f2aee4e71d21fbe5cf8b01ff0e069b9275f58929596ceb00d14d90e3e16cd6"
   }
  }
 },
 "nbformat": 4,
 "nbformat_minor": 5
}
