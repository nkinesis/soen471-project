{
 "cells": [
  {
   "cell_type": "code",
   "execution_count": 13,
   "metadata": {},
   "outputs": [],
   "source": [
    "import pandas as pd\n",
    "import functools"
   ]
  },
  {
   "cell_type": "code",
   "execution_count": 4,
   "metadata": {},
   "outputs": [],
   "source": [
    "df1 = pd.read_csv(\"temperature.csv\")\n",
    "df2 = pd.read_csv(\"humidity.csv\")\n",
    "df3 = pd.read_csv(\"pressure.csv\")\n",
    "df4 = pd.read_csv(\"wind_speed.csv\")\n",
    "df5 = pd.read_csv(\"wind_direction.csv\")\n",
    "\n",
    "\n",
    "\n",
    "df_temperature = df1[['datetime', 'San Francisco']]\n",
    "df_humidity = df2[['datetime', 'San Francisco']]\n",
    "df_pressure = df3[['datetime', 'San Francisco']]\n",
    "df_windspeed = df4[['datetime', 'San Francisco']]\n",
    "df_winddirect = df5[['datetime', 'San Francisco']]"
   ]
  },
  {
   "cell_type": "code",
   "execution_count": 29,
   "metadata": {},
   "outputs": [
    {
     "name": "stdout",
     "output_type": "stream",
     "text": [
      "                  datetime  temperature  humidity _merge  pressure  windspeed\n",
      "0      2012-10-01 12:00:00          NaN       NaN   both       NaN        NaN\n",
      "1      2012-10-01 13:00:00   289.480000      88.0   both    1009.0        2.0\n",
      "2      2012-10-01 14:00:00   289.474993      87.0   both    1009.0        2.0\n",
      "3      2012-10-01 15:00:00   289.460618      86.0   both    1009.0        2.0\n",
      "4      2012-10-01 16:00:00   289.446243      85.0   both    1009.0        2.0\n",
      "...                    ...          ...       ...    ...       ...        ...\n",
      "45248  2017-11-29 20:00:00          NaN       NaN   both       NaN        NaN\n",
      "45249  2017-11-29 21:00:00          NaN       NaN   both       NaN        NaN\n",
      "45250  2017-11-29 22:00:00          NaN       NaN   both       NaN        NaN\n",
      "45251  2017-11-29 23:00:00          NaN       NaN   both       NaN        NaN\n",
      "45252  2017-11-30 00:00:00          NaN       NaN   both       NaN        NaN\n",
      "\n",
      "[45253 rows x 6 columns]\n"
     ]
    }
   ],
   "source": [
    "#inner join on datetime\n",
    "df_merged1 = pd.merge(df_temperature,df_humidity,how = 'inner', indicator=True, suffixes=['_temp', '_humidity'], on=['datetime'])\n",
    "df_merged2= pd.merge(df_merged1,df_pressure,how = 'inner', on=['datetime'])\n",
    "df_merged3=pd.merge(df_merged2,df_windspeed,how='inner',on=['datetime'])\n",
    "\n",
    "df_SF = df_merged3.rename(columns={'San Francisco_temp':'temperature','San Francisco_humidity':'humidity','San Francisco_x':'pressure', 'San Francisco_y':'windspeed',})\n",
    "\n",
    "print(df_SF)"
   ]
  },
  {
   "cell_type": "code",
   "execution_count": 35,
   "metadata": {},
   "outputs": [
    {
     "name": "stdout",
     "output_type": "stream",
     "text": [
      "Count: 1854\n"
     ]
    },
    {
     "name": "stderr",
     "output_type": "stream",
     "text": [
      "C:\\Users\\phael\\AppData\\Local\\Temp\\ipykernel_17972\\2381660308.py:8: FutureWarning: Indexing with multiple keys (implicitly converted to a tuple of keys) will be deprecated, use a list instead.\n",
      "  ds2=ds1.groupby('datetime')['temperature','humidity','pressure','windspeed'].mean()\n"
     ]
    }
   ],
   "source": [
    "#average values by dates after deleting NaN\n",
    "\n",
    "#change date time into date only\n",
    "df_SF['datetime'] = pd.to_datetime(df_SF['datetime']).dt.date\n",
    "\n",
    "ds1 = df_SF.dropna()\n",
    "\n",
    "ds2=ds1.groupby('datetime')['temperature','humidity','pressure','windspeed'].mean()\n",
    "print(\"Count:\", len(ds2))\n",
    "ds2\n",
    "\n",
    "\n",
    "# save dataset\n",
    "ds2.to_csv('sf_weather.csv', index=False)"
   ]
  }
 ],
 "metadata": {
  "kernelspec": {
   "display_name": "Python 3",
   "language": "python",
   "name": "python3"
  },
  "language_info": {
   "codemirror_mode": {
    "name": "ipython",
    "version": 3
   },
   "file_extension": ".py",
   "mimetype": "text/x-python",
   "name": "python",
   "nbconvert_exporter": "python",
   "pygments_lexer": "ipython3",
   "version": "3.10.8"
  },
  "orig_nbformat": 4,
  "vscode": {
   "interpreter": {
    "hash": "41a25e4fc04ae1ac97e89ed19feb20c86178bc3aba5c26b45b17fff7270b24df"
   }
  }
 },
 "nbformat": 4,
 "nbformat_minor": 2
}
