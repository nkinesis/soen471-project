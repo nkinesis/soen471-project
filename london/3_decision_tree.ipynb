{
 "cells": [
  {
   "cell_type": "code",
   "execution_count": 160,
   "id": "c07b9daf",
   "metadata": {},
   "outputs": [],
   "source": [
    "import pandas as pd\n",
    "import numpy as np\n",
    "from sklearn import tree\n",
    "from sklearn import metrics \n",
    "from sklearn.model_selection import train_test_split\n",
    "from sklearn.metrics import confusion_matrix, classification_report"
   ]
  },
  {
   "cell_type": "code",
   "execution_count": 161,
   "id": "60aa0437",
   "metadata": {},
   "outputs": [
    {
     "data": {
      "text/plain": [
       "DateOfCall           int64\n",
       "CalYear              int64\n",
       "HourOfCall           int64\n",
       "IncidentGroup        int64\n",
       "PropertyCategory     int64\n",
       "PropertyType         int64\n",
       "NumPumpsAttending    int64\n",
       "PumpHoursRoundUp     int64\n",
       "Notional Cost (£)    int64\n",
       "CostCat              int64\n",
       "dtype: object"
      ]
     },
     "execution_count": 161,
     "metadata": {},
     "output_type": "execute_result"
    }
   ],
   "source": [
    "# load dataset\n",
    "df = pd.read_csv('london_clean.csv')\n",
    "df.dtypes\n"
   ]
  },
  {
   "cell_type": "code",
   "execution_count": 162,
   "id": "2705cd45",
   "metadata": {},
   "outputs": [
    {
     "name": "stdout",
     "output_type": "stream",
     "text": [
      "         DateOfCall  PropertyType  NumPumpsAttending  PumpHoursRoundUp\n",
      "414909            5             8                  2                 1\n",
      "561416           10            72                  1                 1\n",
      "1354151           8            12                  1                 1\n",
      "1327122           5            12                  2                 1\n",
      "199102            7            10                  3                 2\n",
      "         CostCat\n",
      "414909         3\n",
      "561416         3\n",
      "1354151        4\n",
      "1327122        4\n",
      "199102         6\n"
     ]
    }
   ],
   "source": [
    "X = df[['DateOfCall', 'PropertyType', 'NumPumpsAttending', 'PumpHoursRoundUp']]\n",
    "y = df[['CostCat']]\n",
    "X_train, X_test, y_train, y_test = train_test_split(X, y, test_size=0.33, random_state=42)\n",
    "print(X_train[0:5])\n",
    "print(y_train[0:5])"
   ]
  },
  {
   "cell_type": "code",
   "execution_count": 163,
   "id": "7abac23e",
   "metadata": {},
   "outputs": [],
   "source": [
    "clf = tree.DecisionTreeRegressor()\n",
    "clf = clf.fit(X_train, y_train)"
   ]
  },
  {
   "cell_type": "code",
   "execution_count": 164,
   "id": "09e9cec6",
   "metadata": {},
   "outputs": [
    {
     "name": "stdout",
     "output_type": "stream",
     "text": [
      "              precision    recall  f1-score   support\n",
      "\n",
      "           3       0.60      0.73      0.66    231585\n",
      "           4       0.55      0.40      0.46    187853\n",
      "           6       0.65      0.52      0.58     20535\n",
      "           7       0.43      0.65      0.52     14665\n",
      "           8       0.40      0.07      0.12      7528\n",
      "           9       0.22      0.58      0.32      1979\n",
      "          10       0.23      0.30      0.26      2219\n",
      "          11       0.96      0.85      0.90     13229\n",
      "\n",
      "    accuracy                           0.58    479593\n",
      "   macro avg       0.50      0.51      0.48    479593\n",
      "weighted avg       0.58      0.58      0.57    479593\n",
      "\n"
     ]
    }
   ],
   "source": [
    "y_pred = clf.predict(X_test).round()\n",
    "print(classification_report(y_test, y_pred))"
   ]
  },
  {
   "cell_type": "code",
   "execution_count": null,
   "id": "7fa3ade2",
   "metadata": {},
   "outputs": [],
   "source": []
  }
 ],
 "metadata": {
  "kernelspec": {
   "display_name": "Python 3",
   "language": "python",
   "name": "python3"
  },
  "language_info": {
   "codemirror_mode": {
    "name": "ipython",
    "version": 3
   },
   "file_extension": ".py",
   "mimetype": "text/x-python",
   "name": "python",
   "nbconvert_exporter": "python",
   "pygments_lexer": "ipython3",
   "version": "3.8.10"
  },
  "vscode": {
   "interpreter": {
    "hash": "31f2aee4e71d21fbe5cf8b01ff0e069b9275f58929596ceb00d14d90e3e16cd6"
   }
  }
 },
 "nbformat": 4,
 "nbformat_minor": 5
}
