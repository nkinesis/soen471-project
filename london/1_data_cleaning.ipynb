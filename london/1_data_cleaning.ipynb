{
 "cells": [
  {
   "cell_type": "code",
   "execution_count": 25,
   "id": "ad39133a",
   "metadata": {},
   "outputs": [],
   "source": [
    "import pandas as pd\n",
    "from datetime import datetime"
   ]
  },
  {
   "cell_type": "code",
   "execution_count": 26,
   "id": "fe7227ef",
   "metadata": {},
   "outputs": [],
   "source": [
    "def print_all(arr):\n",
    "    for item in arr:\n",
    "        print(item)"
   ]
  },
  {
   "cell_type": "code",
   "execution_count": 27,
   "id": "515bd07a",
   "metadata": {},
   "outputs": [
    {
     "name": "stdout",
     "output_type": "stream",
     "text": [
      "Count: 1465060\n"
     ]
    }
   ],
   "source": [
    "# load the dataset with columns we intend to use\n",
    "usedcols = ['DateOfCall', 'CalYear', 'HourOfCall', 'IncidentGroup', \n",
    "'PropertyType', 'PumpHoursRoundUp', 'NumPumpsAttending', \n",
    "'Notional Cost (£)', 'PropertyCategory']\n",
    "ds = pd.read_csv('data/lfb_incident.csv', usecols=usedcols)\n",
    "print(\"Count:\", len(ds))"
   ]
  },
  {
   "cell_type": "code",
   "execution_count": 28,
   "id": "196e273f",
   "metadata": {},
   "outputs": [
    {
     "name": "stdout",
     "output_type": "stream",
     "text": [
      "Count: 1453312\n"
     ]
    }
   ],
   "source": [
    "# filter: remove row if there is nan in any other column\n",
    "ds3 = ds.dropna()\n",
    "print(\"Count:\", len(ds3))"
   ]
  },
  {
   "cell_type": "code",
   "execution_count": 29,
   "id": "34ab9f17",
   "metadata": {},
   "outputs": [
    {
     "data": {
      "text/html": [
       "<div>\n",
       "<style scoped>\n",
       "    .dataframe tbody tr th:only-of-type {\n",
       "        vertical-align: middle;\n",
       "    }\n",
       "\n",
       "    .dataframe tbody tr th {\n",
       "        vertical-align: top;\n",
       "    }\n",
       "\n",
       "    .dataframe thead th {\n",
       "        text-align: right;\n",
       "    }\n",
       "</style>\n",
       "<table border=\"1\" class=\"dataframe\">\n",
       "  <thead>\n",
       "    <tr style=\"text-align: right;\">\n",
       "      <th></th>\n",
       "      <th>DateOfCall</th>\n",
       "      <th>CalYear</th>\n",
       "      <th>HourOfCall</th>\n",
       "      <th>IncidentGroup</th>\n",
       "      <th>PropertyCategory</th>\n",
       "      <th>PropertyType</th>\n",
       "      <th>NumPumpsAttending</th>\n",
       "      <th>PumpHoursRoundUp</th>\n",
       "      <th>Notional Cost (£)</th>\n",
       "    </tr>\n",
       "  </thead>\n",
       "  <tbody>\n",
       "    <tr>\n",
       "      <th>0</th>\n",
       "      <td>01 Jan 2009</td>\n",
       "      <td>2009</td>\n",
       "      <td>0</td>\n",
       "      <td>Special Service</td>\n",
       "      <td>Road Vehicle</td>\n",
       "      <td>Car</td>\n",
       "      <td>2.0</td>\n",
       "      <td>1.0</td>\n",
       "      <td>255.0</td>\n",
       "    </tr>\n",
       "    <tr>\n",
       "      <th>2</th>\n",
       "      <td>01 Jan 2009</td>\n",
       "      <td>2009</td>\n",
       "      <td>0</td>\n",
       "      <td>Fire</td>\n",
       "      <td>Outdoor</td>\n",
       "      <td>Road surface/pavement</td>\n",
       "      <td>1.0</td>\n",
       "      <td>1.0</td>\n",
       "      <td>255.0</td>\n",
       "    </tr>\n",
       "    <tr>\n",
       "      <th>3</th>\n",
       "      <td>01 Jan 2009</td>\n",
       "      <td>2009</td>\n",
       "      <td>0</td>\n",
       "      <td>Fire</td>\n",
       "      <td>Outdoor</td>\n",
       "      <td>Domestic garden (vegetation not equipment)</td>\n",
       "      <td>1.0</td>\n",
       "      <td>1.0</td>\n",
       "      <td>255.0</td>\n",
       "    </tr>\n",
       "  </tbody>\n",
       "</table>\n",
       "</div>"
      ],
      "text/plain": [
       "    DateOfCall  CalYear  HourOfCall    IncidentGroup PropertyCategory  \\\n",
       "0  01 Jan 2009     2009           0  Special Service     Road Vehicle   \n",
       "2  01 Jan 2009     2009           0             Fire          Outdoor   \n",
       "3  01 Jan 2009     2009           0             Fire          Outdoor   \n",
       "\n",
       "                                  PropertyType  NumPumpsAttending  \\\n",
       "0                                         Car                 2.0   \n",
       "2                       Road surface/pavement                 1.0   \n",
       "3  Domestic garden (vegetation not equipment)                 1.0   \n",
       "\n",
       "   PumpHoursRoundUp  Notional Cost (£)  \n",
       "0               1.0              255.0  \n",
       "2               1.0              255.0  \n",
       "3               1.0              255.0  "
      ]
     },
     "execution_count": 29,
     "metadata": {},
     "output_type": "execute_result"
    }
   ],
   "source": [
    "# print\n",
    "ds4 = pd.DataFrame(ds3)\n",
    "ds4[0:3]"
   ]
  },
  {
   "cell_type": "code",
   "execution_count": 30,
   "id": "6be1d057",
   "metadata": {},
   "outputs": [],
   "source": [
    "# convert: IncidentDate from date to month only\n",
    "ds4['DateOfCall'] = ds4['DateOfCall'].apply(lambda row: datetime.strptime(row, '%d %b %Y').strftime('%-m'))"
   ]
  },
  {
   "cell_type": "code",
   "execution_count": 31,
   "id": "d1433abf",
   "metadata": {},
   "outputs": [],
   "source": [
    "# check: what are all possible values for IncidentGroup?\n",
    "#print_all(ds4['IncidentGroup'].unique())\n",
    "\n",
    "ds4['NumPumpsAttending'] = ds4['NumPumpsAttending'].astype('int64')\n",
    "ds4['Notional Cost (£)'] = ds4['Notional Cost (£)'].astype('int64')\n",
    "ds4['PumpHoursRoundUp'] = ds4['PumpHoursRoundUp'].astype('int64')\n",
    "ds4['HourOfCall'] = ds4['HourOfCall'].astype('int64')\n",
    "\n",
    "# convert: IncidentGroup to categorical (integers)\n",
    "ds4['IncidentGroup'] = pd.factorize(ds4['IncidentGroup'])[0]"
   ]
  },
  {
   "cell_type": "code",
   "execution_count": 32,
   "id": "d4c9c9ed",
   "metadata": {},
   "outputs": [],
   "source": [
    "# check: what are all possible values for DESCRIPTION_GROUPE?\n",
    "#print_all(ds4['PropertyType'].unique())\n",
    "\n",
    "# convert: PropertyType to categorical (integers)\n",
    "ds4['PropertyType'] = pd.factorize(ds4['PropertyType'])[0]\n",
    "\n",
    "# convert: PropertyType to categorical (integers)\n",
    "ds4['PropertyCategory'] = pd.factorize(ds4['PropertyCategory'])[0]"
   ]
  },
  {
   "cell_type": "code",
   "execution_count": 85,
   "id": "21142bd0",
   "metadata": {},
   "outputs": [],
   "source": [
    "cost_cat = []\n",
    "for item in ds4['Notional Cost (£)'].values:\n",
    "    if item >= 0 and item < 100:\n",
    "        cost_cat.append(1)\n",
    "    elif item >= 100 and item < 200:\n",
    "        cost_cat.append(2)\n",
    "    elif item >= 200 and item < 300:\n",
    "        cost_cat.append(3)\n",
    "    elif item >= 300 and item < 400:\n",
    "        cost_cat.append(4)\n",
    "    elif item >= 400 and item < 500:\n",
    "        cost_cat.append(5)\n",
    "    elif item >= 500 and item < 600:\n",
    "        cost_cat.append(6)\n",
    "    elif item >= 600 and item < 700:\n",
    "        cost_cat.append(7)\n",
    "    elif item >= 700 and item < 800:\n",
    "        cost_cat.append(8)\n",
    "    elif item >= 800 and item < 900:\n",
    "        cost_cat.append(9)    \n",
    "    elif item >= 900 and item < 1000:\n",
    "        cost_cat.append(10)\n",
    "    else:\n",
    "        cost_cat.append(11)\n",
    "\n",
    "ds4['CostCat'] = cost_cat"
   ]
  },
  {
   "cell_type": "code",
   "execution_count": 86,
   "id": "80913115",
   "metadata": {},
   "outputs": [
    {
     "data": {
      "text/plain": [
       "3     702054\n",
       "4     569117\n",
       "6      62220\n",
       "7      44409\n",
       "11     40199\n",
       "8      22550\n",
       "10      6710\n",
       "9       6053\n",
       "Name: CostCat, dtype: int64"
      ]
     },
     "execution_count": 86,
     "metadata": {},
     "output_type": "execute_result"
    }
   ],
   "source": [
    "ds4['CostCat'].value_counts()"
   ]
  },
  {
   "cell_type": "code",
   "execution_count": 87,
   "id": "bc02002c",
   "metadata": {},
   "outputs": [],
   "source": [
    "# save dataset to disk\n",
    "ds4.to_csv('london_clean.csv', index=False)"
   ]
  },
  {
   "cell_type": "code",
   "execution_count": 36,
   "id": "22f37710",
   "metadata": {},
   "outputs": [
    {
     "data": {
      "text/plain": [
       "1453312"
      ]
     },
     "execution_count": 36,
     "metadata": {},
     "output_type": "execute_result"
    }
   ],
   "source": [
    "len(ds4)"
   ]
  },
  {
   "cell_type": "code",
   "execution_count": null,
   "id": "c2911942",
   "metadata": {},
   "outputs": [],
   "source": []
  }
 ],
 "metadata": {
  "kernelspec": {
   "display_name": "Python 3",
   "language": "python",
   "name": "python3"
  },
  "language_info": {
   "codemirror_mode": {
    "name": "ipython",
    "version": 3
   },
   "file_extension": ".py",
   "mimetype": "text/x-python",
   "name": "python",
   "nbconvert_exporter": "python",
   "pygments_lexer": "ipython3",
   "version": "3.8.10"
  },
  "vscode": {
   "interpreter": {
    "hash": "31f2aee4e71d21fbe5cf8b01ff0e069b9275f58929596ceb00d14d90e3e16cd6"
   }
  }
 },
 "nbformat": 4,
 "nbformat_minor": 5
}
