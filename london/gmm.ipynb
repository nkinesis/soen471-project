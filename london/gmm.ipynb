{
 "cells": [
  {
   "cell_type": "code",
   "execution_count": 35,
   "id": "beef6729",
   "metadata": {},
   "outputs": [],
   "source": [
    "import numpy as np\n",
    "import pandas as pd\n",
    "from sklearn.mixture import GaussianMixture\n",
    "import matplotlib.pyplot as plt"
   ]
  },
  {
   "cell_type": "code",
   "execution_count": 36,
   "id": "01b74264",
   "metadata": {},
   "outputs": [],
   "source": [
    "# define cols to load\n",
    "part = 100000\n",
    "ds = pd.read_csv('out.csv')\n",
    "ds = ds.dropna()\n",
    "ds = ds[0:part]\n",
    "\n",
    "X_train = ds[0:50000].values\n",
    "X_test = ds[50000:part].values"
   ]
  },
  {
   "cell_type": "code",
   "execution_count": 37,
   "id": "19d61e99",
   "metadata": {},
   "outputs": [
    {
     "data": {
      "text/plain": [
       "array([[  0.,   0.,   0., 319.],\n",
       "       [  0.,   1.,   1., 308.],\n",
       "       [  0.,   1.,   2., 210.],\n",
       "       [  0.,   1.,   3., 233.],\n",
       "       [  0.,   2.,   4., 172.],\n",
       "       [  0.,   0.,   0., 522.],\n",
       "       [  0.,   1.,   5., 342.],\n",
       "       [  0.,   1.,   6., 255.],\n",
       "       [  0.,   2.,   7., 297.],\n",
       "       [  0.,   0.,   8., 256.]])"
      ]
     },
     "execution_count": 37,
     "metadata": {},
     "output_type": "execute_result"
    }
   ],
   "source": [
    "X_train[0:10]"
   ]
  },
  {
   "cell_type": "code",
   "execution_count": 49,
   "id": "33828186",
   "metadata": {},
   "outputs": [],
   "source": [
    "def trainGmm(ds):\n",
    "    gm = GaussianMixture(n_components=3, random_state=0).fit(ds)\n",
    "    labels = gm.fit_predict(ds)\n",
    "    # getting unique labels\n",
    "    u_labels = np.unique(labels)\n",
    "\n",
    "    # plotting the results:\n",
    "    for i in u_labels:\n",
    "        plt.scatter(ds[labels == i , 2], ds[labels == i , 3], label = i)\n",
    "    plt.legend()\n",
    "    plt.show()\n",
    "    \n",
    "def testGmm(ds):\n",
    "    records = gm.predict_proba(ds)\n",
    "    guaiaca = []\n",
    "    for item in records:\n",
    "        guaiaca.append(np.argmax(item))\n",
    "    print(np.histogram(guaiaca, bins=3))\n",
    "    print(gm.score(ds))"
   ]
  },
  {
   "cell_type": "code",
   "execution_count": 50,
   "id": "6d938b56",
   "metadata": {},
   "outputs": [
    {
     "data": {
      "image/png": "[encoded data removed]",
      "text/plain": [
       "<Figure size 432x288 with 1 Axes>"
      ]
     },
     "metadata": {
      "needs_background": "light"
     },
     "output_type": "display_data"
    }
   ],
   "source": [
    "trainGmm(X_train)"
   ]
  },
  {
   "cell_type": "code",
   "execution_count": 51,
   "id": "6b91b43d",
   "metadata": {},
   "outputs": [
    {
     "name": "stdout",
     "output_type": "stream",
     "text": [
      "(array([25561,  8474, 15965]), array([0.        , 0.66666667, 1.33333333, 2.        ]))\n",
      "-23.232782709364578\n"
     ]
    }
   ],
   "source": [
    "testGmm(X_test)"
   ]
  },
  {
   "cell_type": "code",
   "execution_count": 59,
   "id": "61730229",
   "metadata": {},
   "outputs": [
    {
     "data": {
      "text/plain": [
       "array([[0.04942779, 0.16485199, 0.78572022]])"
      ]
     },
     "execution_count": 59,
     "metadata": {},
     "output_type": "execute_result"
    }
   ],
   "source": [
    "gm.predict_proba([X_test[5]])"
   ]
  },
  {
   "cell_type": "code",
   "execution_count": 57,
   "id": "1c41d980",
   "metadata": {},
   "outputs": [
    {
     "data": {
      "text/plain": [
       "2"
      ]
     },
     "execution_count": 57,
     "metadata": {},
     "output_type": "execute_result"
    }
   ],
   "source": [
    "labels[5]"
   ]
  },
  {
   "cell_type": "code",
   "execution_count": null,
   "id": "8ca84ea0",
   "metadata": {},
   "outputs": [],
   "source": []
  }
 ],
 "metadata": {
  "kernelspec": {
   "display_name": "Python 3 (ipykernel)",
   "language": "python",
   "name": "python3"
  },
  "language_info": {
   "codemirror_mode": {
    "name": "ipython",
    "version": 3
   },
   "file_extension": ".py",
   "mimetype": "text/x-python",
   "name": "python",
   "nbconvert_exporter": "python",
   "pygments_lexer": "ipython3",
   "version": "3.8.10"
  }
 },
 "nbformat": 4,
 "nbformat_minor": 5
}
