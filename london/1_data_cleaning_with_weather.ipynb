{
 "cells": [
  {
   "cell_type": "code",
   "execution_count": 9,
   "id": "ad39133a",
   "metadata": {},
   "outputs": [],
   "source": [
    "import pandas as pd\n",
    "from datetime import datetime"
   ]
  },
  {
   "cell_type": "code",
   "execution_count": 10,
   "id": "fe7227ef",
   "metadata": {},
   "outputs": [],
   "source": [
    "def print_all(arr):\n",
    "    for item in arr:\n",
    "        print(item)"
   ]
  },
  {
   "cell_type": "code",
   "execution_count": 11,
   "id": "515bd07a",
   "metadata": {},
   "outputs": [
    {
     "name": "stdout",
     "output_type": "stream",
     "text": [
      "Count: 1465060\n"
     ]
    }
   ],
   "source": [
    "# load the dataset with columns we intend to use\n",
    "usedcols = ['DateOfCall', 'CalYear', 'HourOfCall', 'IncidentGroup', \n",
    "'PropertyType', 'PumpHoursRoundUp', 'NumPumpsAttending', \n",
    "'Notional Cost (£)', 'PropertyCategory']\n",
    "ds = pd.read_csv('../data/lfb_incident.csv', usecols=usedcols)\n",
    "print(\"Count:\", len(ds))"
   ]
  },
  {
   "cell_type": "code",
   "execution_count": 12,
   "id": "196e273f",
   "metadata": {},
   "outputs": [
    {
     "name": "stdout",
     "output_type": "stream",
     "text": [
      "Count: 1453312\n"
     ]
    }
   ],
   "source": [
    "# filter: remove row if there is nan in any other column\n",
    "ds3 = ds.dropna()\n",
    "print(\"Count:\", len(ds3))"
   ]
  },
  {
   "cell_type": "code",
   "execution_count": 13,
   "id": "34ab9f17",
   "metadata": {},
   "outputs": [
    {
     "data": {
      "text/plain": "    DateOfCall  CalYear  HourOfCall    IncidentGroup PropertyCategory  \\\n0  01 Jan 2009     2009           0  Special Service     Road Vehicle   \n2  01 Jan 2009     2009           0             Fire          Outdoor   \n3  01 Jan 2009     2009           0             Fire          Outdoor   \n\n                                  PropertyType  NumPumpsAttending  \\\n0                                         Car                 2.0   \n2                       Road surface/pavement                 1.0   \n3  Domestic garden (vegetation not equipment)                 1.0   \n\n   PumpHoursRoundUp  Notional Cost (£)  \n0               1.0              255.0  \n2               1.0              255.0  \n3               1.0              255.0  ",
      "text/html": "<div>\n<style scoped>\n    .dataframe tbody tr th:only-of-type {\n        vertical-align: middle;\n    }\n\n    .dataframe tbody tr th {\n        vertical-align: top;\n    }\n\n    .dataframe thead th {\n        text-align: right;\n    }\n</style>\n<table border=\"1\" class=\"dataframe\">\n  <thead>\n    <tr style=\"text-align: right;\">\n      <th></th>\n      <th>DateOfCall</th>\n      <th>CalYear</th>\n      <th>HourOfCall</th>\n      <th>IncidentGroup</th>\n      <th>PropertyCategory</th>\n      <th>PropertyType</th>\n      <th>NumPumpsAttending</th>\n      <th>PumpHoursRoundUp</th>\n      <th>Notional Cost (£)</th>\n    </tr>\n  </thead>\n  <tbody>\n    <tr>\n      <th>0</th>\n      <td>01 Jan 2009</td>\n      <td>2009</td>\n      <td>0</td>\n      <td>Special Service</td>\n      <td>Road Vehicle</td>\n      <td>Car</td>\n      <td>2.0</td>\n      <td>1.0</td>\n      <td>255.0</td>\n    </tr>\n    <tr>\n      <th>2</th>\n      <td>01 Jan 2009</td>\n      <td>2009</td>\n      <td>0</td>\n      <td>Fire</td>\n      <td>Outdoor</td>\n      <td>Road surface/pavement</td>\n      <td>1.0</td>\n      <td>1.0</td>\n      <td>255.0</td>\n    </tr>\n    <tr>\n      <th>3</th>\n      <td>01 Jan 2009</td>\n      <td>2009</td>\n      <td>0</td>\n      <td>Fire</td>\n      <td>Outdoor</td>\n      <td>Domestic garden (vegetation not equipment)</td>\n      <td>1.0</td>\n      <td>1.0</td>\n      <td>255.0</td>\n    </tr>\n  </tbody>\n</table>\n</div>"
     },
     "execution_count": 13,
     "metadata": {},
     "output_type": "execute_result"
    }
   ],
   "source": [
    "# print\n",
    "ds4 = pd.DataFrame(ds3)\n",
    "ds4[0:3]"
   ]
  },
  {
   "cell_type": "markdown",
   "source": [
    "duplicate the date for inner join"
   ],
   "metadata": {
    "collapsed": false
   }
  },
  {
   "cell_type": "code",
   "execution_count": 14,
   "outputs": [],
   "source": [
    "ds4['Date'] = ds4['DateOfCall']"
   ],
   "metadata": {
    "collapsed": false
   }
  },
  {
   "cell_type": "code",
   "execution_count": 15,
   "outputs": [
    {
     "data": {
      "text/plain": "          DateOfCall  CalYear  HourOfCall    IncidentGroup PropertyCategory  \\\n0        01 Jan 2009     2009           0  Special Service     Road Vehicle   \n2        01 Jan 2009     2009           0             Fire          Outdoor   \n3        01 Jan 2009     2009           0             Fire          Outdoor   \n4        01 Jan 2009     2009           0             Fire          Outdoor   \n5        01 Jan 2009     2009           0      False Alarm         Dwelling   \n...              ...      ...         ...              ...              ...   \n1465055  30 Jun 2022     2022          23      False Alarm  Non Residential   \n1465056  30 Jun 2022     2022          23  Special Service         Dwelling   \n1465057  30 Jun 2022     2022          23      False Alarm  Non Residential   \n1465058  30 Jun 2022     2022          23      False Alarm         Dwelling   \n1465059  30 Jun 2022     2022          23  Special Service         Dwelling   \n\n                                              PropertyType  NumPumpsAttending  \\\n0                                                     Car                 2.0   \n2                                   Road surface/pavement                 1.0   \n3              Domestic garden (vegetation not equipment)                 1.0   \n4                    Cycle path/public footpath/bridleway                 2.0   \n5        Purpose Built Flats/Maisonettes - Up to 3 stor...                2.0   \n...                                                    ...                ...   \n1465055                                         Warehouse                 1.0   \n1465056  Purpose Built Flats/Maisonettes - Up to 3 stor...                1.0   \n1465057                                  Pub/wine bar/bar                 1.0   \n1465058  Purpose Built Flats/Maisonettes - 4 to 9 storeys                 1.0   \n1465059  Purpose Built Flats/Maisonettes - 4 to 9 storeys                 1.0   \n\n         PumpHoursRoundUp  Notional Cost (£)         Date  \n0                     1.0              255.0  01 Jan 2009  \n2                     1.0              255.0  01 Jan 2009  \n3                     1.0              255.0  01 Jan 2009  \n4                     1.0              255.0  01 Jan 2009  \n5                     1.0              255.0  01 Jan 2009  \n...                   ...                ...          ...  \n1465055               1.0              364.0  30 Jun 2022  \n1465056               1.0              364.0  30 Jun 2022  \n1465057               1.0              364.0  30 Jun 2022  \n1465058               1.0              364.0  30 Jun 2022  \n1465059               1.0              364.0  30 Jun 2022  \n\n[1453312 rows x 10 columns]",
      "text/html": "<div>\n<style scoped>\n    .dataframe tbody tr th:only-of-type {\n        vertical-align: middle;\n    }\n\n    .dataframe tbody tr th {\n        vertical-align: top;\n    }\n\n    .dataframe thead th {\n        text-align: right;\n    }\n</style>\n<table border=\"1\" class=\"dataframe\">\n  <thead>\n    <tr style=\"text-align: right;\">\n      <th></th>\n      <th>DateOfCall</th>\n      <th>CalYear</th>\n      <th>HourOfCall</th>\n      <th>IncidentGroup</th>\n      <th>PropertyCategory</th>\n      <th>PropertyType</th>\n      <th>NumPumpsAttending</th>\n      <th>PumpHoursRoundUp</th>\n      <th>Notional Cost (£)</th>\n      <th>Date</th>\n    </tr>\n  </thead>\n  <tbody>\n    <tr>\n      <th>0</th>\n      <td>01 Jan 2009</td>\n      <td>2009</td>\n      <td>0</td>\n      <td>Special Service</td>\n      <td>Road Vehicle</td>\n      <td>Car</td>\n      <td>2.0</td>\n      <td>1.0</td>\n      <td>255.0</td>\n      <td>01 Jan 2009</td>\n    </tr>\n    <tr>\n      <th>2</th>\n      <td>01 Jan 2009</td>\n      <td>2009</td>\n      <td>0</td>\n      <td>Fire</td>\n      <td>Outdoor</td>\n      <td>Road surface/pavement</td>\n      <td>1.0</td>\n      <td>1.0</td>\n      <td>255.0</td>\n      <td>01 Jan 2009</td>\n    </tr>\n    <tr>\n      <th>3</th>\n      <td>01 Jan 2009</td>\n      <td>2009</td>\n      <td>0</td>\n      <td>Fire</td>\n      <td>Outdoor</td>\n      <td>Domestic garden (vegetation not equipment)</td>\n      <td>1.0</td>\n      <td>1.0</td>\n      <td>255.0</td>\n      <td>01 Jan 2009</td>\n    </tr>\n    <tr>\n      <th>4</th>\n      <td>01 Jan 2009</td>\n      <td>2009</td>\n      <td>0</td>\n      <td>Fire</td>\n      <td>Outdoor</td>\n      <td>Cycle path/public footpath/bridleway</td>\n      <td>2.0</td>\n      <td>1.0</td>\n      <td>255.0</td>\n      <td>01 Jan 2009</td>\n    </tr>\n    <tr>\n      <th>5</th>\n      <td>01 Jan 2009</td>\n      <td>2009</td>\n      <td>0</td>\n      <td>False Alarm</td>\n      <td>Dwelling</td>\n      <td>Purpose Built Flats/Maisonettes - Up to 3 stor...</td>\n      <td>2.0</td>\n      <td>1.0</td>\n      <td>255.0</td>\n      <td>01 Jan 2009</td>\n    </tr>\n    <tr>\n      <th>...</th>\n      <td>...</td>\n      <td>...</td>\n      <td>...</td>\n      <td>...</td>\n      <td>...</td>\n      <td>...</td>\n      <td>...</td>\n      <td>...</td>\n      <td>...</td>\n      <td>...</td>\n    </tr>\n    <tr>\n      <th>1465055</th>\n      <td>30 Jun 2022</td>\n      <td>2022</td>\n      <td>23</td>\n      <td>False Alarm</td>\n      <td>Non Residential</td>\n      <td>Warehouse</td>\n      <td>1.0</td>\n      <td>1.0</td>\n      <td>364.0</td>\n      <td>30 Jun 2022</td>\n    </tr>\n    <tr>\n      <th>1465056</th>\n      <td>30 Jun 2022</td>\n      <td>2022</td>\n      <td>23</td>\n      <td>Special Service</td>\n      <td>Dwelling</td>\n      <td>Purpose Built Flats/Maisonettes - Up to 3 stor...</td>\n      <td>1.0</td>\n      <td>1.0</td>\n      <td>364.0</td>\n      <td>30 Jun 2022</td>\n    </tr>\n    <tr>\n      <th>1465057</th>\n      <td>30 Jun 2022</td>\n      <td>2022</td>\n      <td>23</td>\n      <td>False Alarm</td>\n      <td>Non Residential</td>\n      <td>Pub/wine bar/bar</td>\n      <td>1.0</td>\n      <td>1.0</td>\n      <td>364.0</td>\n      <td>30 Jun 2022</td>\n    </tr>\n    <tr>\n      <th>1465058</th>\n      <td>30 Jun 2022</td>\n      <td>2022</td>\n      <td>23</td>\n      <td>False Alarm</td>\n      <td>Dwelling</td>\n      <td>Purpose Built Flats/Maisonettes - 4 to 9 storeys</td>\n      <td>1.0</td>\n      <td>1.0</td>\n      <td>364.0</td>\n      <td>30 Jun 2022</td>\n    </tr>\n    <tr>\n      <th>1465059</th>\n      <td>30 Jun 2022</td>\n      <td>2022</td>\n      <td>23</td>\n      <td>Special Service</td>\n      <td>Dwelling</td>\n      <td>Purpose Built Flats/Maisonettes - 4 to 9 storeys</td>\n      <td>1.0</td>\n      <td>1.0</td>\n      <td>364.0</td>\n      <td>30 Jun 2022</td>\n    </tr>\n  </tbody>\n</table>\n<p>1453312 rows × 10 columns</p>\n</div>"
     },
     "execution_count": 15,
     "metadata": {},
     "output_type": "execute_result"
    }
   ],
   "source": [
    "ds4"
   ],
   "metadata": {
    "collapsed": false
   }
  },
  {
   "cell_type": "code",
   "execution_count": 16,
   "outputs": [],
   "source": [
    "ds4['Date'] = pd.to_datetime(ds4['Date']).dt.strftime('%m/%d/%Y')"
   ],
   "metadata": {
    "collapsed": false
   }
  },
  {
   "cell_type": "code",
   "execution_count": 17,
   "outputs": [
    {
     "data": {
      "text/plain": "          DateOfCall  CalYear  HourOfCall    IncidentGroup PropertyCategory  \\\n0        01 Jan 2009     2009           0  Special Service     Road Vehicle   \n2        01 Jan 2009     2009           0             Fire          Outdoor   \n3        01 Jan 2009     2009           0             Fire          Outdoor   \n4        01 Jan 2009     2009           0             Fire          Outdoor   \n5        01 Jan 2009     2009           0      False Alarm         Dwelling   \n...              ...      ...         ...              ...              ...   \n1465055  30 Jun 2022     2022          23      False Alarm  Non Residential   \n1465056  30 Jun 2022     2022          23  Special Service         Dwelling   \n1465057  30 Jun 2022     2022          23      False Alarm  Non Residential   \n1465058  30 Jun 2022     2022          23      False Alarm         Dwelling   \n1465059  30 Jun 2022     2022          23  Special Service         Dwelling   \n\n                                              PropertyType  NumPumpsAttending  \\\n0                                                     Car                 2.0   \n2                                   Road surface/pavement                 1.0   \n3              Domestic garden (vegetation not equipment)                 1.0   \n4                    Cycle path/public footpath/bridleway                 2.0   \n5        Purpose Built Flats/Maisonettes - Up to 3 stor...                2.0   \n...                                                    ...                ...   \n1465055                                         Warehouse                 1.0   \n1465056  Purpose Built Flats/Maisonettes - Up to 3 stor...                1.0   \n1465057                                  Pub/wine bar/bar                 1.0   \n1465058  Purpose Built Flats/Maisonettes - 4 to 9 storeys                 1.0   \n1465059  Purpose Built Flats/Maisonettes - 4 to 9 storeys                 1.0   \n\n         PumpHoursRoundUp  Notional Cost (£)        Date  \n0                     1.0              255.0  01/01/2009  \n2                     1.0              255.0  01/01/2009  \n3                     1.0              255.0  01/01/2009  \n4                     1.0              255.0  01/01/2009  \n5                     1.0              255.0  01/01/2009  \n...                   ...                ...         ...  \n1465055               1.0              364.0  06/30/2022  \n1465056               1.0              364.0  06/30/2022  \n1465057               1.0              364.0  06/30/2022  \n1465058               1.0              364.0  06/30/2022  \n1465059               1.0              364.0  06/30/2022  \n\n[1453312 rows x 10 columns]",
      "text/html": "<div>\n<style scoped>\n    .dataframe tbody tr th:only-of-type {\n        vertical-align: middle;\n    }\n\n    .dataframe tbody tr th {\n        vertical-align: top;\n    }\n\n    .dataframe thead th {\n        text-align: right;\n    }\n</style>\n<table border=\"1\" class=\"dataframe\">\n  <thead>\n    <tr style=\"text-align: right;\">\n      <th></th>\n      <th>DateOfCall</th>\n      <th>CalYear</th>\n      <th>HourOfCall</th>\n      <th>IncidentGroup</th>\n      <th>PropertyCategory</th>\n      <th>PropertyType</th>\n      <th>NumPumpsAttending</th>\n      <th>PumpHoursRoundUp</th>\n      <th>Notional Cost (£)</th>\n      <th>Date</th>\n    </tr>\n  </thead>\n  <tbody>\n    <tr>\n      <th>0</th>\n      <td>01 Jan 2009</td>\n      <td>2009</td>\n      <td>0</td>\n      <td>Special Service</td>\n      <td>Road Vehicle</td>\n      <td>Car</td>\n      <td>2.0</td>\n      <td>1.0</td>\n      <td>255.0</td>\n      <td>01/01/2009</td>\n    </tr>\n    <tr>\n      <th>2</th>\n      <td>01 Jan 2009</td>\n      <td>2009</td>\n      <td>0</td>\n      <td>Fire</td>\n      <td>Outdoor</td>\n      <td>Road surface/pavement</td>\n      <td>1.0</td>\n      <td>1.0</td>\n      <td>255.0</td>\n      <td>01/01/2009</td>\n    </tr>\n    <tr>\n      <th>3</th>\n      <td>01 Jan 2009</td>\n      <td>2009</td>\n      <td>0</td>\n      <td>Fire</td>\n      <td>Outdoor</td>\n      <td>Domestic garden (vegetation not equipment)</td>\n      <td>1.0</td>\n      <td>1.0</td>\n      <td>255.0</td>\n      <td>01/01/2009</td>\n    </tr>\n    <tr>\n      <th>4</th>\n      <td>01 Jan 2009</td>\n      <td>2009</td>\n      <td>0</td>\n      <td>Fire</td>\n      <td>Outdoor</td>\n      <td>Cycle path/public footpath/bridleway</td>\n      <td>2.0</td>\n      <td>1.0</td>\n      <td>255.0</td>\n      <td>01/01/2009</td>\n    </tr>\n    <tr>\n      <th>5</th>\n      <td>01 Jan 2009</td>\n      <td>2009</td>\n      <td>0</td>\n      <td>False Alarm</td>\n      <td>Dwelling</td>\n      <td>Purpose Built Flats/Maisonettes - Up to 3 stor...</td>\n      <td>2.0</td>\n      <td>1.0</td>\n      <td>255.0</td>\n      <td>01/01/2009</td>\n    </tr>\n    <tr>\n      <th>...</th>\n      <td>...</td>\n      <td>...</td>\n      <td>...</td>\n      <td>...</td>\n      <td>...</td>\n      <td>...</td>\n      <td>...</td>\n      <td>...</td>\n      <td>...</td>\n      <td>...</td>\n    </tr>\n    <tr>\n      <th>1465055</th>\n      <td>30 Jun 2022</td>\n      <td>2022</td>\n      <td>23</td>\n      <td>False Alarm</td>\n      <td>Non Residential</td>\n      <td>Warehouse</td>\n      <td>1.0</td>\n      <td>1.0</td>\n      <td>364.0</td>\n      <td>06/30/2022</td>\n    </tr>\n    <tr>\n      <th>1465056</th>\n      <td>30 Jun 2022</td>\n      <td>2022</td>\n      <td>23</td>\n      <td>Special Service</td>\n      <td>Dwelling</td>\n      <td>Purpose Built Flats/Maisonettes - Up to 3 stor...</td>\n      <td>1.0</td>\n      <td>1.0</td>\n      <td>364.0</td>\n      <td>06/30/2022</td>\n    </tr>\n    <tr>\n      <th>1465057</th>\n      <td>30 Jun 2022</td>\n      <td>2022</td>\n      <td>23</td>\n      <td>False Alarm</td>\n      <td>Non Residential</td>\n      <td>Pub/wine bar/bar</td>\n      <td>1.0</td>\n      <td>1.0</td>\n      <td>364.0</td>\n      <td>06/30/2022</td>\n    </tr>\n    <tr>\n      <th>1465058</th>\n      <td>30 Jun 2022</td>\n      <td>2022</td>\n      <td>23</td>\n      <td>False Alarm</td>\n      <td>Dwelling</td>\n      <td>Purpose Built Flats/Maisonettes - 4 to 9 storeys</td>\n      <td>1.0</td>\n      <td>1.0</td>\n      <td>364.0</td>\n      <td>06/30/2022</td>\n    </tr>\n    <tr>\n      <th>1465059</th>\n      <td>30 Jun 2022</td>\n      <td>2022</td>\n      <td>23</td>\n      <td>Special Service</td>\n      <td>Dwelling</td>\n      <td>Purpose Built Flats/Maisonettes - 4 to 9 storeys</td>\n      <td>1.0</td>\n      <td>1.0</td>\n      <td>364.0</td>\n      <td>06/30/2022</td>\n    </tr>\n  </tbody>\n</table>\n<p>1453312 rows × 10 columns</p>\n</div>"
     },
     "execution_count": 17,
     "metadata": {},
     "output_type": "execute_result"
    }
   ],
   "source": [
    "ds4"
   ],
   "metadata": {
    "collapsed": false
   }
  },
  {
   "cell_type": "code",
   "execution_count": 18,
   "id": "6be1d057",
   "metadata": {},
   "outputs": [],
   "source": [
    "# convert: IncidentDate from date to month only\n",
    "ds4['DateOfCall'] = pd.to_datetime(ds4['DateOfCall']).dt.month"
   ]
  },
  {
   "cell_type": "code",
   "execution_count": 19,
   "outputs": [
    {
     "data": {
      "text/plain": "         DateOfCall  CalYear  HourOfCall    IncidentGroup PropertyCategory  \\\n0                 1     2009           0  Special Service     Road Vehicle   \n2                 1     2009           0             Fire          Outdoor   \n3                 1     2009           0             Fire          Outdoor   \n4                 1     2009           0             Fire          Outdoor   \n5                 1     2009           0      False Alarm         Dwelling   \n...             ...      ...         ...              ...              ...   \n1465055           6     2022          23      False Alarm  Non Residential   \n1465056           6     2022          23  Special Service         Dwelling   \n1465057           6     2022          23      False Alarm  Non Residential   \n1465058           6     2022          23      False Alarm         Dwelling   \n1465059           6     2022          23  Special Service         Dwelling   \n\n                                              PropertyType  NumPumpsAttending  \\\n0                                                     Car                 2.0   \n2                                   Road surface/pavement                 1.0   \n3              Domestic garden (vegetation not equipment)                 1.0   \n4                    Cycle path/public footpath/bridleway                 2.0   \n5        Purpose Built Flats/Maisonettes - Up to 3 stor...                2.0   \n...                                                    ...                ...   \n1465055                                         Warehouse                 1.0   \n1465056  Purpose Built Flats/Maisonettes - Up to 3 stor...                1.0   \n1465057                                  Pub/wine bar/bar                 1.0   \n1465058  Purpose Built Flats/Maisonettes - 4 to 9 storeys                 1.0   \n1465059  Purpose Built Flats/Maisonettes - 4 to 9 storeys                 1.0   \n\n         PumpHoursRoundUp  Notional Cost (£)        Date  \n0                     1.0              255.0  01/01/2009  \n2                     1.0              255.0  01/01/2009  \n3                     1.0              255.0  01/01/2009  \n4                     1.0              255.0  01/01/2009  \n5                     1.0              255.0  01/01/2009  \n...                   ...                ...         ...  \n1465055               1.0              364.0  06/30/2022  \n1465056               1.0              364.0  06/30/2022  \n1465057               1.0              364.0  06/30/2022  \n1465058               1.0              364.0  06/30/2022  \n1465059               1.0              364.0  06/30/2022  \n\n[1453312 rows x 10 columns]",
      "text/html": "<div>\n<style scoped>\n    .dataframe tbody tr th:only-of-type {\n        vertical-align: middle;\n    }\n\n    .dataframe tbody tr th {\n        vertical-align: top;\n    }\n\n    .dataframe thead th {\n        text-align: right;\n    }\n</style>\n<table border=\"1\" class=\"dataframe\">\n  <thead>\n    <tr style=\"text-align: right;\">\n      <th></th>\n      <th>DateOfCall</th>\n      <th>CalYear</th>\n      <th>HourOfCall</th>\n      <th>IncidentGroup</th>\n      <th>PropertyCategory</th>\n      <th>PropertyType</th>\n      <th>NumPumpsAttending</th>\n      <th>PumpHoursRoundUp</th>\n      <th>Notional Cost (£)</th>\n      <th>Date</th>\n    </tr>\n  </thead>\n  <tbody>\n    <tr>\n      <th>0</th>\n      <td>1</td>\n      <td>2009</td>\n      <td>0</td>\n      <td>Special Service</td>\n      <td>Road Vehicle</td>\n      <td>Car</td>\n      <td>2.0</td>\n      <td>1.0</td>\n      <td>255.0</td>\n      <td>01/01/2009</td>\n    </tr>\n    <tr>\n      <th>2</th>\n      <td>1</td>\n      <td>2009</td>\n      <td>0</td>\n      <td>Fire</td>\n      <td>Outdoor</td>\n      <td>Road surface/pavement</td>\n      <td>1.0</td>\n      <td>1.0</td>\n      <td>255.0</td>\n      <td>01/01/2009</td>\n    </tr>\n    <tr>\n      <th>3</th>\n      <td>1</td>\n      <td>2009</td>\n      <td>0</td>\n      <td>Fire</td>\n      <td>Outdoor</td>\n      <td>Domestic garden (vegetation not equipment)</td>\n      <td>1.0</td>\n      <td>1.0</td>\n      <td>255.0</td>\n      <td>01/01/2009</td>\n    </tr>\n    <tr>\n      <th>4</th>\n      <td>1</td>\n      <td>2009</td>\n      <td>0</td>\n      <td>Fire</td>\n      <td>Outdoor</td>\n      <td>Cycle path/public footpath/bridleway</td>\n      <td>2.0</td>\n      <td>1.0</td>\n      <td>255.0</td>\n      <td>01/01/2009</td>\n    </tr>\n    <tr>\n      <th>5</th>\n      <td>1</td>\n      <td>2009</td>\n      <td>0</td>\n      <td>False Alarm</td>\n      <td>Dwelling</td>\n      <td>Purpose Built Flats/Maisonettes - Up to 3 stor...</td>\n      <td>2.0</td>\n      <td>1.0</td>\n      <td>255.0</td>\n      <td>01/01/2009</td>\n    </tr>\n    <tr>\n      <th>...</th>\n      <td>...</td>\n      <td>...</td>\n      <td>...</td>\n      <td>...</td>\n      <td>...</td>\n      <td>...</td>\n      <td>...</td>\n      <td>...</td>\n      <td>...</td>\n      <td>...</td>\n    </tr>\n    <tr>\n      <th>1465055</th>\n      <td>6</td>\n      <td>2022</td>\n      <td>23</td>\n      <td>False Alarm</td>\n      <td>Non Residential</td>\n      <td>Warehouse</td>\n      <td>1.0</td>\n      <td>1.0</td>\n      <td>364.0</td>\n      <td>06/30/2022</td>\n    </tr>\n    <tr>\n      <th>1465056</th>\n      <td>6</td>\n      <td>2022</td>\n      <td>23</td>\n      <td>Special Service</td>\n      <td>Dwelling</td>\n      <td>Purpose Built Flats/Maisonettes - Up to 3 stor...</td>\n      <td>1.0</td>\n      <td>1.0</td>\n      <td>364.0</td>\n      <td>06/30/2022</td>\n    </tr>\n    <tr>\n      <th>1465057</th>\n      <td>6</td>\n      <td>2022</td>\n      <td>23</td>\n      <td>False Alarm</td>\n      <td>Non Residential</td>\n      <td>Pub/wine bar/bar</td>\n      <td>1.0</td>\n      <td>1.0</td>\n      <td>364.0</td>\n      <td>06/30/2022</td>\n    </tr>\n    <tr>\n      <th>1465058</th>\n      <td>6</td>\n      <td>2022</td>\n      <td>23</td>\n      <td>False Alarm</td>\n      <td>Dwelling</td>\n      <td>Purpose Built Flats/Maisonettes - 4 to 9 storeys</td>\n      <td>1.0</td>\n      <td>1.0</td>\n      <td>364.0</td>\n      <td>06/30/2022</td>\n    </tr>\n    <tr>\n      <th>1465059</th>\n      <td>6</td>\n      <td>2022</td>\n      <td>23</td>\n      <td>Special Service</td>\n      <td>Dwelling</td>\n      <td>Purpose Built Flats/Maisonettes - 4 to 9 storeys</td>\n      <td>1.0</td>\n      <td>1.0</td>\n      <td>364.0</td>\n      <td>06/30/2022</td>\n    </tr>\n  </tbody>\n</table>\n<p>1453312 rows × 10 columns</p>\n</div>"
     },
     "execution_count": 19,
     "metadata": {},
     "output_type": "execute_result"
    }
   ],
   "source": [
    "ds4"
   ],
   "metadata": {
    "collapsed": false
   }
  },
  {
   "cell_type": "code",
   "execution_count": 20,
   "id": "d1433abf",
   "metadata": {},
   "outputs": [],
   "source": [
    "# check: what are all possible values for IncidentGroup?\n",
    "#print_all(ds4['IncidentGroup'].unique())\n",
    "\n",
    "ds4['NumPumpsAttending'] = ds4['NumPumpsAttending'].astype('int64')\n",
    "ds4['Notional Cost (£)'] = ds4['Notional Cost (£)'].astype('int64')\n",
    "ds4['PumpHoursRoundUp'] = ds4['PumpHoursRoundUp'].astype('int64')\n",
    "ds4['HourOfCall'] = ds4['HourOfCall'].astype('int64')\n",
    "\n",
    "# convert: IncidentGroup to categorical (integers)\n",
    "ds4['IncidentGroup'] = pd.factorize(ds4['IncidentGroup'])[0]"
   ]
  },
  {
   "cell_type": "code",
   "execution_count": 21,
   "id": "d4c9c9ed",
   "metadata": {},
   "outputs": [],
   "source": [
    "# check: what are all possible values for DESCRIPTION_GROUPE?\n",
    "#print_all(ds4['PropertyType'].unique())\n",
    "\n",
    "# convert: PropertyType to categorical (integers)\n",
    "ds4['PropertyType'] = pd.factorize(ds4['PropertyType'])[0]\n",
    "\n",
    "# convert: PropertyType to categorical (integers)\n",
    "ds4['PropertyCategory'] = pd.factorize(ds4['PropertyCategory'])[0]"
   ]
  },
  {
   "cell_type": "code",
   "execution_count": 22,
   "id": "21142bd0",
   "metadata": {},
   "outputs": [],
   "source": [
    "cost_cat = []\n",
    "for item in ds4['Notional Cost (£)'].values:\n",
    "    if item >= 0 and item < 100:\n",
    "        cost_cat.append(1)\n",
    "    elif item >= 100 and item < 200:\n",
    "        cost_cat.append(2)\n",
    "    elif item >= 200 and item < 300:\n",
    "        cost_cat.append(3)\n",
    "    elif item >= 300 and item < 400:\n",
    "        cost_cat.append(4)\n",
    "    elif item >= 400 and item < 500:\n",
    "        cost_cat.append(5)\n",
    "    elif item >= 500 and item < 600:\n",
    "        cost_cat.append(6)\n",
    "    elif item >= 600 and item < 700:\n",
    "        cost_cat.append(7)\n",
    "    elif item >= 700 and item < 800:\n",
    "        cost_cat.append(8)\n",
    "    elif item >= 800 and item < 900:\n",
    "        cost_cat.append(9)    \n",
    "    elif item >= 900 and item < 1000:\n",
    "        cost_cat.append(10)\n",
    "    else:\n",
    "        cost_cat.append(11)\n",
    "\n",
    "ds4['CostCat'] = cost_cat"
   ]
  },
  {
   "cell_type": "code",
   "execution_count": 23,
   "id": "80913115",
   "metadata": {},
   "outputs": [
    {
     "data": {
      "text/plain": "3     702054\n4     569117\n6      62220\n7      44409\n11     40199\n8      22550\n10      6710\n9       6053\nName: CostCat, dtype: int64"
     },
     "execution_count": 23,
     "metadata": {},
     "output_type": "execute_result"
    }
   ],
   "source": [
    "ds4['CostCat'].value_counts()"
   ]
  },
  {
   "cell_type": "code",
   "execution_count": 24,
   "id": "bc02002c",
   "metadata": {},
   "outputs": [],
   "source": [
    "# save dataset to disk\n",
    "ds4.to_csv('london_clean.csv', index=False)"
   ]
  },
  {
   "cell_type": "code",
   "execution_count": 25,
   "id": "22f37710",
   "metadata": {},
   "outputs": [
    {
     "data": {
      "text/plain": "1453312"
     },
     "execution_count": 25,
     "metadata": {},
     "output_type": "execute_result"
    }
   ],
   "source": [
    "len(ds4)"
   ]
  },
  {
   "cell_type": "code",
   "execution_count": 26,
   "outputs": [
    {
     "data": {
      "text/plain": "         DateOfCall  CalYear  HourOfCall  IncidentGroup  PropertyCategory  \\\n0                 1     2009           0              0                 0   \n2                 1     2009           0              1                 1   \n3                 1     2009           0              1                 1   \n4                 1     2009           0              1                 1   \n5                 1     2009           0              2                 2   \n...             ...      ...         ...            ...               ...   \n1465055           6     2022          23              2                 5   \n1465056           6     2022          23              0                 2   \n1465057           6     2022          23              2                 5   \n1465058           6     2022          23              2                 2   \n1465059           6     2022          23              0                 2   \n\n         PropertyType  NumPumpsAttending  PumpHoursRoundUp  Notional Cost (£)  \\\n0                   0                  2                 1                255   \n2                   1                  1                 1                255   \n3                   2                  1                 1                255   \n4                   3                  2                 1                255   \n5                   4                  2                 1                255   \n...               ...                ...               ...                ...   \n1465055           101                  1                 1                364   \n1465056             4                  1                 1                364   \n1465057            83                  1                 1                364   \n1465058            12                  1                 1                364   \n1465059            12                  1                 1                364   \n\n               Date  CostCat  \n0        01/01/2009        3  \n2        01/01/2009        3  \n3        01/01/2009        3  \n4        01/01/2009        3  \n5        01/01/2009        3  \n...             ...      ...  \n1465055  06/30/2022        4  \n1465056  06/30/2022        4  \n1465057  06/30/2022        4  \n1465058  06/30/2022        4  \n1465059  06/30/2022        4  \n\n[1453312 rows x 11 columns]",
      "text/html": "<div>\n<style scoped>\n    .dataframe tbody tr th:only-of-type {\n        vertical-align: middle;\n    }\n\n    .dataframe tbody tr th {\n        vertical-align: top;\n    }\n\n    .dataframe thead th {\n        text-align: right;\n    }\n</style>\n<table border=\"1\" class=\"dataframe\">\n  <thead>\n    <tr style=\"text-align: right;\">\n      <th></th>\n      <th>DateOfCall</th>\n      <th>CalYear</th>\n      <th>HourOfCall</th>\n      <th>IncidentGroup</th>\n      <th>PropertyCategory</th>\n      <th>PropertyType</th>\n      <th>NumPumpsAttending</th>\n      <th>PumpHoursRoundUp</th>\n      <th>Notional Cost (£)</th>\n      <th>Date</th>\n      <th>CostCat</th>\n    </tr>\n  </thead>\n  <tbody>\n    <tr>\n      <th>0</th>\n      <td>1</td>\n      <td>2009</td>\n      <td>0</td>\n      <td>0</td>\n      <td>0</td>\n      <td>0</td>\n      <td>2</td>\n      <td>1</td>\n      <td>255</td>\n      <td>01/01/2009</td>\n      <td>3</td>\n    </tr>\n    <tr>\n      <th>2</th>\n      <td>1</td>\n      <td>2009</td>\n      <td>0</td>\n      <td>1</td>\n      <td>1</td>\n      <td>1</td>\n      <td>1</td>\n      <td>1</td>\n      <td>255</td>\n      <td>01/01/2009</td>\n      <td>3</td>\n    </tr>\n    <tr>\n      <th>3</th>\n      <td>1</td>\n      <td>2009</td>\n      <td>0</td>\n      <td>1</td>\n      <td>1</td>\n      <td>2</td>\n      <td>1</td>\n      <td>1</td>\n      <td>255</td>\n      <td>01/01/2009</td>\n      <td>3</td>\n    </tr>\n    <tr>\n      <th>4</th>\n      <td>1</td>\n      <td>2009</td>\n      <td>0</td>\n      <td>1</td>\n      <td>1</td>\n      <td>3</td>\n      <td>2</td>\n      <td>1</td>\n      <td>255</td>\n      <td>01/01/2009</td>\n      <td>3</td>\n    </tr>\n    <tr>\n      <th>5</th>\n      <td>1</td>\n      <td>2009</td>\n      <td>0</td>\n      <td>2</td>\n      <td>2</td>\n      <td>4</td>\n      <td>2</td>\n      <td>1</td>\n      <td>255</td>\n      <td>01/01/2009</td>\n      <td>3</td>\n    </tr>\n    <tr>\n      <th>...</th>\n      <td>...</td>\n      <td>...</td>\n      <td>...</td>\n      <td>...</td>\n      <td>...</td>\n      <td>...</td>\n      <td>...</td>\n      <td>...</td>\n      <td>...</td>\n      <td>...</td>\n      <td>...</td>\n    </tr>\n    <tr>\n      <th>1465055</th>\n      <td>6</td>\n      <td>2022</td>\n      <td>23</td>\n      <td>2</td>\n      <td>5</td>\n      <td>101</td>\n      <td>1</td>\n      <td>1</td>\n      <td>364</td>\n      <td>06/30/2022</td>\n      <td>4</td>\n    </tr>\n    <tr>\n      <th>1465056</th>\n      <td>6</td>\n      <td>2022</td>\n      <td>23</td>\n      <td>0</td>\n      <td>2</td>\n      <td>4</td>\n      <td>1</td>\n      <td>1</td>\n      <td>364</td>\n      <td>06/30/2022</td>\n      <td>4</td>\n    </tr>\n    <tr>\n      <th>1465057</th>\n      <td>6</td>\n      <td>2022</td>\n      <td>23</td>\n      <td>2</td>\n      <td>5</td>\n      <td>83</td>\n      <td>1</td>\n      <td>1</td>\n      <td>364</td>\n      <td>06/30/2022</td>\n      <td>4</td>\n    </tr>\n    <tr>\n      <th>1465058</th>\n      <td>6</td>\n      <td>2022</td>\n      <td>23</td>\n      <td>2</td>\n      <td>2</td>\n      <td>12</td>\n      <td>1</td>\n      <td>1</td>\n      <td>364</td>\n      <td>06/30/2022</td>\n      <td>4</td>\n    </tr>\n    <tr>\n      <th>1465059</th>\n      <td>6</td>\n      <td>2022</td>\n      <td>23</td>\n      <td>0</td>\n      <td>2</td>\n      <td>12</td>\n      <td>1</td>\n      <td>1</td>\n      <td>364</td>\n      <td>06/30/2022</td>\n      <td>4</td>\n    </tr>\n  </tbody>\n</table>\n<p>1453312 rows × 11 columns</p>\n</div>"
     },
     "execution_count": 26,
     "metadata": {},
     "output_type": "execute_result"
    }
   ],
   "source": [
    "ds4"
   ],
   "metadata": {
    "collapsed": false
   }
  },
  {
   "cell_type": "code",
   "execution_count": 32,
   "outputs": [
    {
     "data": {
      "text/plain": "           date  cloud_cover  sunshine  global_radiation  max_temp  mean_temp  \\\n0      19790101          2.0       7.0              52.0       2.3       -4.1   \n1      19790102          6.0       1.7              27.0       1.6       -2.6   \n2      19790103          5.0       0.0              13.0       1.3       -2.8   \n3      19790104          8.0       0.0              13.0      -0.3       -2.6   \n4      19790105          6.0       2.0              29.0       5.6       -0.8   \n...         ...          ...       ...               ...       ...        ...   \n15336  20201227          1.0       0.9              32.0       7.5        7.5   \n15337  20201228          7.0       3.7              38.0       3.6        1.1   \n15338  20201229          7.0       0.0              21.0       4.1        2.6   \n15339  20201230          6.0       0.4              22.0       5.6        2.7   \n15340  20201231          7.0       1.3              34.0       1.5       -0.8   \n\n       min_temp  precipitation  pressure  snow_depth  \n0          -7.5            0.4  101900.0         9.0  \n1          -7.5            0.0  102530.0         8.0  \n2          -7.2            0.0  102050.0         4.0  \n3          -6.5            0.0  100840.0         2.0  \n4          -1.4            0.0  102250.0         1.0  \n...         ...            ...       ...         ...  \n15336       7.6            2.0   98000.0         NaN  \n15337      -1.3            0.2   97370.0         NaN  \n15338       1.1            0.0   98830.0         NaN  \n15339      -0.1            0.0  100200.0         NaN  \n15340      -3.1            0.0  100500.0         NaN  \n\n[15341 rows x 10 columns]",
      "text/html": "<div>\n<style scoped>\n    .dataframe tbody tr th:only-of-type {\n        vertical-align: middle;\n    }\n\n    .dataframe tbody tr th {\n        vertical-align: top;\n    }\n\n    .dataframe thead th {\n        text-align: right;\n    }\n</style>\n<table border=\"1\" class=\"dataframe\">\n  <thead>\n    <tr style=\"text-align: right;\">\n      <th></th>\n      <th>date</th>\n      <th>cloud_cover</th>\n      <th>sunshine</th>\n      <th>global_radiation</th>\n      <th>max_temp</th>\n      <th>mean_temp</th>\n      <th>min_temp</th>\n      <th>precipitation</th>\n      <th>pressure</th>\n      <th>snow_depth</th>\n    </tr>\n  </thead>\n  <tbody>\n    <tr>\n      <th>0</th>\n      <td>19790101</td>\n      <td>2.0</td>\n      <td>7.0</td>\n      <td>52.0</td>\n      <td>2.3</td>\n      <td>-4.1</td>\n      <td>-7.5</td>\n      <td>0.4</td>\n      <td>101900.0</td>\n      <td>9.0</td>\n    </tr>\n    <tr>\n      <th>1</th>\n      <td>19790102</td>\n      <td>6.0</td>\n      <td>1.7</td>\n      <td>27.0</td>\n      <td>1.6</td>\n      <td>-2.6</td>\n      <td>-7.5</td>\n      <td>0.0</td>\n      <td>102530.0</td>\n      <td>8.0</td>\n    </tr>\n    <tr>\n      <th>2</th>\n      <td>19790103</td>\n      <td>5.0</td>\n      <td>0.0</td>\n      <td>13.0</td>\n      <td>1.3</td>\n      <td>-2.8</td>\n      <td>-7.2</td>\n      <td>0.0</td>\n      <td>102050.0</td>\n      <td>4.0</td>\n    </tr>\n    <tr>\n      <th>3</th>\n      <td>19790104</td>\n      <td>8.0</td>\n      <td>0.0</td>\n      <td>13.0</td>\n      <td>-0.3</td>\n      <td>-2.6</td>\n      <td>-6.5</td>\n      <td>0.0</td>\n      <td>100840.0</td>\n      <td>2.0</td>\n    </tr>\n    <tr>\n      <th>4</th>\n      <td>19790105</td>\n      <td>6.0</td>\n      <td>2.0</td>\n      <td>29.0</td>\n      <td>5.6</td>\n      <td>-0.8</td>\n      <td>-1.4</td>\n      <td>0.0</td>\n      <td>102250.0</td>\n      <td>1.0</td>\n    </tr>\n    <tr>\n      <th>...</th>\n      <td>...</td>\n      <td>...</td>\n      <td>...</td>\n      <td>...</td>\n      <td>...</td>\n      <td>...</td>\n      <td>...</td>\n      <td>...</td>\n      <td>...</td>\n      <td>...</td>\n    </tr>\n    <tr>\n      <th>15336</th>\n      <td>20201227</td>\n      <td>1.0</td>\n      <td>0.9</td>\n      <td>32.0</td>\n      <td>7.5</td>\n      <td>7.5</td>\n      <td>7.6</td>\n      <td>2.0</td>\n      <td>98000.0</td>\n      <td>NaN</td>\n    </tr>\n    <tr>\n      <th>15337</th>\n      <td>20201228</td>\n      <td>7.0</td>\n      <td>3.7</td>\n      <td>38.0</td>\n      <td>3.6</td>\n      <td>1.1</td>\n      <td>-1.3</td>\n      <td>0.2</td>\n      <td>97370.0</td>\n      <td>NaN</td>\n    </tr>\n    <tr>\n      <th>15338</th>\n      <td>20201229</td>\n      <td>7.0</td>\n      <td>0.0</td>\n      <td>21.0</td>\n      <td>4.1</td>\n      <td>2.6</td>\n      <td>1.1</td>\n      <td>0.0</td>\n      <td>98830.0</td>\n      <td>NaN</td>\n    </tr>\n    <tr>\n      <th>15339</th>\n      <td>20201230</td>\n      <td>6.0</td>\n      <td>0.4</td>\n      <td>22.0</td>\n      <td>5.6</td>\n      <td>2.7</td>\n      <td>-0.1</td>\n      <td>0.0</td>\n      <td>100200.0</td>\n      <td>NaN</td>\n    </tr>\n    <tr>\n      <th>15340</th>\n      <td>20201231</td>\n      <td>7.0</td>\n      <td>1.3</td>\n      <td>34.0</td>\n      <td>1.5</td>\n      <td>-0.8</td>\n      <td>-3.1</td>\n      <td>0.0</td>\n      <td>100500.0</td>\n      <td>NaN</td>\n    </tr>\n  </tbody>\n</table>\n<p>15341 rows × 10 columns</p>\n</div>"
     },
     "execution_count": 32,
     "metadata": {},
     "output_type": "execute_result"
    }
   ],
   "source": [
    "weather_data = pd.read_csv('../data/london_weather.csv')\n",
    "weather_data"
   ],
   "metadata": {
    "collapsed": false
   }
  },
  {
   "cell_type": "code",
   "execution_count": 33,
   "outputs": [
    {
     "data": {
      "text/plain": "             date  cloud_cover  sunshine  global_radiation  max_temp  \\\n0      01/01/1979          2.0       7.0              52.0       2.3   \n1      01/02/1979          6.0       1.7              27.0       1.6   \n2      01/03/1979          5.0       0.0              13.0       1.3   \n3      01/04/1979          8.0       0.0              13.0      -0.3   \n4      01/05/1979          6.0       2.0              29.0       5.6   \n...           ...          ...       ...               ...       ...   \n15336  12/27/2020          1.0       0.9              32.0       7.5   \n15337  12/28/2020          7.0       3.7              38.0       3.6   \n15338  12/29/2020          7.0       0.0              21.0       4.1   \n15339  12/30/2020          6.0       0.4              22.0       5.6   \n15340  12/31/2020          7.0       1.3              34.0       1.5   \n\n       mean_temp  min_temp  precipitation  pressure  snow_depth  \n0           -4.1      -7.5            0.4  101900.0         9.0  \n1           -2.6      -7.5            0.0  102530.0         8.0  \n2           -2.8      -7.2            0.0  102050.0         4.0  \n3           -2.6      -6.5            0.0  100840.0         2.0  \n4           -0.8      -1.4            0.0  102250.0         1.0  \n...          ...       ...            ...       ...         ...  \n15336        7.5       7.6            2.0   98000.0         NaN  \n15337        1.1      -1.3            0.2   97370.0         NaN  \n15338        2.6       1.1            0.0   98830.0         NaN  \n15339        2.7      -0.1            0.0  100200.0         NaN  \n15340       -0.8      -3.1            0.0  100500.0         NaN  \n\n[15341 rows x 10 columns]",
      "text/html": "<div>\n<style scoped>\n    .dataframe tbody tr th:only-of-type {\n        vertical-align: middle;\n    }\n\n    .dataframe tbody tr th {\n        vertical-align: top;\n    }\n\n    .dataframe thead th {\n        text-align: right;\n    }\n</style>\n<table border=\"1\" class=\"dataframe\">\n  <thead>\n    <tr style=\"text-align: right;\">\n      <th></th>\n      <th>date</th>\n      <th>cloud_cover</th>\n      <th>sunshine</th>\n      <th>global_radiation</th>\n      <th>max_temp</th>\n      <th>mean_temp</th>\n      <th>min_temp</th>\n      <th>precipitation</th>\n      <th>pressure</th>\n      <th>snow_depth</th>\n    </tr>\n  </thead>\n  <tbody>\n    <tr>\n      <th>0</th>\n      <td>01/01/1979</td>\n      <td>2.0</td>\n      <td>7.0</td>\n      <td>52.0</td>\n      <td>2.3</td>\n      <td>-4.1</td>\n      <td>-7.5</td>\n      <td>0.4</td>\n      <td>101900.0</td>\n      <td>9.0</td>\n    </tr>\n    <tr>\n      <th>1</th>\n      <td>01/02/1979</td>\n      <td>6.0</td>\n      <td>1.7</td>\n      <td>27.0</td>\n      <td>1.6</td>\n      <td>-2.6</td>\n      <td>-7.5</td>\n      <td>0.0</td>\n      <td>102530.0</td>\n      <td>8.0</td>\n    </tr>\n    <tr>\n      <th>2</th>\n      <td>01/03/1979</td>\n      <td>5.0</td>\n      <td>0.0</td>\n      <td>13.0</td>\n      <td>1.3</td>\n      <td>-2.8</td>\n      <td>-7.2</td>\n      <td>0.0</td>\n      <td>102050.0</td>\n      <td>4.0</td>\n    </tr>\n    <tr>\n      <th>3</th>\n      <td>01/04/1979</td>\n      <td>8.0</td>\n      <td>0.0</td>\n      <td>13.0</td>\n      <td>-0.3</td>\n      <td>-2.6</td>\n      <td>-6.5</td>\n      <td>0.0</td>\n      <td>100840.0</td>\n      <td>2.0</td>\n    </tr>\n    <tr>\n      <th>4</th>\n      <td>01/05/1979</td>\n      <td>6.0</td>\n      <td>2.0</td>\n      <td>29.0</td>\n      <td>5.6</td>\n      <td>-0.8</td>\n      <td>-1.4</td>\n      <td>0.0</td>\n      <td>102250.0</td>\n      <td>1.0</td>\n    </tr>\n    <tr>\n      <th>...</th>\n      <td>...</td>\n      <td>...</td>\n      <td>...</td>\n      <td>...</td>\n      <td>...</td>\n      <td>...</td>\n      <td>...</td>\n      <td>...</td>\n      <td>...</td>\n      <td>...</td>\n    </tr>\n    <tr>\n      <th>15336</th>\n      <td>12/27/2020</td>\n      <td>1.0</td>\n      <td>0.9</td>\n      <td>32.0</td>\n      <td>7.5</td>\n      <td>7.5</td>\n      <td>7.6</td>\n      <td>2.0</td>\n      <td>98000.0</td>\n      <td>NaN</td>\n    </tr>\n    <tr>\n      <th>15337</th>\n      <td>12/28/2020</td>\n      <td>7.0</td>\n      <td>3.7</td>\n      <td>38.0</td>\n      <td>3.6</td>\n      <td>1.1</td>\n      <td>-1.3</td>\n      <td>0.2</td>\n      <td>97370.0</td>\n      <td>NaN</td>\n    </tr>\n    <tr>\n      <th>15338</th>\n      <td>12/29/2020</td>\n      <td>7.0</td>\n      <td>0.0</td>\n      <td>21.0</td>\n      <td>4.1</td>\n      <td>2.6</td>\n      <td>1.1</td>\n      <td>0.0</td>\n      <td>98830.0</td>\n      <td>NaN</td>\n    </tr>\n    <tr>\n      <th>15339</th>\n      <td>12/30/2020</td>\n      <td>6.0</td>\n      <td>0.4</td>\n      <td>22.0</td>\n      <td>5.6</td>\n      <td>2.7</td>\n      <td>-0.1</td>\n      <td>0.0</td>\n      <td>100200.0</td>\n      <td>NaN</td>\n    </tr>\n    <tr>\n      <th>15340</th>\n      <td>12/31/2020</td>\n      <td>7.0</td>\n      <td>1.3</td>\n      <td>34.0</td>\n      <td>1.5</td>\n      <td>-0.8</td>\n      <td>-3.1</td>\n      <td>0.0</td>\n      <td>100500.0</td>\n      <td>NaN</td>\n    </tr>\n  </tbody>\n</table>\n<p>15341 rows × 10 columns</p>\n</div>"
     },
     "execution_count": 33,
     "metadata": {},
     "output_type": "execute_result"
    }
   ],
   "source": [
    "weather_data['date'] = pd.to_datetime(weather_data['date'], format='%Y%m%d').dt.strftime('%m/%d/%Y')\n",
    "weather_data"
   ],
   "metadata": {
    "collapsed": false
   }
  },
  {
   "cell_type": "code",
   "execution_count": 37,
   "id": "c2911942",
   "metadata": {},
   "outputs": [
    {
     "data": {
      "text/plain": "             Date  cloud_cover  sunshine  global_radiation  max_temp  \\\n10958  01/01/2009          8.0       0.0              13.0       3.5   \n10959  01/02/2009          6.0       1.4              25.0       5.9   \n10960  01/03/2009          0.0       6.4              50.0       4.7   \n10961  01/04/2009          5.0       0.0              13.0       1.7   \n10962  01/05/2009          6.0       1.9              29.0       3.1   \n...           ...          ...       ...               ...       ...   \n15336  12/27/2020          1.0       0.9              32.0       7.5   \n15337  12/28/2020          7.0       3.7              38.0       3.6   \n15338  12/29/2020          7.0       0.0              21.0       4.1   \n15339  12/30/2020          6.0       0.4              22.0       5.6   \n15340  12/31/2020          7.0       1.3              34.0       1.5   \n\n       mean_temp  min_temp  precipitation  pressure  snow_depth  \n10958        1.5      -0.5            0.0  103010.0         0.0  \n10959        3.4       0.8            0.0  103000.0         0.0  \n10960        0.9      -2.9            0.0  102980.0         0.0  \n10961       -2.2      -6.0            0.6  102350.0         0.0  \n10962       -0.6      -4.2            0.6  102180.0         0.0  \n...          ...       ...            ...       ...         ...  \n15336        7.5       7.6            2.0   98000.0         NaN  \n15337        1.1      -1.3            0.2   97370.0         NaN  \n15338        2.6       1.1            0.0   98830.0         NaN  \n15339        2.7      -0.1            0.0  100200.0         NaN  \n15340       -0.8      -3.1            0.0  100500.0         NaN  \n\n[4383 rows x 10 columns]",
      "text/html": "<div>\n<style scoped>\n    .dataframe tbody tr th:only-of-type {\n        vertical-align: middle;\n    }\n\n    .dataframe tbody tr th {\n        vertical-align: top;\n    }\n\n    .dataframe thead th {\n        text-align: right;\n    }\n</style>\n<table border=\"1\" class=\"dataframe\">\n  <thead>\n    <tr style=\"text-align: right;\">\n      <th></th>\n      <th>Date</th>\n      <th>cloud_cover</th>\n      <th>sunshine</th>\n      <th>global_radiation</th>\n      <th>max_temp</th>\n      <th>mean_temp</th>\n      <th>min_temp</th>\n      <th>precipitation</th>\n      <th>pressure</th>\n      <th>snow_depth</th>\n    </tr>\n  </thead>\n  <tbody>\n    <tr>\n      <th>10958</th>\n      <td>01/01/2009</td>\n      <td>8.0</td>\n      <td>0.0</td>\n      <td>13.0</td>\n      <td>3.5</td>\n      <td>1.5</td>\n      <td>-0.5</td>\n      <td>0.0</td>\n      <td>103010.0</td>\n      <td>0.0</td>\n    </tr>\n    <tr>\n      <th>10959</th>\n      <td>01/02/2009</td>\n      <td>6.0</td>\n      <td>1.4</td>\n      <td>25.0</td>\n      <td>5.9</td>\n      <td>3.4</td>\n      <td>0.8</td>\n      <td>0.0</td>\n      <td>103000.0</td>\n      <td>0.0</td>\n    </tr>\n    <tr>\n      <th>10960</th>\n      <td>01/03/2009</td>\n      <td>0.0</td>\n      <td>6.4</td>\n      <td>50.0</td>\n      <td>4.7</td>\n      <td>0.9</td>\n      <td>-2.9</td>\n      <td>0.0</td>\n      <td>102980.0</td>\n      <td>0.0</td>\n    </tr>\n    <tr>\n      <th>10961</th>\n      <td>01/04/2009</td>\n      <td>5.0</td>\n      <td>0.0</td>\n      <td>13.0</td>\n      <td>1.7</td>\n      <td>-2.2</td>\n      <td>-6.0</td>\n      <td>0.6</td>\n      <td>102350.0</td>\n      <td>0.0</td>\n    </tr>\n    <tr>\n      <th>10962</th>\n      <td>01/05/2009</td>\n      <td>6.0</td>\n      <td>1.9</td>\n      <td>29.0</td>\n      <td>3.1</td>\n      <td>-0.6</td>\n      <td>-4.2</td>\n      <td>0.6</td>\n      <td>102180.0</td>\n      <td>0.0</td>\n    </tr>\n    <tr>\n      <th>...</th>\n      <td>...</td>\n      <td>...</td>\n      <td>...</td>\n      <td>...</td>\n      <td>...</td>\n      <td>...</td>\n      <td>...</td>\n      <td>...</td>\n      <td>...</td>\n      <td>...</td>\n    </tr>\n    <tr>\n      <th>15336</th>\n      <td>12/27/2020</td>\n      <td>1.0</td>\n      <td>0.9</td>\n      <td>32.0</td>\n      <td>7.5</td>\n      <td>7.5</td>\n      <td>7.6</td>\n      <td>2.0</td>\n      <td>98000.0</td>\n      <td>NaN</td>\n    </tr>\n    <tr>\n      <th>15337</th>\n      <td>12/28/2020</td>\n      <td>7.0</td>\n      <td>3.7</td>\n      <td>38.0</td>\n      <td>3.6</td>\n      <td>1.1</td>\n      <td>-1.3</td>\n      <td>0.2</td>\n      <td>97370.0</td>\n      <td>NaN</td>\n    </tr>\n    <tr>\n      <th>15338</th>\n      <td>12/29/2020</td>\n      <td>7.0</td>\n      <td>0.0</td>\n      <td>21.0</td>\n      <td>4.1</td>\n      <td>2.6</td>\n      <td>1.1</td>\n      <td>0.0</td>\n      <td>98830.0</td>\n      <td>NaN</td>\n    </tr>\n    <tr>\n      <th>15339</th>\n      <td>12/30/2020</td>\n      <td>6.0</td>\n      <td>0.4</td>\n      <td>22.0</td>\n      <td>5.6</td>\n      <td>2.7</td>\n      <td>-0.1</td>\n      <td>0.0</td>\n      <td>100200.0</td>\n      <td>NaN</td>\n    </tr>\n    <tr>\n      <th>15340</th>\n      <td>12/31/2020</td>\n      <td>7.0</td>\n      <td>1.3</td>\n      <td>34.0</td>\n      <td>1.5</td>\n      <td>-0.8</td>\n      <td>-3.1</td>\n      <td>0.0</td>\n      <td>100500.0</td>\n      <td>NaN</td>\n    </tr>\n  </tbody>\n</table>\n<p>4383 rows × 10 columns</p>\n</div>"
     },
     "execution_count": 37,
     "metadata": {},
     "output_type": "execute_result"
    }
   ],
   "source": [
    "weather_data = weather_data.rename(columns={'date': 'Date'})\n",
    "weather_data[10958: :]"
   ]
  },
  {
   "cell_type": "code",
   "execution_count": 30,
   "outputs": [],
   "source": [
    "london_clean_weather = pd.merge(ds4, weather_data, on='Date')"
   ],
   "metadata": {
    "collapsed": false
   }
  },
  {
   "cell_type": "code",
   "execution_count": 31,
   "outputs": [
    {
     "data": {
      "text/plain": "         DateOfCall  CalYear  HourOfCall  IncidentGroup  PropertyCategory  \\\n0                 1     2009           0              0                 0   \n1                 1     2009           0              1                 1   \n2                 1     2009           0              1                 1   \n3                 1     2009           0              1                 1   \n4                 1     2009           0              2                 2   \n...             ...      ...         ...            ...               ...   \n1289685          12     2020          23              2                 2   \n1289686          12     2020          23              1                 1   \n1289687          12     2020          23              1                 3   \n1289688          12     2020          23              2                 2   \n1289689          12     2020          23              0                 2   \n\n         PropertyType  NumPumpsAttending  PumpHoursRoundUp  Notional Cost (£)  \\\n0                   0                  2                 1                255   \n1                   1                  1                 1                255   \n2                   2                  1                 1                255   \n3                   3                  2                 1                255   \n4                   4                  2                 1                255   \n...               ...                ...               ...                ...   \n1289685             4                  2                 1                346   \n1289686            10                  1                 1                346   \n1289687           264                  1                 1                346   \n1289688            12                  2                 1                346   \n1289689             8                  2                 1                346   \n\n               Date  CostCat  cloud_cover  sunshine  global_radiation  \\\n0        01/01/2009        3          8.0       0.0              13.0   \n1        01/01/2009        3          8.0       0.0              13.0   \n2        01/01/2009        3          8.0       0.0              13.0   \n3        01/01/2009        3          8.0       0.0              13.0   \n4        01/01/2009        3          8.0       0.0              13.0   \n...             ...      ...          ...       ...               ...   \n1289685  12/31/2020        4          7.0       1.3              34.0   \n1289686  12/31/2020        4          7.0       1.3              34.0   \n1289687  12/31/2020        4          7.0       1.3              34.0   \n1289688  12/31/2020        4          7.0       1.3              34.0   \n1289689  12/31/2020        4          7.0       1.3              34.0   \n\n         max_temp  mean_temp  min_temp  precipitation  pressure  snow_depth  \n0             3.5        1.5      -0.5            0.0  103010.0         0.0  \n1             3.5        1.5      -0.5            0.0  103010.0         0.0  \n2             3.5        1.5      -0.5            0.0  103010.0         0.0  \n3             3.5        1.5      -0.5            0.0  103010.0         0.0  \n4             3.5        1.5      -0.5            0.0  103010.0         0.0  \n...           ...        ...       ...            ...       ...         ...  \n1289685       1.5       -0.8      -3.1            0.0  100500.0         NaN  \n1289686       1.5       -0.8      -3.1            0.0  100500.0         NaN  \n1289687       1.5       -0.8      -3.1            0.0  100500.0         NaN  \n1289688       1.5       -0.8      -3.1            0.0  100500.0         NaN  \n1289689       1.5       -0.8      -3.1            0.0  100500.0         NaN  \n\n[1289690 rows x 20 columns]",
      "text/html": "<div>\n<style scoped>\n    .dataframe tbody tr th:only-of-type {\n        vertical-align: middle;\n    }\n\n    .dataframe tbody tr th {\n        vertical-align: top;\n    }\n\n    .dataframe thead th {\n        text-align: right;\n    }\n</style>\n<table border=\"1\" class=\"dataframe\">\n  <thead>\n    <tr style=\"text-align: right;\">\n      <th></th>\n      <th>DateOfCall</th>\n      <th>CalYear</th>\n      <th>HourOfCall</th>\n      <th>IncidentGroup</th>\n      <th>PropertyCategory</th>\n      <th>PropertyType</th>\n      <th>NumPumpsAttending</th>\n      <th>PumpHoursRoundUp</th>\n      <th>Notional Cost (£)</th>\n      <th>Date</th>\n      <th>CostCat</th>\n      <th>cloud_cover</th>\n      <th>sunshine</th>\n      <th>global_radiation</th>\n      <th>max_temp</th>\n      <th>mean_temp</th>\n      <th>min_temp</th>\n      <th>precipitation</th>\n      <th>pressure</th>\n      <th>snow_depth</th>\n    </tr>\n  </thead>\n  <tbody>\n    <tr>\n      <th>0</th>\n      <td>1</td>\n      <td>2009</td>\n      <td>0</td>\n      <td>0</td>\n      <td>0</td>\n      <td>0</td>\n      <td>2</td>\n      <td>1</td>\n      <td>255</td>\n      <td>01/01/2009</td>\n      <td>3</td>\n      <td>8.0</td>\n      <td>0.0</td>\n      <td>13.0</td>\n      <td>3.5</td>\n      <td>1.5</td>\n      <td>-0.5</td>\n      <td>0.0</td>\n      <td>103010.0</td>\n      <td>0.0</td>\n    </tr>\n    <tr>\n      <th>1</th>\n      <td>1</td>\n      <td>2009</td>\n      <td>0</td>\n      <td>1</td>\n      <td>1</td>\n      <td>1</td>\n      <td>1</td>\n      <td>1</td>\n      <td>255</td>\n      <td>01/01/2009</td>\n      <td>3</td>\n      <td>8.0</td>\n      <td>0.0</td>\n      <td>13.0</td>\n      <td>3.5</td>\n      <td>1.5</td>\n      <td>-0.5</td>\n      <td>0.0</td>\n      <td>103010.0</td>\n      <td>0.0</td>\n    </tr>\n    <tr>\n      <th>2</th>\n      <td>1</td>\n      <td>2009</td>\n      <td>0</td>\n      <td>1</td>\n      <td>1</td>\n      <td>2</td>\n      <td>1</td>\n      <td>1</td>\n      <td>255</td>\n      <td>01/01/2009</td>\n      <td>3</td>\n      <td>8.0</td>\n      <td>0.0</td>\n      <td>13.0</td>\n      <td>3.5</td>\n      <td>1.5</td>\n      <td>-0.5</td>\n      <td>0.0</td>\n      <td>103010.0</td>\n      <td>0.0</td>\n    </tr>\n    <tr>\n      <th>3</th>\n      <td>1</td>\n      <td>2009</td>\n      <td>0</td>\n      <td>1</td>\n      <td>1</td>\n      <td>3</td>\n      <td>2</td>\n      <td>1</td>\n      <td>255</td>\n      <td>01/01/2009</td>\n      <td>3</td>\n      <td>8.0</td>\n      <td>0.0</td>\n      <td>13.0</td>\n      <td>3.5</td>\n      <td>1.5</td>\n      <td>-0.5</td>\n      <td>0.0</td>\n      <td>103010.0</td>\n      <td>0.0</td>\n    </tr>\n    <tr>\n      <th>4</th>\n      <td>1</td>\n      <td>2009</td>\n      <td>0</td>\n      <td>2</td>\n      <td>2</td>\n      <td>4</td>\n      <td>2</td>\n      <td>1</td>\n      <td>255</td>\n      <td>01/01/2009</td>\n      <td>3</td>\n      <td>8.0</td>\n      <td>0.0</td>\n      <td>13.0</td>\n      <td>3.5</td>\n      <td>1.5</td>\n      <td>-0.5</td>\n      <td>0.0</td>\n      <td>103010.0</td>\n      <td>0.0</td>\n    </tr>\n    <tr>\n      <th>...</th>\n      <td>...</td>\n      <td>...</td>\n      <td>...</td>\n      <td>...</td>\n      <td>...</td>\n      <td>...</td>\n      <td>...</td>\n      <td>...</td>\n      <td>...</td>\n      <td>...</td>\n      <td>...</td>\n      <td>...</td>\n      <td>...</td>\n      <td>...</td>\n      <td>...</td>\n      <td>...</td>\n      <td>...</td>\n      <td>...</td>\n      <td>...</td>\n      <td>...</td>\n    </tr>\n    <tr>\n      <th>1289685</th>\n      <td>12</td>\n      <td>2020</td>\n      <td>23</td>\n      <td>2</td>\n      <td>2</td>\n      <td>4</td>\n      <td>2</td>\n      <td>1</td>\n      <td>346</td>\n      <td>12/31/2020</td>\n      <td>4</td>\n      <td>7.0</td>\n      <td>1.3</td>\n      <td>34.0</td>\n      <td>1.5</td>\n      <td>-0.8</td>\n      <td>-3.1</td>\n      <td>0.0</td>\n      <td>100500.0</td>\n      <td>NaN</td>\n    </tr>\n    <tr>\n      <th>1289686</th>\n      <td>12</td>\n      <td>2020</td>\n      <td>23</td>\n      <td>1</td>\n      <td>1</td>\n      <td>10</td>\n      <td>1</td>\n      <td>1</td>\n      <td>346</td>\n      <td>12/31/2020</td>\n      <td>4</td>\n      <td>7.0</td>\n      <td>1.3</td>\n      <td>34.0</td>\n      <td>1.5</td>\n      <td>-0.8</td>\n      <td>-3.1</td>\n      <td>0.0</td>\n      <td>100500.0</td>\n      <td>NaN</td>\n    </tr>\n    <tr>\n      <th>1289687</th>\n      <td>12</td>\n      <td>2020</td>\n      <td>23</td>\n      <td>1</td>\n      <td>3</td>\n      <td>264</td>\n      <td>1</td>\n      <td>1</td>\n      <td>346</td>\n      <td>12/31/2020</td>\n      <td>4</td>\n      <td>7.0</td>\n      <td>1.3</td>\n      <td>34.0</td>\n      <td>1.5</td>\n      <td>-0.8</td>\n      <td>-3.1</td>\n      <td>0.0</td>\n      <td>100500.0</td>\n      <td>NaN</td>\n    </tr>\n    <tr>\n      <th>1289688</th>\n      <td>12</td>\n      <td>2020</td>\n      <td>23</td>\n      <td>2</td>\n      <td>2</td>\n      <td>12</td>\n      <td>2</td>\n      <td>1</td>\n      <td>346</td>\n      <td>12/31/2020</td>\n      <td>4</td>\n      <td>7.0</td>\n      <td>1.3</td>\n      <td>34.0</td>\n      <td>1.5</td>\n      <td>-0.8</td>\n      <td>-3.1</td>\n      <td>0.0</td>\n      <td>100500.0</td>\n      <td>NaN</td>\n    </tr>\n    <tr>\n      <th>1289689</th>\n      <td>12</td>\n      <td>2020</td>\n      <td>23</td>\n      <td>0</td>\n      <td>2</td>\n      <td>8</td>\n      <td>2</td>\n      <td>1</td>\n      <td>346</td>\n      <td>12/31/2020</td>\n      <td>4</td>\n      <td>7.0</td>\n      <td>1.3</td>\n      <td>34.0</td>\n      <td>1.5</td>\n      <td>-0.8</td>\n      <td>-3.1</td>\n      <td>0.0</td>\n      <td>100500.0</td>\n      <td>NaN</td>\n    </tr>\n  </tbody>\n</table>\n<p>1289690 rows × 20 columns</p>\n</div>"
     },
     "execution_count": 31,
     "metadata": {},
     "output_type": "execute_result"
    }
   ],
   "source": [
    "london_clean_weather"
   ],
   "metadata": {
    "collapsed": false
   }
  },
  {
   "cell_type": "code",
   "execution_count": null,
   "outputs": [],
   "source": [
    "london_clean_weather.to_csv('london_clean_weather.csv', index=False)"
   ],
   "metadata": {
    "collapsed": false
   }
  }
 ],
 "metadata": {
  "kernelspec": {
   "display_name": "Python 3",
   "language": "python",
   "name": "python3"
  },
  "language_info": {
   "codemirror_mode": {
    "name": "ipython",
    "version": 3
   },
   "file_extension": ".py",
   "mimetype": "text/x-python",
   "name": "python",
   "nbconvert_exporter": "python",
   "pygments_lexer": "ipython3",
   "version": "3.8.10"
  },
  "vscode": {
   "interpreter": {
    "hash": "31f2aee4e71d21fbe5cf8b01ff0e069b9275f58929596ceb00d14d90e3e16cd6"
   }
  }
 },
 "nbformat": 4,
 "nbformat_minor": 5
}
