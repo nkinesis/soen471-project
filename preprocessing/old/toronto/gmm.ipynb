{
 "cells": [
  {
   "cell_type": "code",
   "execution_count": 38,
   "id": "beef6729",
   "metadata": {},
   "outputs": [],
   "source": [
    "import numpy as np\n",
    "import pandas as pd\n",
    "from sklearn.mixture import GaussianMixture\n",
    "import matplotlib.pyplot as plt"
   ]
  },
  {
   "cell_type": "code",
   "execution_count": 40,
   "id": "01b74264",
   "metadata": {},
   "outputs": [
    {
     "data": {
      "text/html": [
       "<div>\n",
       "<style scoped>\n",
       "    .dataframe tbody tr th:only-of-type {\n",
       "        vertical-align: middle;\n",
       "    }\n",
       "\n",
       "    .dataframe tbody tr th {\n",
       "        vertical-align: top;\n",
       "    }\n",
       "\n",
       "    .dataframe thead th {\n",
       "        text-align: right;\n",
       "    }\n",
       "</style>\n",
       "<table border=\"1\" class=\"dataframe\">\n",
       "  <thead>\n",
       "    <tr style=\"text-align: right;\">\n",
       "      <th></th>\n",
       "      <th>Fire_Alarm_System_Presence</th>\n",
       "      <th>Possible_Cause</th>\n",
       "      <th>Property_Use</th>\n",
       "      <th>TFS_Arrival_Time</th>\n",
       "    </tr>\n",
       "  </thead>\n",
       "  <tbody>\n",
       "    <tr>\n",
       "      <th>0</th>\n",
       "      <td>0</td>\n",
       "      <td>0</td>\n",
       "      <td>0</td>\n",
       "      <td>8</td>\n",
       "    </tr>\n",
       "    <tr>\n",
       "      <th>1</th>\n",
       "      <td>0</td>\n",
       "      <td>1</td>\n",
       "      <td>1</td>\n",
       "      <td>11</td>\n",
       "    </tr>\n",
       "    <tr>\n",
       "      <th>2</th>\n",
       "      <td>0</td>\n",
       "      <td>0</td>\n",
       "      <td>0</td>\n",
       "      <td>2</td>\n",
       "    </tr>\n",
       "    <tr>\n",
       "      <th>3</th>\n",
       "      <td>1</td>\n",
       "      <td>0</td>\n",
       "      <td>2</td>\n",
       "      <td>10</td>\n",
       "    </tr>\n",
       "    <tr>\n",
       "      <th>4</th>\n",
       "      <td>0</td>\n",
       "      <td>2</td>\n",
       "      <td>0</td>\n",
       "      <td>7</td>\n",
       "    </tr>\n",
       "  </tbody>\n",
       "</table>\n",
       "</div>"
      ],
      "text/plain": [
       "   Fire_Alarm_System_Presence  Possible_Cause  Property_Use  TFS_Arrival_Time\n",
       "0                           0               0             0                 8\n",
       "1                           0               1             1                11\n",
       "2                           0               0             0                 2\n",
       "3                           1               0             2                10\n",
       "4                           0               2             0                 7"
      ]
     },
     "execution_count": 40,
     "metadata": {},
     "output_type": "execute_result"
    }
   ],
   "source": [
    "# define cols to load\n",
    "part = 10000\n",
    "ds = pd.read_csv('toronto.csv')\n",
    "ds = ds.dropna()\n",
    "ds = ds[0:part]\n",
    "ds[0:5]"
   ]
  },
  {
   "cell_type": "code",
   "execution_count": 41,
   "id": "19d61e99",
   "metadata": {},
   "outputs": [
    {
     "data": {
      "text/plain": [
       "array([[ 0,  0,  0,  8],\n",
       "       [ 0,  1,  1, 11],\n",
       "       [ 0,  0,  0,  2],\n",
       "       [ 1,  0,  2, 10],\n",
       "       [ 0,  2,  0,  7]])"
      ]
     },
     "execution_count": 41,
     "metadata": {},
     "output_type": "execute_result"
    }
   ],
   "source": [
    "X_train = ds[0:5000].values\n",
    "X_test = ds[5000:part].values\n",
    "X_train[0:5]"
   ]
  },
  {
   "cell_type": "code",
   "execution_count": 56,
   "id": "33828186",
   "metadata": {},
   "outputs": [],
   "source": [
    "labels = None\n",
    "gm = GaussianMixture(n_components=4, random_state=0)\n",
    "\n",
    "def trainGmm(ds, gm):\n",
    "    global labels\n",
    "    gm = gm.fit(ds)\n",
    "    labels = gm.fit_predict(ds)\n",
    "    \n",
    "    # getting unique labels\n",
    "    u_labels = np.unique(labels)\n",
    "\n",
    "    # plotting the results:\n",
    "    for i in u_labels:\n",
    "        plt.scatter(ds[labels == i , 2], ds[labels == i , 3], label = i)\n",
    "    plt.legend()\n",
    "    plt.show()\n",
    "    \n",
    "def testGmm(ds, gm):\n",
    "    records = gm.predict_proba(ds)\n",
    "    arr = []\n",
    "    for item in records:\n",
    "        arr.append(np.argmax(item))\n",
    "    print(np.histogram(arr, bins=3))\n",
    "    print(gm.score(ds))"
   ]
  },
  {
   "cell_type": "code",
   "execution_count": 57,
   "id": "6d938b56",
   "metadata": {},
   "outputs": [
    {
     "data": {
      "image/png": "[encoded data removed]",
      "text/plain": [
       "<Figure size 432x288 with 1 Axes>"
      ]
     },
     "metadata": {
      "needs_background": "light"
     },
     "output_type": "display_data"
    }
   ],
   "source": [
    "trainGmm(X_train, gm)"
   ]
  },
  {
   "cell_type": "code",
   "execution_count": 58,
   "id": "6b91b43d",
   "metadata": {},
   "outputs": [
    {
     "name": "stdout",
     "output_type": "stream",
     "text": [
      "(array([1884,  862, 2254]), array([0., 1., 2., 3.]))\n",
      "-8.556134783358942\n"
     ]
    }
   ],
   "source": [
    "testGmm(X_test, gm)"
   ]
  },
  {
   "cell_type": "code",
   "execution_count": 59,
   "id": "61730229",
   "metadata": {},
   "outputs": [
    {
     "data": {
      "text/plain": [
       "array([[0.00000000e+00, 2.73750259e-02, 4.23377943e-06, 9.72620740e-01]])"
      ]
     },
     "execution_count": 59,
     "metadata": {},
     "output_type": "execute_result"
    }
   ],
   "source": [
    "gm.predict_proba([X_test[5]])"
   ]
  },
  {
   "cell_type": "code",
   "execution_count": 60,
   "id": "1c41d980",
   "metadata": {},
   "outputs": [
    {
     "data": {
      "text/plain": [
       "3"
      ]
     },
     "execution_count": 60,
     "metadata": {},
     "output_type": "execute_result"
    }
   ],
   "source": [
    "labels[5]"
   ]
  },
  {
   "cell_type": "code",
   "execution_count": null,
   "id": "8ca84ea0",
   "metadata": {},
   "outputs": [],
   "source": []
  }
 ],
 "metadata": {
  "kernelspec": {
   "display_name": "Python 3 (ipykernel)",
   "language": "python",
   "name": "python3"
  },
  "language_info": {
   "codemirror_mode": {
    "name": "ipython",
    "version": 3
   },
   "file_extension": ".py",
   "mimetype": "text/x-python",
   "name": "python",
   "nbconvert_exporter": "python",
   "pygments_lexer": "ipython3",
   "version": "3.8.10"
  }
 },
 "nbformat": 4,
 "nbformat_minor": 5
}
