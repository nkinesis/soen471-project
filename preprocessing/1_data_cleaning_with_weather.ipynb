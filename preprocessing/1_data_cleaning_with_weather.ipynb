{
 "cells": [
  {
   "cell_type": "code",
   "execution_count": 7,
   "id": "ad39133a",
   "metadata": {},
   "outputs": [],
   "source": [
    "import pandas as pd\n",
    "from datetime import datetime"
   ]
  },
  {
   "cell_type": "code",
   "execution_count": 8,
   "id": "fe7227ef",
   "metadata": {},
   "outputs": [],
   "source": [
    "def print_all(arr):\n",
    "    for item in arr:\n",
    "        print(item)"
   ]
  },
  {
   "cell_type": "code",
   "execution_count": 9,
   "id": "515bd07a",
   "metadata": {},
   "outputs": [
    {
     "name": "stdout",
     "output_type": "stream",
     "text": [
      "Count: 1465060\n"
     ]
    }
   ],
   "source": [
    "# load the dataset with columns we intend to use\n",
    "usedcols = ['DateOfCall', 'CalYear', 'HourOfCall', 'IncidentGroup', \n",
    "'PropertyType', 'PumpHoursRoundUp', 'NumPumpsAttending', \n",
    "'Notional Cost (£)', 'PropertyCategory']\n",
    "ds = pd.read_csv('data/lfb_incident.csv', usecols=usedcols)\n",
    "print(\"Count:\", len(ds))"
   ]
  },
  {
   "cell_type": "code",
   "execution_count": 10,
   "id": "196e273f",
   "metadata": {},
   "outputs": [
    {
     "name": "stdout",
     "output_type": "stream",
     "text": [
      "Count: 1453312\n"
     ]
    }
   ],
   "source": [
    "# filter: remove row if there is nan in any other column\n",
    "ds = ds.dropna()\n",
    "print(\"Count:\", len(ds))"
   ]
  },
  {
   "cell_type": "code",
   "execution_count": 11,
   "id": "34ab9f17",
   "metadata": {},
   "outputs": [
    {
     "data": {
      "text/html": [
       "<div>\n",
       "<style scoped>\n",
       "    .dataframe tbody tr th:only-of-type {\n",
       "        vertical-align: middle;\n",
       "    }\n",
       "\n",
       "    .dataframe tbody tr th {\n",
       "        vertical-align: top;\n",
       "    }\n",
       "\n",
       "    .dataframe thead th {\n",
       "        text-align: right;\n",
       "    }\n",
       "</style>\n",
       "<table border=\"1\" class=\"dataframe\">\n",
       "  <thead>\n",
       "    <tr style=\"text-align: right;\">\n",
       "      <th></th>\n",
       "      <th>DateOfCall</th>\n",
       "      <th>CalYear</th>\n",
       "      <th>HourOfCall</th>\n",
       "      <th>IncidentGroup</th>\n",
       "      <th>PropertyCategory</th>\n",
       "      <th>PropertyType</th>\n",
       "      <th>NumPumpsAttending</th>\n",
       "      <th>PumpHoursRoundUp</th>\n",
       "      <th>Notional Cost (£)</th>\n",
       "    </tr>\n",
       "  </thead>\n",
       "  <tbody>\n",
       "    <tr>\n",
       "      <th>0</th>\n",
       "      <td>01 Jan 2009</td>\n",
       "      <td>2009</td>\n",
       "      <td>0</td>\n",
       "      <td>Special Service</td>\n",
       "      <td>Road Vehicle</td>\n",
       "      <td>Car</td>\n",
       "      <td>2.0</td>\n",
       "      <td>1.0</td>\n",
       "      <td>255.0</td>\n",
       "    </tr>\n",
       "    <tr>\n",
       "      <th>2</th>\n",
       "      <td>01 Jan 2009</td>\n",
       "      <td>2009</td>\n",
       "      <td>0</td>\n",
       "      <td>Fire</td>\n",
       "      <td>Outdoor</td>\n",
       "      <td>Road surface/pavement</td>\n",
       "      <td>1.0</td>\n",
       "      <td>1.0</td>\n",
       "      <td>255.0</td>\n",
       "    </tr>\n",
       "    <tr>\n",
       "      <th>3</th>\n",
       "      <td>01 Jan 2009</td>\n",
       "      <td>2009</td>\n",
       "      <td>0</td>\n",
       "      <td>Fire</td>\n",
       "      <td>Outdoor</td>\n",
       "      <td>Domestic garden (vegetation not equipment)</td>\n",
       "      <td>1.0</td>\n",
       "      <td>1.0</td>\n",
       "      <td>255.0</td>\n",
       "    </tr>\n",
       "  </tbody>\n",
       "</table>\n",
       "</div>"
      ],
      "text/plain": [
       "    DateOfCall  CalYear  HourOfCall    IncidentGroup PropertyCategory  \\\n",
       "0  01 Jan 2009     2009           0  Special Service     Road Vehicle   \n",
       "2  01 Jan 2009     2009           0             Fire          Outdoor   \n",
       "3  01 Jan 2009     2009           0             Fire          Outdoor   \n",
       "\n",
       "                                  PropertyType  NumPumpsAttending  \\\n",
       "0                                         Car                 2.0   \n",
       "2                       Road surface/pavement                 1.0   \n",
       "3  Domestic garden (vegetation not equipment)                 1.0   \n",
       "\n",
       "   PumpHoursRoundUp  Notional Cost (£)  \n",
       "0               1.0              255.0  \n",
       "2               1.0              255.0  \n",
       "3               1.0              255.0  "
      ]
     },
     "execution_count": 11,
     "metadata": {},
     "output_type": "execute_result"
    }
   ],
   "source": [
    "# print\n",
    "ds2 = pd.DataFrame(ds)\n",
    "ds2[0:3]"
   ]
  },
  {
   "cell_type": "code",
   "execution_count": 12,
   "metadata": {
    "collapsed": false
   },
   "outputs": [],
   "source": [
    "# duplicate the date for inner join\n",
    "ds2['Date'] = ds2['DateOfCall']\n",
    "ds2['Date'] = pd.to_datetime(ds2['Date']).dt.strftime('%m/%d/%Y')"
   ]
  },
  {
   "cell_type": "code",
   "execution_count": 13,
   "metadata": {
    "collapsed": false
   },
   "outputs": [],
   "source": [
    "# convert: IncidentDate from date to month only\n",
    "ds2['DateOfCall'] = pd.to_datetime(ds2['DateOfCall']).dt.month"
   ]
  },
  {
   "cell_type": "code",
   "execution_count": 14,
   "id": "d1433abf",
   "metadata": {},
   "outputs": [],
   "source": [
    "# convert: we want to make sure all columns below are integers\n",
    "ds2['NumPumpsAttending'] = ds2['NumPumpsAttending'].astype('int64')\n",
    "ds2['Notional Cost (£)'] = ds2['Notional Cost (£)'].astype('int64')\n",
    "ds2['PumpHoursRoundUp'] = ds2['PumpHoursRoundUp'].astype('int64')\n",
    "ds2['HourOfCall'] = ds2['HourOfCall'].astype('int64')\n",
    "\n",
    "# convert: IncidentGroup to categorical (integers)\n",
    "ds2['IncidentGroup'] = pd.factorize(ds2['IncidentGroup'])[0]"
   ]
  },
  {
   "cell_type": "code",
   "execution_count": 15,
   "id": "d4c9c9ed",
   "metadata": {},
   "outputs": [],
   "source": [
    "# convert: PropertyType to categorical (integers)\n",
    "ds2['PropertyType'] = pd.factorize(ds2['PropertyType'])[0]\n",
    "\n",
    "# convert: PropertyType to categorical (integers)\n",
    "ds2['PropertyCategory'] = pd.factorize(ds2['PropertyCategory'])[0]"
   ]
  },
  {
   "cell_type": "code",
   "execution_count": 16,
   "id": "bc02002c",
   "metadata": {},
   "outputs": [
    {
     "data": {
      "text/plain": [
       "1453312"
      ]
     },
     "execution_count": 16,
     "metadata": {},
     "output_type": "execute_result"
    }
   ],
   "source": [
    "# save dataset to disk\n",
    "# current dataset version: clean, but no weather information\n",
    "ds2.to_csv('data/london_clean.csv', index=False)\n",
    "len(ds2)"
   ]
  },
  {
   "cell_type": "code",
   "execution_count": 17,
   "id": "390f6518",
   "metadata": {
    "collapsed": false
   },
   "outputs": [
    {
     "data": {
      "text/html": [
       "<div>\n",
       "<style scoped>\n",
       "    .dataframe tbody tr th:only-of-type {\n",
       "        vertical-align: middle;\n",
       "    }\n",
       "\n",
       "    .dataframe tbody tr th {\n",
       "        vertical-align: top;\n",
       "    }\n",
       "\n",
       "    .dataframe thead th {\n",
       "        text-align: right;\n",
       "    }\n",
       "</style>\n",
       "<table border=\"1\" class=\"dataframe\">\n",
       "  <thead>\n",
       "    <tr style=\"text-align: right;\">\n",
       "      <th></th>\n",
       "      <th>Date</th>\n",
       "      <th>cloud_cover</th>\n",
       "      <th>sunshine</th>\n",
       "      <th>global_radiation</th>\n",
       "      <th>max_temp</th>\n",
       "      <th>mean_temp</th>\n",
       "      <th>min_temp</th>\n",
       "      <th>precipitation</th>\n",
       "      <th>pressure</th>\n",
       "      <th>snow_depth</th>\n",
       "    </tr>\n",
       "  </thead>\n",
       "  <tbody>\n",
       "    <tr>\n",
       "      <th>0</th>\n",
       "      <td>01/01/1979</td>\n",
       "      <td>2.0</td>\n",
       "      <td>7.0</td>\n",
       "      <td>52.0</td>\n",
       "      <td>2.3</td>\n",
       "      <td>-4.1</td>\n",
       "      <td>-7.5</td>\n",
       "      <td>0.4</td>\n",
       "      <td>101900.0</td>\n",
       "      <td>9.0</td>\n",
       "    </tr>\n",
       "    <tr>\n",
       "      <th>1</th>\n",
       "      <td>01/02/1979</td>\n",
       "      <td>6.0</td>\n",
       "      <td>1.7</td>\n",
       "      <td>27.0</td>\n",
       "      <td>1.6</td>\n",
       "      <td>-2.6</td>\n",
       "      <td>-7.5</td>\n",
       "      <td>0.0</td>\n",
       "      <td>102530.0</td>\n",
       "      <td>8.0</td>\n",
       "    </tr>\n",
       "    <tr>\n",
       "      <th>2</th>\n",
       "      <td>01/03/1979</td>\n",
       "      <td>5.0</td>\n",
       "      <td>0.0</td>\n",
       "      <td>13.0</td>\n",
       "      <td>1.3</td>\n",
       "      <td>-2.8</td>\n",
       "      <td>-7.2</td>\n",
       "      <td>0.0</td>\n",
       "      <td>102050.0</td>\n",
       "      <td>4.0</td>\n",
       "    </tr>\n",
       "    <tr>\n",
       "      <th>3</th>\n",
       "      <td>01/04/1979</td>\n",
       "      <td>8.0</td>\n",
       "      <td>0.0</td>\n",
       "      <td>13.0</td>\n",
       "      <td>-0.3</td>\n",
       "      <td>-2.6</td>\n",
       "      <td>-6.5</td>\n",
       "      <td>0.0</td>\n",
       "      <td>100840.0</td>\n",
       "      <td>2.0</td>\n",
       "    </tr>\n",
       "    <tr>\n",
       "      <th>4</th>\n",
       "      <td>01/05/1979</td>\n",
       "      <td>6.0</td>\n",
       "      <td>2.0</td>\n",
       "      <td>29.0</td>\n",
       "      <td>5.6</td>\n",
       "      <td>-0.8</td>\n",
       "      <td>-1.4</td>\n",
       "      <td>0.0</td>\n",
       "      <td>102250.0</td>\n",
       "      <td>1.0</td>\n",
       "    </tr>\n",
       "  </tbody>\n",
       "</table>\n",
       "</div>"
      ],
      "text/plain": [
       "         Date  cloud_cover  sunshine  global_radiation  max_temp  mean_temp  \\\n",
       "0  01/01/1979          2.0       7.0              52.0       2.3       -4.1   \n",
       "1  01/02/1979          6.0       1.7              27.0       1.6       -2.6   \n",
       "2  01/03/1979          5.0       0.0              13.0       1.3       -2.8   \n",
       "3  01/04/1979          8.0       0.0              13.0      -0.3       -2.6   \n",
       "4  01/05/1979          6.0       2.0              29.0       5.6       -0.8   \n",
       "\n",
       "   min_temp  precipitation  pressure  snow_depth  \n",
       "0      -7.5            0.4  101900.0         9.0  \n",
       "1      -7.5            0.0  102530.0         8.0  \n",
       "2      -7.2            0.0  102050.0         4.0  \n",
       "3      -6.5            0.0  100840.0         2.0  \n",
       "4      -1.4            0.0  102250.0         1.0  "
      ]
     },
     "execution_count": 17,
     "metadata": {},
     "output_type": "execute_result"
    }
   ],
   "source": [
    "# load weather information\n",
    "weather_data = pd.read_csv('data/london_weather.csv')\n",
    "\n",
    "# convert data format, preparing for merge\n",
    "weather_data['date'] = pd.to_datetime(weather_data['date'], format='%Y%m%d').dt.strftime('%m/%d/%Y')\n",
    "weather_data = weather_data.rename(columns={'date': 'Date'})\n",
    "weather_data[0:5]"
   ]
  },
  {
   "cell_type": "code",
   "execution_count": 18,
   "metadata": {
    "collapsed": false
   },
   "outputs": [
    {
     "data": {
      "text/html": [
       "<div>\n",
       "<style scoped>\n",
       "    .dataframe tbody tr th:only-of-type {\n",
       "        vertical-align: middle;\n",
       "    }\n",
       "\n",
       "    .dataframe tbody tr th {\n",
       "        vertical-align: top;\n",
       "    }\n",
       "\n",
       "    .dataframe thead th {\n",
       "        text-align: right;\n",
       "    }\n",
       "</style>\n",
       "<table border=\"1\" class=\"dataframe\">\n",
       "  <thead>\n",
       "    <tr style=\"text-align: right;\">\n",
       "      <th></th>\n",
       "      <th>DateOfCall</th>\n",
       "      <th>CalYear</th>\n",
       "      <th>HourOfCall</th>\n",
       "      <th>IncidentGroup</th>\n",
       "      <th>PropertyCategory</th>\n",
       "      <th>PropertyType</th>\n",
       "      <th>NumPumpsAttending</th>\n",
       "      <th>PumpHoursRoundUp</th>\n",
       "      <th>Notional Cost (£)</th>\n",
       "      <th>Date</th>\n",
       "      <th>cloud_cover</th>\n",
       "      <th>sunshine</th>\n",
       "      <th>global_radiation</th>\n",
       "      <th>max_temp</th>\n",
       "      <th>mean_temp</th>\n",
       "      <th>min_temp</th>\n",
       "      <th>precipitation</th>\n",
       "      <th>pressure</th>\n",
       "      <th>snow_depth</th>\n",
       "    </tr>\n",
       "  </thead>\n",
       "  <tbody>\n",
       "    <tr>\n",
       "      <th>0</th>\n",
       "      <td>1</td>\n",
       "      <td>2009</td>\n",
       "      <td>0</td>\n",
       "      <td>0</td>\n",
       "      <td>0</td>\n",
       "      <td>0</td>\n",
       "      <td>2</td>\n",
       "      <td>1</td>\n",
       "      <td>255</td>\n",
       "      <td>01/01/2009</td>\n",
       "      <td>8.0</td>\n",
       "      <td>0.0</td>\n",
       "      <td>13.0</td>\n",
       "      <td>3.5</td>\n",
       "      <td>1.5</td>\n",
       "      <td>-0.5</td>\n",
       "      <td>0.0</td>\n",
       "      <td>103010.0</td>\n",
       "      <td>0.0</td>\n",
       "    </tr>\n",
       "    <tr>\n",
       "      <th>1</th>\n",
       "      <td>1</td>\n",
       "      <td>2009</td>\n",
       "      <td>0</td>\n",
       "      <td>1</td>\n",
       "      <td>1</td>\n",
       "      <td>1</td>\n",
       "      <td>1</td>\n",
       "      <td>1</td>\n",
       "      <td>255</td>\n",
       "      <td>01/01/2009</td>\n",
       "      <td>8.0</td>\n",
       "      <td>0.0</td>\n",
       "      <td>13.0</td>\n",
       "      <td>3.5</td>\n",
       "      <td>1.5</td>\n",
       "      <td>-0.5</td>\n",
       "      <td>0.0</td>\n",
       "      <td>103010.0</td>\n",
       "      <td>0.0</td>\n",
       "    </tr>\n",
       "    <tr>\n",
       "      <th>2</th>\n",
       "      <td>1</td>\n",
       "      <td>2009</td>\n",
       "      <td>0</td>\n",
       "      <td>1</td>\n",
       "      <td>1</td>\n",
       "      <td>2</td>\n",
       "      <td>1</td>\n",
       "      <td>1</td>\n",
       "      <td>255</td>\n",
       "      <td>01/01/2009</td>\n",
       "      <td>8.0</td>\n",
       "      <td>0.0</td>\n",
       "      <td>13.0</td>\n",
       "      <td>3.5</td>\n",
       "      <td>1.5</td>\n",
       "      <td>-0.5</td>\n",
       "      <td>0.0</td>\n",
       "      <td>103010.0</td>\n",
       "      <td>0.0</td>\n",
       "    </tr>\n",
       "    <tr>\n",
       "      <th>3</th>\n",
       "      <td>1</td>\n",
       "      <td>2009</td>\n",
       "      <td>0</td>\n",
       "      <td>1</td>\n",
       "      <td>1</td>\n",
       "      <td>3</td>\n",
       "      <td>2</td>\n",
       "      <td>1</td>\n",
       "      <td>255</td>\n",
       "      <td>01/01/2009</td>\n",
       "      <td>8.0</td>\n",
       "      <td>0.0</td>\n",
       "      <td>13.0</td>\n",
       "      <td>3.5</td>\n",
       "      <td>1.5</td>\n",
       "      <td>-0.5</td>\n",
       "      <td>0.0</td>\n",
       "      <td>103010.0</td>\n",
       "      <td>0.0</td>\n",
       "    </tr>\n",
       "    <tr>\n",
       "      <th>4</th>\n",
       "      <td>1</td>\n",
       "      <td>2009</td>\n",
       "      <td>0</td>\n",
       "      <td>2</td>\n",
       "      <td>2</td>\n",
       "      <td>4</td>\n",
       "      <td>2</td>\n",
       "      <td>1</td>\n",
       "      <td>255</td>\n",
       "      <td>01/01/2009</td>\n",
       "      <td>8.0</td>\n",
       "      <td>0.0</td>\n",
       "      <td>13.0</td>\n",
       "      <td>3.5</td>\n",
       "      <td>1.5</td>\n",
       "      <td>-0.5</td>\n",
       "      <td>0.0</td>\n",
       "      <td>103010.0</td>\n",
       "      <td>0.0</td>\n",
       "    </tr>\n",
       "  </tbody>\n",
       "</table>\n",
       "</div>"
      ],
      "text/plain": [
       "   DateOfCall  CalYear  HourOfCall  IncidentGroup  PropertyCategory  \\\n",
       "0           1     2009           0              0                 0   \n",
       "1           1     2009           0              1                 1   \n",
       "2           1     2009           0              1                 1   \n",
       "3           1     2009           0              1                 1   \n",
       "4           1     2009           0              2                 2   \n",
       "\n",
       "   PropertyType  NumPumpsAttending  PumpHoursRoundUp  Notional Cost (£)  \\\n",
       "0             0                  2                 1                255   \n",
       "1             1                  1                 1                255   \n",
       "2             2                  1                 1                255   \n",
       "3             3                  2                 1                255   \n",
       "4             4                  2                 1                255   \n",
       "\n",
       "         Date  cloud_cover  sunshine  global_radiation  max_temp  mean_temp  \\\n",
       "0  01/01/2009          8.0       0.0              13.0       3.5        1.5   \n",
       "1  01/01/2009          8.0       0.0              13.0       3.5        1.5   \n",
       "2  01/01/2009          8.0       0.0              13.0       3.5        1.5   \n",
       "3  01/01/2009          8.0       0.0              13.0       3.5        1.5   \n",
       "4  01/01/2009          8.0       0.0              13.0       3.5        1.5   \n",
       "\n",
       "   min_temp  precipitation  pressure  snow_depth  \n",
       "0      -0.5            0.0  103010.0         0.0  \n",
       "1      -0.5            0.0  103010.0         0.0  \n",
       "2      -0.5            0.0  103010.0         0.0  \n",
       "3      -0.5            0.0  103010.0         0.0  \n",
       "4      -0.5            0.0  103010.0         0.0  "
      ]
     },
     "execution_count": 18,
     "metadata": {},
     "output_type": "execute_result"
    }
   ],
   "source": [
    "# do merge\n",
    "ds_merged = pd.merge(ds2, weather_data, on='Date')\n",
    "ds4 = None\n",
    "\n",
    "# drop rows without mean temp\n",
    "ds_merged = ds_merged[ds_merged['mean_temp'].notna()]\n",
    "ds_merged[0:5]"
   ]
  },
  {
   "cell_type": "code",
   "execution_count": 19,
   "metadata": {
    "collapsed": false
   },
   "outputs": [
    {
     "name": "stdout",
     "output_type": "stream",
     "text": [
      "0    701094\n",
      "1    425134\n",
      "2    104288\n",
      "5     24706\n",
      "3     16375\n",
      "4     15020\n",
      "Name: CostCat, dtype: int64\n",
      "1286617\n"
     ]
    }
   ],
   "source": [
    "# create an array where notional cost is converted into categorical values\n",
    "# attention! it must be done after join to guarantee all categories will be represented in the dataset\n",
    "cost_cat = []\n",
    "for item in ds_merged['Notional Cost (£)'].values:\n",
    "    if item < 300:\n",
    "        cost_cat.append(0)\n",
    "    elif item >= 300 and item < 500:\n",
    "        cost_cat.append(1)\n",
    "    elif item >= 500 and item < 700:\n",
    "        cost_cat.append(2)\n",
    "    elif item >= 700 and item < 900:\n",
    "        cost_cat.append(3)\n",
    "    elif item >= 900 and item < 1100:\n",
    "        cost_cat.append(4)    \n",
    "    else:\n",
    "        cost_cat.append(5)\n",
    "\n",
    "# add cost categories to dataset\n",
    "ds_merged['CostCat'] = cost_cat\n",
    "\n",
    "# check wheter the categories exist and how many corresponding rows they have\n",
    "print(ds_merged['CostCat'].value_counts())\n",
    "print(len(ds_merged))"
   ]
  },
  {
   "cell_type": "code",
   "execution_count": 20,
   "metadata": {
    "collapsed": false
   },
   "outputs": [],
   "source": [
    "# save dataset to disk\n",
    "# current dataset version: clean and merged with weather information\n",
    "ds_merged.to_csv('data/london_clean.csv', index=False)"
   ]
  }
 ],
 "metadata": {
  "kernelspec": {
   "display_name": "Python 3",
   "language": "python",
   "name": "python3"
  },
  "language_info": {
   "codemirror_mode": {
    "name": "ipython",
    "version": 3
   },
   "file_extension": ".py",
   "mimetype": "text/x-python",
   "name": "python",
   "nbconvert_exporter": "python",
   "pygments_lexer": "ipython3",
   "version": "3.8.10"
  },
  "vscode": {
   "interpreter": {
    "hash": "31f2aee4e71d21fbe5cf8b01ff0e069b9275f58929596ceb00d14d90e3e16cd6"
   }
  }
 },
 "nbformat": 4,
 "nbformat_minor": 5
}
