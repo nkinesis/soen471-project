{
 "cells": [
  {
   "attachments": {},
   "cell_type": "markdown",
   "id": "f1ef7980",
   "metadata": {},
   "source": [
    "### Data preprocessing\n",
    "In this tutorial, we show the data preprocessing steps for firefighting cost prediction with tree-based models."
   ]
  },
  {
   "attachments": {},
   "cell_type": "markdown",
   "id": "dcd167a8",
   "metadata": {},
   "source": [
    "### 1. Import libraries\n",
    "For the preprocessing, we will use pandas for loading the dataset and performing some operations with its rows and columns. We also use datetime to deal with date formatting and other operations. The specific operations we performed will be explained as we advance in the tutorial."
   ]
  },
  {
   "cell_type": "code",
   "execution_count": 2,
   "id": "ad39133a",
   "metadata": {},
   "outputs": [],
   "source": [
    "import pandas as pd\n",
    "from datetime import datetime"
   ]
  },
  {
   "attachments": {},
   "cell_type": "markdown",
   "id": "11a6796b",
   "metadata": {},
   "source": [
    "### 2. Load the dataset \n",
    "We load the dataset from data/lfb_incident.csv. This file was not added to this repo because it is very large. However, you can download it from Kaggle via the links provided on README on the root of the repo. \n",
    "\n",
    "We then select the columns we intend to use. The choice of columns was at first based on what we thought would work best ofr predicting fires in a real world scenario. We asked ourselves: right after the fire department receives a fire call and sends the firemen to check it, what kind of data they have about the incident?\n",
    "- Date and time\n",
    "- Place (e.g. they know if it is in a building, a house, a park, etc.)\n",
    "- Number of fire engines sent to work on the incident\n",
    "\n",
    "Therefore, we selected the columns that contain these data, as well as the variable we want to predict: cost. We later check for correlation between these variables in another notebook (preprocessing/2_check_correlation.ipynb).\n",
    "\n",
    "At this point we did not do any filtering, so the dataset contains 1,465,060 rows."
   ]
  },
  {
   "cell_type": "code",
   "execution_count": 3,
   "id": "515bd07a",
   "metadata": {},
   "outputs": [
    {
     "name": "stdout",
     "output_type": "stream",
     "text": [
      "Count: 1465060\n"
     ]
    }
   ],
   "source": [
    "used_cols = ['DateOfCall', 'CalYear', 'HourOfCall', 'IncidentGroup', \n",
    "'PropertyType', 'PumpHoursRoundUp', 'NumPumpsAttending', \n",
    "'Notional Cost (£)', 'PropertyCategory']\n",
    "ds = pd.read_csv('data/lfb_incident.csv', usecols=used_cols)\n",
    "print(\"Count:\", len(ds))"
   ]
  },
  {
   "attachments": {},
   "cell_type": "markdown",
   "id": "8a865dc0",
   "metadata": {},
   "source": [
    "### 2. Drop NaN values\n",
    "We drop any rows containing NaN values. Current row count: 1,453,312."
   ]
  },
  {
   "cell_type": "code",
   "execution_count": 4,
   "id": "196e273f",
   "metadata": {},
   "outputs": [
    {
     "name": "stdout",
     "output_type": "stream",
     "text": [
      "Count: 1453312\n"
     ]
    }
   ],
   "source": [
    "ds = ds.dropna()\n",
    "print(\"Count:\", len(ds))"
   ]
  },
  {
   "attachments": {},
   "cell_type": "markdown",
   "id": "343e8654",
   "metadata": {},
   "source": [
    "### 3. Duplicate DateOfCall column\n",
    "We duplicate the column DateOfCall and convert it to the format month/day/year. This will be needed later for joining with weather data. See step 9 for more info."
   ]
  },
  {
   "cell_type": "code",
   "execution_count": 5,
   "metadata": {
    "collapsed": false
   },
   "outputs": [],
   "source": [
    "ds2 = pd.DataFrame(ds)\n",
    "ds2['Date'] = ds2['DateOfCall']\n",
    "ds2['Date'] = pd.to_datetime(ds2['Date']).dt.strftime('%m/%d/%Y')"
   ]
  },
  {
   "attachments": {},
   "cell_type": "markdown",
   "id": "fd33d71d",
   "metadata": {},
   "source": [
    "### 4. Convert DateOfCall column\n",
    "We convert the column DateOfCall to month only. This is necessary because we need this feature to be discrete (have distinct, countable values). However, there are too many combination of day/month/year. Therefore, we decided to reduce that to 12 categories, the 12 months of the year. For our model, monthly precision is good enough."
   ]
  },
  {
   "cell_type": "code",
   "execution_count": 6,
   "metadata": {
    "collapsed": false
   },
   "outputs": [
    {
     "data": {
      "text/html": [
       "<div>\n",
       "<style scoped>\n",
       "    .dataframe tbody tr th:only-of-type {\n",
       "        vertical-align: middle;\n",
       "    }\n",
       "\n",
       "    .dataframe tbody tr th {\n",
       "        vertical-align: top;\n",
       "    }\n",
       "\n",
       "    .dataframe thead th {\n",
       "        text-align: right;\n",
       "    }\n",
       "</style>\n",
       "<table border=\"1\" class=\"dataframe\">\n",
       "  <thead>\n",
       "    <tr style=\"text-align: right;\">\n",
       "      <th></th>\n",
       "      <th>DateOfCall</th>\n",
       "      <th>CalYear</th>\n",
       "      <th>HourOfCall</th>\n",
       "      <th>IncidentGroup</th>\n",
       "      <th>PropertyCategory</th>\n",
       "      <th>PropertyType</th>\n",
       "      <th>NumPumpsAttending</th>\n",
       "      <th>PumpHoursRoundUp</th>\n",
       "      <th>Notional Cost (£)</th>\n",
       "      <th>Date</th>\n",
       "    </tr>\n",
       "  </thead>\n",
       "  <tbody>\n",
       "    <tr>\n",
       "      <th>0</th>\n",
       "      <td>1</td>\n",
       "      <td>2009</td>\n",
       "      <td>0</td>\n",
       "      <td>Special Service</td>\n",
       "      <td>Road Vehicle</td>\n",
       "      <td>Car</td>\n",
       "      <td>2.0</td>\n",
       "      <td>1.0</td>\n",
       "      <td>255.0</td>\n",
       "      <td>01/01/2009</td>\n",
       "    </tr>\n",
       "    <tr>\n",
       "      <th>2</th>\n",
       "      <td>1</td>\n",
       "      <td>2009</td>\n",
       "      <td>0</td>\n",
       "      <td>Fire</td>\n",
       "      <td>Outdoor</td>\n",
       "      <td>Road surface/pavement</td>\n",
       "      <td>1.0</td>\n",
       "      <td>1.0</td>\n",
       "      <td>255.0</td>\n",
       "      <td>01/01/2009</td>\n",
       "    </tr>\n",
       "    <tr>\n",
       "      <th>3</th>\n",
       "      <td>1</td>\n",
       "      <td>2009</td>\n",
       "      <td>0</td>\n",
       "      <td>Fire</td>\n",
       "      <td>Outdoor</td>\n",
       "      <td>Domestic garden (vegetation not equipment)</td>\n",
       "      <td>1.0</td>\n",
       "      <td>1.0</td>\n",
       "      <td>255.0</td>\n",
       "      <td>01/01/2009</td>\n",
       "    </tr>\n",
       "    <tr>\n",
       "      <th>4</th>\n",
       "      <td>1</td>\n",
       "      <td>2009</td>\n",
       "      <td>0</td>\n",
       "      <td>Fire</td>\n",
       "      <td>Outdoor</td>\n",
       "      <td>Cycle path/public footpath/bridleway</td>\n",
       "      <td>2.0</td>\n",
       "      <td>1.0</td>\n",
       "      <td>255.0</td>\n",
       "      <td>01/01/2009</td>\n",
       "    </tr>\n",
       "    <tr>\n",
       "      <th>5</th>\n",
       "      <td>1</td>\n",
       "      <td>2009</td>\n",
       "      <td>0</td>\n",
       "      <td>False Alarm</td>\n",
       "      <td>Dwelling</td>\n",
       "      <td>Purpose Built Flats/Maisonettes - Up to 3 stor...</td>\n",
       "      <td>2.0</td>\n",
       "      <td>1.0</td>\n",
       "      <td>255.0</td>\n",
       "      <td>01/01/2009</td>\n",
       "    </tr>\n",
       "  </tbody>\n",
       "</table>\n",
       "</div>"
      ],
      "text/plain": [
       "   DateOfCall  CalYear  HourOfCall    IncidentGroup PropertyCategory  \\\n",
       "0           1     2009           0  Special Service     Road Vehicle   \n",
       "2           1     2009           0             Fire          Outdoor   \n",
       "3           1     2009           0             Fire          Outdoor   \n",
       "4           1     2009           0             Fire          Outdoor   \n",
       "5           1     2009           0      False Alarm         Dwelling   \n",
       "\n",
       "                                        PropertyType  NumPumpsAttending  \\\n",
       "0                                               Car                 2.0   \n",
       "2                             Road surface/pavement                 1.0   \n",
       "3        Domestic garden (vegetation not equipment)                 1.0   \n",
       "4              Cycle path/public footpath/bridleway                 2.0   \n",
       "5  Purpose Built Flats/Maisonettes - Up to 3 stor...                2.0   \n",
       "\n",
       "   PumpHoursRoundUp  Notional Cost (£)        Date  \n",
       "0               1.0              255.0  01/01/2009  \n",
       "2               1.0              255.0  01/01/2009  \n",
       "3               1.0              255.0  01/01/2009  \n",
       "4               1.0              255.0  01/01/2009  \n",
       "5               1.0              255.0  01/01/2009  "
      ]
     },
     "execution_count": 6,
     "metadata": {},
     "output_type": "execute_result"
    }
   ],
   "source": [
    "ds2['DateOfCall'] = pd.to_datetime(ds2['DateOfCall']).dt.month\n",
    "ds2[0:5]"
   ]
  },
  {
   "attachments": {},
   "cell_type": "markdown",
   "id": "a65ae724",
   "metadata": {},
   "source": [
    "### 5. Standardizing numerical variables\n",
    "We converted all numerical variables (e.g. number of pumps, cost, etc.) to int64."
   ]
  },
  {
   "cell_type": "code",
   "execution_count": 7,
   "id": "d1433abf",
   "metadata": {},
   "outputs": [],
   "source": [
    "ds2['NumPumpsAttending'] = ds2['NumPumpsAttending'].astype('int64')\n",
    "ds2['Notional Cost (£)'] = ds2['Notional Cost (£)'].astype('int64')\n",
    "ds2['PumpHoursRoundUp'] = ds2['PumpHoursRoundUp'].astype('int64')\n",
    "ds2['HourOfCall'] = ds2['HourOfCall'].astype('int64')"
   ]
  },
  {
   "attachments": {},
   "cell_type": "markdown",
   "id": "2b675173",
   "metadata": {},
   "source": [
    "### 6. Standardizing categorical variables\n",
    "Categorical variables (e.g. incident group, property type, etc.) were originally strings (e.g. \"building\" or \"house\" for PropertyType). We factorized them or, in other words, we converted them to categorical integer values (e.g. \"building\" becomes 1, \"house\" becomes 2, etc.)."
   ]
  },
  {
   "cell_type": "code",
   "execution_count": 8,
   "id": "d4c9c9ed",
   "metadata": {},
   "outputs": [],
   "source": [
    "ds2['IncidentGroup'] = pd.factorize(ds2['IncidentGroup'])[0]\n",
    "ds2['PropertyType'] = pd.factorize(ds2['PropertyType'])[0]\n",
    "ds2['PropertyCategory'] = pd.factorize(ds2['PropertyCategory'])[0]"
   ]
  },
  {
   "attachments": {},
   "cell_type": "markdown",
   "id": "4bd36f45",
   "metadata": {},
   "source": [
    "### 7. Saving\n",
    "We made a lot of changes to the dataset so far so at this point we save to disk. Next, we will join this dataset with another one, containing weather data. Current row count: 1,453,312."
   ]
  },
  {
   "cell_type": "code",
   "execution_count": 9,
   "id": "bc02002c",
   "metadata": {},
   "outputs": [
    {
     "data": {
      "text/plain": [
       "1453312"
      ]
     },
     "execution_count": 9,
     "metadata": {},
     "output_type": "execute_result"
    }
   ],
   "source": [
    "ds2.to_csv('data/london_clean.csv', index=False)\n",
    "len(ds2)"
   ]
  },
  {
   "attachments": {},
   "cell_type": "markdown",
   "id": "7270bd03",
   "metadata": {},
   "source": [
    "### 8. Load and prepare weather data\n",
    "We load weather data from data/london_weather.csv. We convert the Date column to the format month/day/year, so it matches the format in our other dataset. This is very important because this column will be used for the join operation we will do next."
   ]
  },
  {
   "cell_type": "code",
   "execution_count": 10,
   "id": "390f6518",
   "metadata": {
    "collapsed": false
   },
   "outputs": [
    {
     "data": {
      "text/html": [
       "<div>\n",
       "<style scoped>\n",
       "    .dataframe tbody tr th:only-of-type {\n",
       "        vertical-align: middle;\n",
       "    }\n",
       "\n",
       "    .dataframe tbody tr th {\n",
       "        vertical-align: top;\n",
       "    }\n",
       "\n",
       "    .dataframe thead th {\n",
       "        text-align: right;\n",
       "    }\n",
       "</style>\n",
       "<table border=\"1\" class=\"dataframe\">\n",
       "  <thead>\n",
       "    <tr style=\"text-align: right;\">\n",
       "      <th></th>\n",
       "      <th>Date</th>\n",
       "      <th>cloud_cover</th>\n",
       "      <th>sunshine</th>\n",
       "      <th>global_radiation</th>\n",
       "      <th>max_temp</th>\n",
       "      <th>mean_temp</th>\n",
       "      <th>min_temp</th>\n",
       "      <th>precipitation</th>\n",
       "      <th>pressure</th>\n",
       "      <th>snow_depth</th>\n",
       "    </tr>\n",
       "  </thead>\n",
       "  <tbody>\n",
       "    <tr>\n",
       "      <th>0</th>\n",
       "      <td>01/01/1979</td>\n",
       "      <td>2.0</td>\n",
       "      <td>7.0</td>\n",
       "      <td>52.0</td>\n",
       "      <td>2.3</td>\n",
       "      <td>-4.1</td>\n",
       "      <td>-7.5</td>\n",
       "      <td>0.4</td>\n",
       "      <td>101900.0</td>\n",
       "      <td>9.0</td>\n",
       "    </tr>\n",
       "    <tr>\n",
       "      <th>1</th>\n",
       "      <td>01/02/1979</td>\n",
       "      <td>6.0</td>\n",
       "      <td>1.7</td>\n",
       "      <td>27.0</td>\n",
       "      <td>1.6</td>\n",
       "      <td>-2.6</td>\n",
       "      <td>-7.5</td>\n",
       "      <td>0.0</td>\n",
       "      <td>102530.0</td>\n",
       "      <td>8.0</td>\n",
       "    </tr>\n",
       "    <tr>\n",
       "      <th>2</th>\n",
       "      <td>01/03/1979</td>\n",
       "      <td>5.0</td>\n",
       "      <td>0.0</td>\n",
       "      <td>13.0</td>\n",
       "      <td>1.3</td>\n",
       "      <td>-2.8</td>\n",
       "      <td>-7.2</td>\n",
       "      <td>0.0</td>\n",
       "      <td>102050.0</td>\n",
       "      <td>4.0</td>\n",
       "    </tr>\n",
       "    <tr>\n",
       "      <th>3</th>\n",
       "      <td>01/04/1979</td>\n",
       "      <td>8.0</td>\n",
       "      <td>0.0</td>\n",
       "      <td>13.0</td>\n",
       "      <td>-0.3</td>\n",
       "      <td>-2.6</td>\n",
       "      <td>-6.5</td>\n",
       "      <td>0.0</td>\n",
       "      <td>100840.0</td>\n",
       "      <td>2.0</td>\n",
       "    </tr>\n",
       "    <tr>\n",
       "      <th>4</th>\n",
       "      <td>01/05/1979</td>\n",
       "      <td>6.0</td>\n",
       "      <td>2.0</td>\n",
       "      <td>29.0</td>\n",
       "      <td>5.6</td>\n",
       "      <td>-0.8</td>\n",
       "      <td>-1.4</td>\n",
       "      <td>0.0</td>\n",
       "      <td>102250.0</td>\n",
       "      <td>1.0</td>\n",
       "    </tr>\n",
       "  </tbody>\n",
       "</table>\n",
       "</div>"
      ],
      "text/plain": [
       "         Date  cloud_cover  sunshine  global_radiation  max_temp  mean_temp  \\\n",
       "0  01/01/1979          2.0       7.0              52.0       2.3       -4.1   \n",
       "1  01/02/1979          6.0       1.7              27.0       1.6       -2.6   \n",
       "2  01/03/1979          5.0       0.0              13.0       1.3       -2.8   \n",
       "3  01/04/1979          8.0       0.0              13.0      -0.3       -2.6   \n",
       "4  01/05/1979          6.0       2.0              29.0       5.6       -0.8   \n",
       "\n",
       "   min_temp  precipitation  pressure  snow_depth  \n",
       "0      -7.5            0.4  101900.0         9.0  \n",
       "1      -7.5            0.0  102530.0         8.0  \n",
       "2      -7.2            0.0  102050.0         4.0  \n",
       "3      -6.5            0.0  100840.0         2.0  \n",
       "4      -1.4            0.0  102250.0         1.0  "
      ]
     },
     "execution_count": 10,
     "metadata": {},
     "output_type": "execute_result"
    }
   ],
   "source": [
    "weather_data = pd.read_csv('data/london_weather.csv')\n",
    "weather_data['date'] = pd.to_datetime(weather_data['date'], format='%Y%m%d').dt.strftime('%m/%d/%Y')\n",
    "weather_data = weather_data.rename(columns={'date': 'Date'})\n",
    "weather_data[0:5]"
   ]
  },
  {
   "attachments": {},
   "cell_type": "markdown",
   "id": "7e4308c3",
   "metadata": {},
   "source": [
    "### 9. Join the datasets\n",
    "While this operation is frequently called \"join\" in the context of relational databases, for example, in pandas it is called \"merge\". The principle, however, is the same: we choose a column that exists is both datasets and we perform an \"inner join\" (intersection of keys from both datasets)."
   ]
  },
  {
   "cell_type": "code",
   "execution_count": 11,
   "metadata": {
    "collapsed": false
   },
   "outputs": [
    {
     "data": {
      "text/html": [
       "<div>\n",
       "<style scoped>\n",
       "    .dataframe tbody tr th:only-of-type {\n",
       "        vertical-align: middle;\n",
       "    }\n",
       "\n",
       "    .dataframe tbody tr th {\n",
       "        vertical-align: top;\n",
       "    }\n",
       "\n",
       "    .dataframe thead th {\n",
       "        text-align: right;\n",
       "    }\n",
       "</style>\n",
       "<table border=\"1\" class=\"dataframe\">\n",
       "  <thead>\n",
       "    <tr style=\"text-align: right;\">\n",
       "      <th></th>\n",
       "      <th>DateOfCall</th>\n",
       "      <th>CalYear</th>\n",
       "      <th>HourOfCall</th>\n",
       "      <th>IncidentGroup</th>\n",
       "      <th>PropertyCategory</th>\n",
       "      <th>PropertyType</th>\n",
       "      <th>NumPumpsAttending</th>\n",
       "      <th>PumpHoursRoundUp</th>\n",
       "      <th>Notional Cost (£)</th>\n",
       "      <th>Date</th>\n",
       "      <th>cloud_cover</th>\n",
       "      <th>sunshine</th>\n",
       "      <th>global_radiation</th>\n",
       "      <th>max_temp</th>\n",
       "      <th>mean_temp</th>\n",
       "      <th>min_temp</th>\n",
       "      <th>precipitation</th>\n",
       "      <th>pressure</th>\n",
       "      <th>snow_depth</th>\n",
       "    </tr>\n",
       "  </thead>\n",
       "  <tbody>\n",
       "    <tr>\n",
       "      <th>0</th>\n",
       "      <td>1</td>\n",
       "      <td>2009</td>\n",
       "      <td>0</td>\n",
       "      <td>0</td>\n",
       "      <td>0</td>\n",
       "      <td>0</td>\n",
       "      <td>2</td>\n",
       "      <td>1</td>\n",
       "      <td>255</td>\n",
       "      <td>01/01/2009</td>\n",
       "      <td>8.0</td>\n",
       "      <td>0.0</td>\n",
       "      <td>13.0</td>\n",
       "      <td>3.5</td>\n",
       "      <td>1.5</td>\n",
       "      <td>-0.5</td>\n",
       "      <td>0.0</td>\n",
       "      <td>103010.0</td>\n",
       "      <td>0.0</td>\n",
       "    </tr>\n",
       "    <tr>\n",
       "      <th>1</th>\n",
       "      <td>1</td>\n",
       "      <td>2009</td>\n",
       "      <td>0</td>\n",
       "      <td>1</td>\n",
       "      <td>1</td>\n",
       "      <td>1</td>\n",
       "      <td>1</td>\n",
       "      <td>1</td>\n",
       "      <td>255</td>\n",
       "      <td>01/01/2009</td>\n",
       "      <td>8.0</td>\n",
       "      <td>0.0</td>\n",
       "      <td>13.0</td>\n",
       "      <td>3.5</td>\n",
       "      <td>1.5</td>\n",
       "      <td>-0.5</td>\n",
       "      <td>0.0</td>\n",
       "      <td>103010.0</td>\n",
       "      <td>0.0</td>\n",
       "    </tr>\n",
       "    <tr>\n",
       "      <th>2</th>\n",
       "      <td>1</td>\n",
       "      <td>2009</td>\n",
       "      <td>0</td>\n",
       "      <td>1</td>\n",
       "      <td>1</td>\n",
       "      <td>2</td>\n",
       "      <td>1</td>\n",
       "      <td>1</td>\n",
       "      <td>255</td>\n",
       "      <td>01/01/2009</td>\n",
       "      <td>8.0</td>\n",
       "      <td>0.0</td>\n",
       "      <td>13.0</td>\n",
       "      <td>3.5</td>\n",
       "      <td>1.5</td>\n",
       "      <td>-0.5</td>\n",
       "      <td>0.0</td>\n",
       "      <td>103010.0</td>\n",
       "      <td>0.0</td>\n",
       "    </tr>\n",
       "    <tr>\n",
       "      <th>3</th>\n",
       "      <td>1</td>\n",
       "      <td>2009</td>\n",
       "      <td>0</td>\n",
       "      <td>1</td>\n",
       "      <td>1</td>\n",
       "      <td>3</td>\n",
       "      <td>2</td>\n",
       "      <td>1</td>\n",
       "      <td>255</td>\n",
       "      <td>01/01/2009</td>\n",
       "      <td>8.0</td>\n",
       "      <td>0.0</td>\n",
       "      <td>13.0</td>\n",
       "      <td>3.5</td>\n",
       "      <td>1.5</td>\n",
       "      <td>-0.5</td>\n",
       "      <td>0.0</td>\n",
       "      <td>103010.0</td>\n",
       "      <td>0.0</td>\n",
       "    </tr>\n",
       "    <tr>\n",
       "      <th>4</th>\n",
       "      <td>1</td>\n",
       "      <td>2009</td>\n",
       "      <td>0</td>\n",
       "      <td>2</td>\n",
       "      <td>2</td>\n",
       "      <td>4</td>\n",
       "      <td>2</td>\n",
       "      <td>1</td>\n",
       "      <td>255</td>\n",
       "      <td>01/01/2009</td>\n",
       "      <td>8.0</td>\n",
       "      <td>0.0</td>\n",
       "      <td>13.0</td>\n",
       "      <td>3.5</td>\n",
       "      <td>1.5</td>\n",
       "      <td>-0.5</td>\n",
       "      <td>0.0</td>\n",
       "      <td>103010.0</td>\n",
       "      <td>0.0</td>\n",
       "    </tr>\n",
       "  </tbody>\n",
       "</table>\n",
       "</div>"
      ],
      "text/plain": [
       "   DateOfCall  CalYear  HourOfCall  IncidentGroup  PropertyCategory  \\\n",
       "0           1     2009           0              0                 0   \n",
       "1           1     2009           0              1                 1   \n",
       "2           1     2009           0              1                 1   \n",
       "3           1     2009           0              1                 1   \n",
       "4           1     2009           0              2                 2   \n",
       "\n",
       "   PropertyType  NumPumpsAttending  PumpHoursRoundUp  Notional Cost (£)  \\\n",
       "0             0                  2                 1                255   \n",
       "1             1                  1                 1                255   \n",
       "2             2                  1                 1                255   \n",
       "3             3                  2                 1                255   \n",
       "4             4                  2                 1                255   \n",
       "\n",
       "         Date  cloud_cover  sunshine  global_radiation  max_temp  mean_temp  \\\n",
       "0  01/01/2009          8.0       0.0              13.0       3.5        1.5   \n",
       "1  01/01/2009          8.0       0.0              13.0       3.5        1.5   \n",
       "2  01/01/2009          8.0       0.0              13.0       3.5        1.5   \n",
       "3  01/01/2009          8.0       0.0              13.0       3.5        1.5   \n",
       "4  01/01/2009          8.0       0.0              13.0       3.5        1.5   \n",
       "\n",
       "   min_temp  precipitation  pressure  snow_depth  \n",
       "0      -0.5            0.0  103010.0         0.0  \n",
       "1      -0.5            0.0  103010.0         0.0  \n",
       "2      -0.5            0.0  103010.0         0.0  \n",
       "3      -0.5            0.0  103010.0         0.0  \n",
       "4      -0.5            0.0  103010.0         0.0  "
      ]
     },
     "execution_count": 11,
     "metadata": {},
     "output_type": "execute_result"
    }
   ],
   "source": [
    "ds_merged = pd.merge(ds2, weather_data, on='Date')\n",
    "ds_merged[0:5]"
   ]
  },
  {
   "attachments": {},
   "cell_type": "markdown",
   "id": "f9d42981",
   "metadata": {},
   "source": [
    "### 10. Remove rows without temparature data\n",
    "Temperature is an important component in fire incidents (e.g. hot temperatures make it hard to put of a fire, or make some kinds of fires more likely). Therefore, we need it for our predictions and all rows that do not have this data can be removed. Current row count: 1,286,617."
   ]
  },
  {
   "cell_type": "code",
   "execution_count": 12,
   "id": "b83b6f24",
   "metadata": {},
   "outputs": [
    {
     "name": "stdout",
     "output_type": "stream",
     "text": [
      "1286617\n"
     ]
    }
   ],
   "source": [
    "ds_merged = ds_merged[ds_merged['mean_temp'].notna()]\n",
    "print(len(ds_merged))"
   ]
  },
  {
   "attachments": {},
   "cell_type": "markdown",
   "id": "a467f85e",
   "metadata": {},
   "source": [
    "### 11. Creating cost categories\n",
    "Our output feature is the fire pumps' notional cost in pound sterling (£). The cost value was originally a continuous numerical variable, but we converted it to a categorical variable, dividing and categorizing the numerical value in intervals of £300. For example, all records of cost between £0.00 and £300.00 fall under category 1, all records of cost between £300.01 and £500.00 fall under category 2, and so on. All records with costs larger than £1100.00 fall under category 5. \n",
    "\n",
    "IMPORTANT: this step MUST be performed after the join and all other filtering steps. If we do this first and filter after, we risk not having all categories from 1 to 5 represented in the dataset, which will cause problems when training the tree models.\n"
   ]
  },
  {
   "cell_type": "code",
   "execution_count": 13,
   "metadata": {
    "collapsed": false
   },
   "outputs": [
    {
     "name": "stdout",
     "output_type": "stream",
     "text": [
      "0    701094\n",
      "1    425134\n",
      "2    104288\n",
      "5     24706\n",
      "3     16375\n",
      "4     15020\n",
      "Name: CostCat, dtype: int64\n",
      "1286617\n"
     ]
    }
   ],
   "source": [
    "# check to which category each cost belongs to\n",
    "cost_cat = []\n",
    "for item in ds_merged['Notional Cost (£)'].values:\n",
    "    if item < 300:\n",
    "        cost_cat.append(0)\n",
    "    elif item >= 300 and item < 500:\n",
    "        cost_cat.append(1)\n",
    "    elif item >= 500 and item < 700:\n",
    "        cost_cat.append(2)\n",
    "    elif item >= 700 and item < 900:\n",
    "        cost_cat.append(3)\n",
    "    elif item >= 900 and item < 1100:\n",
    "        cost_cat.append(4)    \n",
    "    else:\n",
    "        cost_cat.append(5)\n",
    "\n",
    "# add cost categories to dataset\n",
    "ds_merged['CostCat'] = cost_cat\n",
    "\n",
    "# check wheter the categories exist and how many corresponding rows they have\n",
    "print(ds_merged['CostCat'].value_counts())\n",
    "print(len(ds_merged))"
   ]
  },
  {
   "attachments": {},
   "cell_type": "markdown",
   "id": "ac420f63",
   "metadata": {},
   "source": [
    "### 12. Save\n",
    "Save the final result to disk. This will be used to train or tree models."
   ]
  },
  {
   "cell_type": "code",
   "execution_count": 14,
   "metadata": {
    "collapsed": false
   },
   "outputs": [],
   "source": [
    "ds_merged.to_csv('data/london_clean.csv', index=False)"
   ]
  }
 ],
 "metadata": {
  "kernelspec": {
   "display_name": "Python 3",
   "language": "python",
   "name": "python3"
  },
  "language_info": {
   "codemirror_mode": {
    "name": "ipython",
    "version": 3
   },
   "file_extension": ".py",
   "mimetype": "text/x-python",
   "name": "python",
   "nbconvert_exporter": "python",
   "pygments_lexer": "ipython3",
   "version": "3.8.10"
  },
  "vscode": {
   "interpreter": {
    "hash": "31f2aee4e71d21fbe5cf8b01ff0e069b9275f58929596ceb00d14d90e3e16cd6"
   }
  }
 },
 "nbformat": 4,
 "nbformat_minor": 5
}
