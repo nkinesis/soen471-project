{
 "cells": [
  {
   "attachments": {},
   "cell_type": "markdown",
   "id": "f1ef7980",
   "metadata": {},
   "source": [
    "### Data preprocessing\n",
    "\n",
    "Before we start building and training our prediction model, we need to prepare and clean the dataset to ensure the viability of the results and analysis of our experiment.\n",
    "\n",
    "<br>To reproduce the steps on your devices, please ensure you have the relevant files downloaded beforehand.\n",
    "<br>Refer to the README.md page for access to the data CSV files."
   ]
  },
  {
   "attachments": {},
   "cell_type": "markdown",
   "id": "dcd167a8",
   "metadata": {},
   "source": [
    "### 1. Import libraries\n",
    "\n",
    "This preprocessing step requires the following libraries:\n",
    "\n",
    "<b> Pandas</b>: \n",
    "<li> Data manipulation library\n",
    "<li> Loading the dataset\n",
    "</li>\n",
    "\n",
    "<b> datetime</b>: \n",
    "<li> Date data formatiing\n",
    "\n",
    "<br>The specific operations needed from these libraries will be explained as we advance in the tutorial."
   ]
  },
  {
   "cell_type": "code",
   "execution_count": 1,
   "id": "ad39133a",
   "metadata": {},
   "outputs": [],
   "source": [
    "import pandas as pd\n",
    "from datetime import datetime"
   ]
  },
  {
   "attachments": {},
   "cell_type": "markdown",
   "id": "11a6796b",
   "metadata": {},
   "source": [
    "### 2. Load the dataset \n",
    "\n",
    "<b><i>lfb_incident.csv</i></b> file is currently not added to this repository's <i>data</i> folder due to its size.\n",
    "<br>Please ensure to have it downloaded from Kaggle via the links provided on README at the root of the repository.\n",
    "<br><b>* Note: </b><i>You are not required to save the CSV file under the 'data' folder of the repository. Please ensure you are loading the file with the right path in the below Python code section line 4</i>\n",
    "<br>\n",
    "<br><i>used_cols</i> variable contains a list of columns we intend to use for our prediction model.\n",
    "<br>The choice of columns was at first based on what we thought would work best for predicting fire incidents in a real-world scenario. \n",
    "<br>We asked ourselves: right after the fire department receives a fire call and sends the firefighters to the incident location, what kind of data do they have about the incident?\n",
    "- Date and time\n",
    "- Location (e.g. they know if it is in a building, a house, a park, etc.)\n",
    "- Number of fire engines sent to work on the incident\n",
    "- Number of firefighters sent to the incident location\n",
    "\n",
    "<br>Based on this assumption, we selected the corresponding columns of the dataset, as well as the variable we want to predict at the end: the cost of operation. \n",
    "<br>We will verify for correlation between these variables in another notebook (preprocessing/2_check_correlation.ipynb) after we preprocess the data to make sure our assumptions were correct. \n",
    "\n",
    "<br>At this point of the project we did not do any filtering, so the dataset contains 1,465,060 rows in total."
   ]
  },
  {
   "cell_type": "code",
   "execution_count": 2,
   "id": "515bd07a",
   "metadata": {},
   "outputs": [
    {
     "name": "stdout",
     "output_type": "stream",
     "text": [
      "Count: 1465060\n"
     ]
    }
   ],
   "source": [
    "used_cols = ['DateOfCall', 'CalYear', 'HourOfCall', 'IncidentGroup', \n",
    "'PropertyType', 'PumpHoursRoundUp', 'NumPumpsAttending', \n",
    "'Notional Cost (£)', 'PropertyCategory']\n",
    "ds = pd.read_csv('data/lfb_incident.csv', usecols=used_cols)\n",
    "print(\"Count:\", len(ds))"
   ]
  },
  {
   "attachments": {},
   "cell_type": "markdown",
   "id": "8a865dc0",
   "metadata": {},
   "source": [
    "### 2. Drop NaN values\n",
    "\n",
    "The first step of our data preprocessing section is to drop the any rows containging the <i>NaN</i> values.\n",
    "<br>After this first steps, the dataset containted 1,453,312 rows in total."
   ]
  },
  {
   "cell_type": "code",
   "execution_count": 3,
   "id": "196e273f",
   "metadata": {},
   "outputs": [
    {
     "name": "stdout",
     "output_type": "stream",
     "text": [
      "Count: 1453312\n"
     ]
    }
   ],
   "source": [
    "ds = ds.dropna()\n",
    "print(\"Count:\", len(ds))"
   ]
  },
  {
   "attachments": {},
   "cell_type": "markdown",
   "id": "343e8654",
   "metadata": {},
   "source": [
    "### 3. Duplicate DateOfCall column for reformatting\n",
    "\n",
    "The next step is to convert the values in DateOfCall column into a format that is more commonly used: <b>month/day/year</b>.\n",
    "<br>This conversion is necessary in order to join the fire incident data with the weather data. \n",
    "<br>Refer to step 9 for details."
   ]
  },
  {
   "cell_type": "code",
   "execution_count": 4,
   "metadata": {
    "collapsed": false
   },
   "outputs": [],
   "source": [
    "ds2 = pd.DataFrame(ds)\n",
    "ds2['Date'] = ds2['DateOfCall']\n",
    "ds2['Date'] = pd.to_datetime(ds2['Date']).dt.strftime('%m/%d/%Y')"
   ]
  },
  {
   "attachments": {},
   "cell_type": "markdown",
   "id": "fd33d71d",
   "metadata": {},
   "source": [
    "### 4. Convert DateOfCall column\n",
    "Next, we bin the DateOfCall column's values into 12 categories representing the month of the incident date. \n",
    "<br>This step is necessary because we need the date feature to be a discrete (have distinct, countable values) variable. <br>However, the column currently contain too many combinations of different dates (day/month/year). \n",
    "<br>Thus, we decided to reduce these values into 12 categories, each representing a month of the year. "
   ]
  },
  {
   "cell_type": "code",
   "execution_count": 5,
   "metadata": {
    "collapsed": false
   },
   "outputs": [
    {
     "data": {
      "text/html": [
       "<div>\n",
       "<style scoped>\n",
       "    .dataframe tbody tr th:only-of-type {\n",
       "        vertical-align: middle;\n",
       "    }\n",
       "\n",
       "    .dataframe tbody tr th {\n",
       "        vertical-align: top;\n",
       "    }\n",
       "\n",
       "    .dataframe thead th {\n",
       "        text-align: right;\n",
       "    }\n",
       "</style>\n",
       "<table border=\"1\" class=\"dataframe\">\n",
       "  <thead>\n",
       "    <tr style=\"text-align: right;\">\n",
       "      <th></th>\n",
       "      <th>DateOfCall</th>\n",
       "      <th>CalYear</th>\n",
       "      <th>HourOfCall</th>\n",
       "      <th>IncidentGroup</th>\n",
       "      <th>PropertyCategory</th>\n",
       "      <th>PropertyType</th>\n",
       "      <th>NumPumpsAttending</th>\n",
       "      <th>PumpHoursRoundUp</th>\n",
       "      <th>Notional Cost (£)</th>\n",
       "      <th>Date</th>\n",
       "    </tr>\n",
       "  </thead>\n",
       "  <tbody>\n",
       "    <tr>\n",
       "      <th>0</th>\n",
       "      <td>1</td>\n",
       "      <td>2009</td>\n",
       "      <td>0</td>\n",
       "      <td>Special Service</td>\n",
       "      <td>Road Vehicle</td>\n",
       "      <td>Car</td>\n",
       "      <td>2.0</td>\n",
       "      <td>1.0</td>\n",
       "      <td>255.0</td>\n",
       "      <td>01/01/2009</td>\n",
       "    </tr>\n",
       "    <tr>\n",
       "      <th>2</th>\n",
       "      <td>1</td>\n",
       "      <td>2009</td>\n",
       "      <td>0</td>\n",
       "      <td>Fire</td>\n",
       "      <td>Outdoor</td>\n",
       "      <td>Road surface/pavement</td>\n",
       "      <td>1.0</td>\n",
       "      <td>1.0</td>\n",
       "      <td>255.0</td>\n",
       "      <td>01/01/2009</td>\n",
       "    </tr>\n",
       "    <tr>\n",
       "      <th>3</th>\n",
       "      <td>1</td>\n",
       "      <td>2009</td>\n",
       "      <td>0</td>\n",
       "      <td>Fire</td>\n",
       "      <td>Outdoor</td>\n",
       "      <td>Domestic garden (vegetation not equipment)</td>\n",
       "      <td>1.0</td>\n",
       "      <td>1.0</td>\n",
       "      <td>255.0</td>\n",
       "      <td>01/01/2009</td>\n",
       "    </tr>\n",
       "    <tr>\n",
       "      <th>4</th>\n",
       "      <td>1</td>\n",
       "      <td>2009</td>\n",
       "      <td>0</td>\n",
       "      <td>Fire</td>\n",
       "      <td>Outdoor</td>\n",
       "      <td>Cycle path/public footpath/bridleway</td>\n",
       "      <td>2.0</td>\n",
       "      <td>1.0</td>\n",
       "      <td>255.0</td>\n",
       "      <td>01/01/2009</td>\n",
       "    </tr>\n",
       "    <tr>\n",
       "      <th>5</th>\n",
       "      <td>1</td>\n",
       "      <td>2009</td>\n",
       "      <td>0</td>\n",
       "      <td>False Alarm</td>\n",
       "      <td>Dwelling</td>\n",
       "      <td>Purpose Built Flats/Maisonettes - Up to 3 stor...</td>\n",
       "      <td>2.0</td>\n",
       "      <td>1.0</td>\n",
       "      <td>255.0</td>\n",
       "      <td>01/01/2009</td>\n",
       "    </tr>\n",
       "  </tbody>\n",
       "</table>\n",
       "</div>"
      ],
      "text/plain": [
       "   DateOfCall  CalYear  HourOfCall    IncidentGroup PropertyCategory  \\\n",
       "0           1     2009           0  Special Service     Road Vehicle   \n",
       "2           1     2009           0             Fire          Outdoor   \n",
       "3           1     2009           0             Fire          Outdoor   \n",
       "4           1     2009           0             Fire          Outdoor   \n",
       "5           1     2009           0      False Alarm         Dwelling   \n",
       "\n",
       "                                        PropertyType  NumPumpsAttending  \\\n",
       "0                                               Car                 2.0   \n",
       "2                             Road surface/pavement                 1.0   \n",
       "3        Domestic garden (vegetation not equipment)                 1.0   \n",
       "4              Cycle path/public footpath/bridleway                 2.0   \n",
       "5  Purpose Built Flats/Maisonettes - Up to 3 stor...                2.0   \n",
       "\n",
       "   PumpHoursRoundUp  Notional Cost (£)        Date  \n",
       "0               1.0              255.0  01/01/2009  \n",
       "2               1.0              255.0  01/01/2009  \n",
       "3               1.0              255.0  01/01/2009  \n",
       "4               1.0              255.0  01/01/2009  \n",
       "5               1.0              255.0  01/01/2009  "
      ]
     },
     "execution_count": 5,
     "metadata": {},
     "output_type": "execute_result"
    }
   ],
   "source": [
    "ds2['DateOfCall'] = pd.to_datetime(ds2['DateOfCall']).dt.month\n",
    "ds2[0:5]"
   ]
  },
  {
   "attachments": {},
   "cell_type": "markdown",
   "id": "a65ae724",
   "metadata": {},
   "source": [
    "### 5. Standardizing numerical variables\n",
    "<br> In this step, we convert all numerical variables (e.g. number of pumps, cost, etc.) to a standardized format of integer for Pandas library: <b>int64</b>."
   ]
  },
  {
   "cell_type": "code",
   "execution_count": 6,
   "id": "d1433abf",
   "metadata": {},
   "outputs": [],
   "source": [
    "ds2['NumPumpsAttending'] = ds2['NumPumpsAttending'].astype('int64')\n",
    "ds2['Notional Cost (£)'] = ds2['Notional Cost (£)'].astype('int64')\n",
    "ds2['PumpHoursRoundUp'] = ds2['PumpHoursRoundUp'].astype('int64')\n",
    "ds2['HourOfCall'] = ds2['HourOfCall'].astype('int64')"
   ]
  },
  {
   "attachments": {},
   "cell_type": "markdown",
   "id": "2b675173",
   "metadata": {},
   "source": [
    "### 6. Standardizing categorical variables\n",
    "\n",
    "All categorical variables (e.g. incident group, property type, etc.) of the original dataset were originally strings (e.g. \"building\" or \"house\" for PropertyType).\n",
    "<br> We factorize them or, in other words, we convert them to categorical integer values (e.g. \"building\" becomes 1, \"house\" becomes 2, etc.) to allow easy computation in later steps."
   ]
  },
  {
   "cell_type": "code",
   "execution_count": 7,
   "id": "d4c9c9ed",
   "metadata": {},
   "outputs": [],
   "source": [
    "ds2['IncidentGroup'] = pd.factorize(ds2['IncidentGroup'])[0]\n",
    "ds2['PropertyType'] = pd.factorize(ds2['PropertyType'])[0]\n",
    "ds2['PropertyCategory'] = pd.factorize(ds2['PropertyCategory'])[0]"
   ]
  },
  {
   "attachments": {},
   "cell_type": "markdown",
   "id": "4bd36f45",
   "metadata": {},
   "source": [
    "### 7. Save\n",
    "\n",
    "A lot of changes have been made to the dataset so far.\n",
    "<br>At this point we save the new dataset to the disk. \n",
    "<br>Next, we will join this dataset with another one, containing weather data. \n",
    "<br>The new dataset contains a total of 1,453,312 rows."
   ]
  },
  {
   "cell_type": "code",
   "execution_count": 8,
   "id": "bc02002c",
   "metadata": {},
   "outputs": [
    {
     "data": {
      "text/plain": [
       "1453312"
      ]
     },
     "execution_count": 8,
     "metadata": {},
     "output_type": "execute_result"
    }
   ],
   "source": [
    "ds2.to_csv('data/london_clean.csv', index=False)\n",
    "len(ds2)"
   ]
  },
  {
   "attachments": {},
   "cell_type": "markdown",
   "id": "7270bd03",
   "metadata": {},
   "source": [
    "### 8. Load and prepare weather data\n",
    "\n",
    "As was the case for the fire incident dataset, please ensure to have downloaded <b><i>london_weather.csv</i></b> from the link provided in the README.\n",
    "<br>After loading the dataset, we need to process the <i>Date</i> column so its values are in the same format as the date values of the previous dataset (month/day/year).\n",
    "<br>This stpe is very important because this column will be used to join both datasets in the following step."
   ]
  },
  {
   "cell_type": "code",
   "execution_count": 9,
   "id": "390f6518",
   "metadata": {
    "collapsed": false
   },
   "outputs": [
    {
     "data": {
      "text/html": [
       "<div>\n",
       "<style scoped>\n",
       "    .dataframe tbody tr th:only-of-type {\n",
       "        vertical-align: middle;\n",
       "    }\n",
       "\n",
       "    .dataframe tbody tr th {\n",
       "        vertical-align: top;\n",
       "    }\n",
       "\n",
       "    .dataframe thead th {\n",
       "        text-align: right;\n",
       "    }\n",
       "</style>\n",
       "<table border=\"1\" class=\"dataframe\">\n",
       "  <thead>\n",
       "    <tr style=\"text-align: right;\">\n",
       "      <th></th>\n",
       "      <th>Date</th>\n",
       "      <th>cloud_cover</th>\n",
       "      <th>sunshine</th>\n",
       "      <th>global_radiation</th>\n",
       "      <th>max_temp</th>\n",
       "      <th>mean_temp</th>\n",
       "      <th>min_temp</th>\n",
       "      <th>precipitation</th>\n",
       "      <th>pressure</th>\n",
       "      <th>snow_depth</th>\n",
       "    </tr>\n",
       "  </thead>\n",
       "  <tbody>\n",
       "    <tr>\n",
       "      <th>0</th>\n",
       "      <td>01/01/1979</td>\n",
       "      <td>2.0</td>\n",
       "      <td>7.0</td>\n",
       "      <td>52.0</td>\n",
       "      <td>2.3</td>\n",
       "      <td>-4.1</td>\n",
       "      <td>-7.5</td>\n",
       "      <td>0.4</td>\n",
       "      <td>101900.0</td>\n",
       "      <td>9.0</td>\n",
       "    </tr>\n",
       "    <tr>\n",
       "      <th>1</th>\n",
       "      <td>01/02/1979</td>\n",
       "      <td>6.0</td>\n",
       "      <td>1.7</td>\n",
       "      <td>27.0</td>\n",
       "      <td>1.6</td>\n",
       "      <td>-2.6</td>\n",
       "      <td>-7.5</td>\n",
       "      <td>0.0</td>\n",
       "      <td>102530.0</td>\n",
       "      <td>8.0</td>\n",
       "    </tr>\n",
       "    <tr>\n",
       "      <th>2</th>\n",
       "      <td>01/03/1979</td>\n",
       "      <td>5.0</td>\n",
       "      <td>0.0</td>\n",
       "      <td>13.0</td>\n",
       "      <td>1.3</td>\n",
       "      <td>-2.8</td>\n",
       "      <td>-7.2</td>\n",
       "      <td>0.0</td>\n",
       "      <td>102050.0</td>\n",
       "      <td>4.0</td>\n",
       "    </tr>\n",
       "    <tr>\n",
       "      <th>3</th>\n",
       "      <td>01/04/1979</td>\n",
       "      <td>8.0</td>\n",
       "      <td>0.0</td>\n",
       "      <td>13.0</td>\n",
       "      <td>-0.3</td>\n",
       "      <td>-2.6</td>\n",
       "      <td>-6.5</td>\n",
       "      <td>0.0</td>\n",
       "      <td>100840.0</td>\n",
       "      <td>2.0</td>\n",
       "    </tr>\n",
       "    <tr>\n",
       "      <th>4</th>\n",
       "      <td>01/05/1979</td>\n",
       "      <td>6.0</td>\n",
       "      <td>2.0</td>\n",
       "      <td>29.0</td>\n",
       "      <td>5.6</td>\n",
       "      <td>-0.8</td>\n",
       "      <td>-1.4</td>\n",
       "      <td>0.0</td>\n",
       "      <td>102250.0</td>\n",
       "      <td>1.0</td>\n",
       "    </tr>\n",
       "  </tbody>\n",
       "</table>\n",
       "</div>"
      ],
      "text/plain": [
       "         Date  cloud_cover  sunshine  global_radiation  max_temp  mean_temp  \\\n",
       "0  01/01/1979          2.0       7.0              52.0       2.3       -4.1   \n",
       "1  01/02/1979          6.0       1.7              27.0       1.6       -2.6   \n",
       "2  01/03/1979          5.0       0.0              13.0       1.3       -2.8   \n",
       "3  01/04/1979          8.0       0.0              13.0      -0.3       -2.6   \n",
       "4  01/05/1979          6.0       2.0              29.0       5.6       -0.8   \n",
       "\n",
       "   min_temp  precipitation  pressure  snow_depth  \n",
       "0      -7.5            0.4  101900.0         9.0  \n",
       "1      -7.5            0.0  102530.0         8.0  \n",
       "2      -7.2            0.0  102050.0         4.0  \n",
       "3      -6.5            0.0  100840.0         2.0  \n",
       "4      -1.4            0.0  102250.0         1.0  "
      ]
     },
     "execution_count": 9,
     "metadata": {},
     "output_type": "execute_result"
    }
   ],
   "source": [
    "weather_data = pd.read_csv('data/london_weather.csv')\n",
    "weather_data['date'] = pd.to_datetime(weather_data['date'], format='%Y%m%d').dt.strftime('%m/%d/%Y')\n",
    "weather_data = weather_data.rename(columns={'date': 'Date'})\n",
    "weather_data[0:5]"
   ]
  },
  {
   "attachments": {},
   "cell_type": "markdown",
   "id": "7e4308c3",
   "metadata": {},
   "source": [
    "### 9. Join the datasets\n",
    "\n",
    "While this operation is frequently called \"join\" in the context of relational databases, this operation is called <i>merge</i> in Pandas library. \n",
    "<br>The principle, however, remains the same: we choose a column that exists in both datasets and we perform an <b><i>inner join</b></i> (intersection of keys from both datasets)."
   ]
  },
  {
   "cell_type": "code",
   "execution_count": 10,
   "metadata": {
    "collapsed": false
   },
   "outputs": [
    {
     "data": {
      "text/html": [
       "<div>\n",
       "<style scoped>\n",
       "    .dataframe tbody tr th:only-of-type {\n",
       "        vertical-align: middle;\n",
       "    }\n",
       "\n",
       "    .dataframe tbody tr th {\n",
       "        vertical-align: top;\n",
       "    }\n",
       "\n",
       "    .dataframe thead th {\n",
       "        text-align: right;\n",
       "    }\n",
       "</style>\n",
       "<table border=\"1\" class=\"dataframe\">\n",
       "  <thead>\n",
       "    <tr style=\"text-align: right;\">\n",
       "      <th></th>\n",
       "      <th>DateOfCall</th>\n",
       "      <th>CalYear</th>\n",
       "      <th>HourOfCall</th>\n",
       "      <th>IncidentGroup</th>\n",
       "      <th>PropertyCategory</th>\n",
       "      <th>PropertyType</th>\n",
       "      <th>NumPumpsAttending</th>\n",
       "      <th>PumpHoursRoundUp</th>\n",
       "      <th>Notional Cost (£)</th>\n",
       "      <th>Date</th>\n",
       "      <th>cloud_cover</th>\n",
       "      <th>sunshine</th>\n",
       "      <th>global_radiation</th>\n",
       "      <th>max_temp</th>\n",
       "      <th>mean_temp</th>\n",
       "      <th>min_temp</th>\n",
       "      <th>precipitation</th>\n",
       "      <th>pressure</th>\n",
       "      <th>snow_depth</th>\n",
       "    </tr>\n",
       "  </thead>\n",
       "  <tbody>\n",
       "    <tr>\n",
       "      <th>0</th>\n",
       "      <td>1</td>\n",
       "      <td>2009</td>\n",
       "      <td>0</td>\n",
       "      <td>0</td>\n",
       "      <td>0</td>\n",
       "      <td>0</td>\n",
       "      <td>2</td>\n",
       "      <td>1</td>\n",
       "      <td>255</td>\n",
       "      <td>01/01/2009</td>\n",
       "      <td>8.0</td>\n",
       "      <td>0.0</td>\n",
       "      <td>13.0</td>\n",
       "      <td>3.5</td>\n",
       "      <td>1.5</td>\n",
       "      <td>-0.5</td>\n",
       "      <td>0.0</td>\n",
       "      <td>103010.0</td>\n",
       "      <td>0.0</td>\n",
       "    </tr>\n",
       "    <tr>\n",
       "      <th>1</th>\n",
       "      <td>1</td>\n",
       "      <td>2009</td>\n",
       "      <td>0</td>\n",
       "      <td>1</td>\n",
       "      <td>1</td>\n",
       "      <td>1</td>\n",
       "      <td>1</td>\n",
       "      <td>1</td>\n",
       "      <td>255</td>\n",
       "      <td>01/01/2009</td>\n",
       "      <td>8.0</td>\n",
       "      <td>0.0</td>\n",
       "      <td>13.0</td>\n",
       "      <td>3.5</td>\n",
       "      <td>1.5</td>\n",
       "      <td>-0.5</td>\n",
       "      <td>0.0</td>\n",
       "      <td>103010.0</td>\n",
       "      <td>0.0</td>\n",
       "    </tr>\n",
       "    <tr>\n",
       "      <th>2</th>\n",
       "      <td>1</td>\n",
       "      <td>2009</td>\n",
       "      <td>0</td>\n",
       "      <td>1</td>\n",
       "      <td>1</td>\n",
       "      <td>2</td>\n",
       "      <td>1</td>\n",
       "      <td>1</td>\n",
       "      <td>255</td>\n",
       "      <td>01/01/2009</td>\n",
       "      <td>8.0</td>\n",
       "      <td>0.0</td>\n",
       "      <td>13.0</td>\n",
       "      <td>3.5</td>\n",
       "      <td>1.5</td>\n",
       "      <td>-0.5</td>\n",
       "      <td>0.0</td>\n",
       "      <td>103010.0</td>\n",
       "      <td>0.0</td>\n",
       "    </tr>\n",
       "    <tr>\n",
       "      <th>3</th>\n",
       "      <td>1</td>\n",
       "      <td>2009</td>\n",
       "      <td>0</td>\n",
       "      <td>1</td>\n",
       "      <td>1</td>\n",
       "      <td>3</td>\n",
       "      <td>2</td>\n",
       "      <td>1</td>\n",
       "      <td>255</td>\n",
       "      <td>01/01/2009</td>\n",
       "      <td>8.0</td>\n",
       "      <td>0.0</td>\n",
       "      <td>13.0</td>\n",
       "      <td>3.5</td>\n",
       "      <td>1.5</td>\n",
       "      <td>-0.5</td>\n",
       "      <td>0.0</td>\n",
       "      <td>103010.0</td>\n",
       "      <td>0.0</td>\n",
       "    </tr>\n",
       "    <tr>\n",
       "      <th>4</th>\n",
       "      <td>1</td>\n",
       "      <td>2009</td>\n",
       "      <td>0</td>\n",
       "      <td>2</td>\n",
       "      <td>2</td>\n",
       "      <td>4</td>\n",
       "      <td>2</td>\n",
       "      <td>1</td>\n",
       "      <td>255</td>\n",
       "      <td>01/01/2009</td>\n",
       "      <td>8.0</td>\n",
       "      <td>0.0</td>\n",
       "      <td>13.0</td>\n",
       "      <td>3.5</td>\n",
       "      <td>1.5</td>\n",
       "      <td>-0.5</td>\n",
       "      <td>0.0</td>\n",
       "      <td>103010.0</td>\n",
       "      <td>0.0</td>\n",
       "    </tr>\n",
       "  </tbody>\n",
       "</table>\n",
       "</div>"
      ],
      "text/plain": [
       "   DateOfCall  CalYear  HourOfCall  IncidentGroup  PropertyCategory  \\\n",
       "0           1     2009           0              0                 0   \n",
       "1           1     2009           0              1                 1   \n",
       "2           1     2009           0              1                 1   \n",
       "3           1     2009           0              1                 1   \n",
       "4           1     2009           0              2                 2   \n",
       "\n",
       "   PropertyType  NumPumpsAttending  PumpHoursRoundUp  Notional Cost (£)  \\\n",
       "0             0                  2                 1                255   \n",
       "1             1                  1                 1                255   \n",
       "2             2                  1                 1                255   \n",
       "3             3                  2                 1                255   \n",
       "4             4                  2                 1                255   \n",
       "\n",
       "         Date  cloud_cover  sunshine  global_radiation  max_temp  mean_temp  \\\n",
       "0  01/01/2009          8.0       0.0              13.0       3.5        1.5   \n",
       "1  01/01/2009          8.0       0.0              13.0       3.5        1.5   \n",
       "2  01/01/2009          8.0       0.0              13.0       3.5        1.5   \n",
       "3  01/01/2009          8.0       0.0              13.0       3.5        1.5   \n",
       "4  01/01/2009          8.0       0.0              13.0       3.5        1.5   \n",
       "\n",
       "   min_temp  precipitation  pressure  snow_depth  \n",
       "0      -0.5            0.0  103010.0         0.0  \n",
       "1      -0.5            0.0  103010.0         0.0  \n",
       "2      -0.5            0.0  103010.0         0.0  \n",
       "3      -0.5            0.0  103010.0         0.0  \n",
       "4      -0.5            0.0  103010.0         0.0  "
      ]
     },
     "execution_count": 10,
     "metadata": {},
     "output_type": "execute_result"
    }
   ],
   "source": [
    "ds_merged = pd.merge(ds2, weather_data, on='Date')\n",
    "ds_merged[0:5]"
   ]
  },
  {
   "attachments": {},
   "cell_type": "markdown",
   "id": "f9d42981",
   "metadata": {},
   "source": [
    "### 10. Remove rows without temperature data\n",
    "Temperature is an important component in fire incidents.\n",
    "<br> For example, higher temperatures make it hard to put out a fire or increase the probability of some kinds of fire incidents happening. \n",
    "<br>Hence the reason why we selected this specific column for our prediction model and remove all rows that do not contain this data. \n",
    "<br> After this step, the total number of the rows is 1,286,617."
   ]
  },
  {
   "cell_type": "code",
   "execution_count": 11,
   "id": "b83b6f24",
   "metadata": {},
   "outputs": [
    {
     "name": "stdout",
     "output_type": "stream",
     "text": [
      "1286617\n"
     ]
    }
   ],
   "source": [
    "ds_merged = ds_merged[ds_merged['mean_temp'].notna()]\n",
    "print(len(ds_merged))"
   ]
  },
  {
   "attachments": {},
   "cell_type": "markdown",
   "id": "a467f85e",
   "metadata": {},
   "source": [
    "### 11. Creating Cost Column\n",
    "\n",
    "Our output feature is the fire pumps' notional cost in pound sterling (£). \n",
    "<br>The cost value was originally a continuous numerical variable, but we convert it to a categorical variable by dividing and categorizing the numerical value in intervals of £300. \n",
    "<br>For example, all records of cost between £0.00 and £300.00 fall under category 1, all records of cost between £300.01 and £500.00 fall under category 2, and so on. \n",
    "<br>All records with costs larger than £1100.00 are categorized as category 5. \n",
    "<br><br>\n",
    "<b>IMPORTANT</b>: This step MUST be performed after the join and all other filtering steps. \n",
    "<br>If we do this step first and filter after, we risk not having all categories from 1 to 5 represented in the dataset, which will cause problems when training the tree based prediction models.\n"
   ]
  },
  {
   "cell_type": "code",
   "execution_count": 12,
   "metadata": {
    "collapsed": false
   },
   "outputs": [
    {
     "name": "stdout",
     "output_type": "stream",
     "text": [
      "0    701094\n",
      "1    425134\n",
      "2    104288\n",
      "5     24706\n",
      "3     16375\n",
      "4     15020\n",
      "Name: CostCat, dtype: int64\n",
      "1286617\n"
     ]
    }
   ],
   "source": [
    "# check to which category each cost belongs to\n",
    "cost_cat = []\n",
    "for item in ds_merged['Notional Cost (£)'].values:\n",
    "    if item < 300:\n",
    "        cost_cat.append(0)\n",
    "    elif item >= 300 and item < 500:\n",
    "        cost_cat.append(1)\n",
    "    elif item >= 500 and item < 700:\n",
    "        cost_cat.append(2)\n",
    "    elif item >= 700 and item < 900:\n",
    "        cost_cat.append(3)\n",
    "    elif item >= 900 and item < 1100:\n",
    "        cost_cat.append(4)    \n",
    "    else:\n",
    "        cost_cat.append(5)\n",
    "\n",
    "# add cost categories to dataset\n",
    "ds_merged['CostCat'] = cost_cat\n",
    "\n",
    "# check wheter the categories exist and how many corresponding rows they have\n",
    "print(ds_merged['CostCat'].value_counts())\n",
    "print(len(ds_merged))"
   ]
  },
  {
   "attachments": {},
   "cell_type": "markdown",
   "id": "ac420f63",
   "metadata": {},
   "source": [
    "### 12. Save\n",
    "Once all stpes are completed successfully, we save the result to the disk. \n",
    "<br>The new dataset will be used to train our prediction models."
   ]
  },
  {
   "cell_type": "code",
   "execution_count": 13,
   "metadata": {
    "collapsed": false
   },
   "outputs": [],
   "source": [
    "ds_merged.to_csv('data/london_clean.csv', index=False)"
   ]
  }
 ],
 "metadata": {
  "kernelspec": {
   "display_name": "Python 3",
   "language": "python",
   "name": "python3"
  },
  "language_info": {
   "codemirror_mode": {
    "name": "ipython",
    "version": 3
   },
   "file_extension": ".py",
   "mimetype": "text/x-python",
   "name": "python",
   "nbconvert_exporter": "python",
   "pygments_lexer": "ipython3",
   "version": "3.7.6"
  },
  "vscode": {
   "interpreter": {
    "hash": "31f2aee4e71d21fbe5cf8b01ff0e069b9275f58929596ceb00d14d90e3e16cd6"
   }
  }
 },
 "nbformat": 4,
 "nbformat_minor": 5
}
