{
 "cells": [
  {
   "attachments": {},
   "cell_type": "markdown",
   "id": "df545e50",
   "metadata": {},
   "source": [
    "### Decision Tree Classification Model\n",
    "\n",
    "A decision tree model is a machine learning algorithm that can be used for classification tasks.\n",
    "<br>This classification model is easy to interpret and can handle both categorical and numerical features, thus explaining our choice for this algorithm. \n",
    "<br>The model represents a series of decisions that lead to a final classification decision as a tree-like graph with several nodes. \n",
    "<br>At each node of the tree, a decision is made based on a specific attribute, and each branch represents a different decision or outcome. \n",
    "<br>\n",
    "<br>In classification, the goal is to predict a categorical variable based on a set of input features.\n",
    "<br>For our case - predicting the cost of damage for a fire incident - the set of input features is as follows:\n",
    "<li><b>DateOfCall</b>: the month of the date when the fire incident was reported \n",
    "<li><b>PropertyType</b>: the type of location where the fire incident occured\n",
    "<li><b>NumPumpsAttending</b>: the number of total fire pumps that were deployed to the fire incident location\n",
    "<li><b>PumpHoursRoundUp</b>: the number of hours the fire pumps were used during the fire incident\n",
    "<li><b>mean_temp</b>: mean daily temperature in Celsius (Cº)\n",
    "<br>\n",
    "<br>\n",
    "The output of our classification model is the cost of damage in pound sterling (£).\n",
    "<br>The cost value was originally a continuous numerical variable, but we convert it to a categorical variable by dividing and categorizing the numerical value in intervals of £300. \n",
    "<br>For example, all records of cost between £0.00 and £300.00 fall under category 1, all records of cost between £300.01 and £500.00 fall under category 2, and so on. \n",
    "<br>All records with costs larger than £1100.00 are categorized as category 5. \n",
    "<br>\n",
    "\n",
    "#### Scikit-Learn Library\n",
    "\n",
    "Our prediction model using the decision tree classifier is implemented with <b><i>scikit-learn</i></b> machine learning library in Python.<br>\n",
    "Please follow the <b>scikit-learn</b>'s installation guide ([https://scikit-learn.org/stable/install.html](Hidden_landing_URL)) and have the library ready before running the code.<br>\n",
    "\n"
   ]
  },
  {
   "attachments": {},
   "cell_type": "markdown",
   "id": "5e49967b",
   "metadata": {},
   "source": [
    "#### 1. Importing Libraries\n",
    "\n",
    "Following libraries and function are necessary to implement the decision tree prediction model.\n",
    "<br>\n",
    "<br>\n",
    "<b> Pandas</b>: \n",
    "<li> Data manipulation library\n",
    "<br><br>\n",
    "<b> Numpy</b>: \n",
    "<li> Data manipulation library\n",
    "<br><br>\n",
    "<b> train_test_split </b> from sklearn.model_selection:\n",
    "<li> Dividing the data into training and testing sets for model training and peformance analysis\n",
    "<br><br>\n",
    "<b> tree </b> from sklearn:\n",
    "<li> Scikit-learn's decision tree classifier model library\n",
    "<br><br>\n",
    "<b> classification_report</b> from sklearn.metrics:\n",
    "<li> Visualizing and measure the performance of the prediction model\n",
    "<br><br>\n",
    "<b> GridSearchCV</b> from sklearn.model_selection:\n",
    "<li> Hyper parameter tuning\n",
    "<br><br>\n",
    "<b>pickle</b>:\n",
    "<li> Saving and loading machine learning model"
   ]
  },
  {
   "cell_type": "code",
   "execution_count": 1,
   "id": "c07b9daf",
   "metadata": {},
   "outputs": [],
   "source": [
    "#import all necessary libraries for decision tree model training and testing\n",
    "\n",
    "#libraries for the data manipulation\n",
    "import pandas as pd\n",
    "import numpy as np\n",
    "from sklearn.model_selection import train_test_split\n",
    "\n",
    "#library for decision tree model\n",
    "from sklearn import tree\n",
    "\n",
    "#library for measuring the performance metrics\n",
    "from sklearn.metrics import classification_report\n",
    "\n",
    "#library for hyper parameter tuning\n",
    "from sklearn.model_selection import GridSearchCV\n",
    "\n",
    "#library for saving the final classifier model\n",
    "import pickle\n",
    "\n",
    "# import library from sklearn\n",
    "from sklearn.metrics import classification_report, confusion_matrix\n",
    "\n",
    "#vizualization report\n",
    "import seaborn as sns\n",
    "from matplotlib import pyplot as plt"
   ]
  },
  {
   "attachments": {},
   "cell_type": "markdown",
   "id": "3d4e1fb7",
   "metadata": {},
   "source": [
    "#### 2. Load Dataset\n",
    "\n",
    "Loading the fire incident and weather dataset into <i>pandas</i> dataframe from CSV file.<br>\n",
    "The features present in the cleaned dataset are listed below, alongside the type of data each of them holds.\n",
    "<br>Only selected features will be used for the prediction model.\n",
    "<br>Please refer to below for each data types' equivalent in Python.\n",
    "<br><br>\n",
    "Pandas' datatypes and their Python equivalents:\n",
    "<li> int64 = int\n",
    "<li> float64 = float\n",
    "<li> object = string\n",
    "<br><br>*Please refer to the <b><i>preprocessing</i></b> folder for detailed implementation on data cleaning."
   ]
  },
  {
   "cell_type": "code",
   "execution_count": 2,
   "id": "60aa0437",
   "metadata": {},
   "outputs": [
    {
     "data": {
      "text/plain": [
       "DateOfCall             int64\n",
       "CalYear                int64\n",
       "HourOfCall             int64\n",
       "IncidentGroup          int64\n",
       "PropertyCategory       int64\n",
       "PropertyType           int64\n",
       "NumPumpsAttending      int64\n",
       "PumpHoursRoundUp       int64\n",
       "Notional Cost (£)      int64\n",
       "Date                  object\n",
       "cloud_cover          float64\n",
       "sunshine             float64\n",
       "global_radiation     float64\n",
       "max_temp             float64\n",
       "mean_temp            float64\n",
       "min_temp             float64\n",
       "precipitation        float64\n",
       "pressure             float64\n",
       "snow_depth           float64\n",
       "CostCat                int64\n",
       "dtype: object"
      ]
     },
     "execution_count": 2,
     "metadata": {},
     "output_type": "execute_result"
    }
   ],
   "source": [
    "# load dataset, print types\n",
    "df = pd.read_csv('preprocessing/data/london_clean.csv')\n",
    "df.dtypes"
   ]
  },
  {
   "attachments": {},
   "cell_type": "markdown",
   "id": "9537f34b",
   "metadata": {},
   "source": [
    "#### 3. Feature Selection and Dataset Split\n",
    "\n",
    "First, the entire dataset is split into input and output features - X and y respectively.\n",
    "<br>We wish to predict feature in <i>y</i> based on features grouped in <i>X</i> used as input values.\n",
    "<br>\n",
    "<Br>\n",
    "Both groups of input and output features are split into two subsets for their respective use with the help of Scikit-Learn's <i>train_test_split</i> function:\n",
    "<li>67% of the dataset is used to train the decision tree model\n",
    "<li>33% of the dataset is used to test the performance of the decision tree model\n",
    "<br>\n",
    "<br>\n",
    "In <i>train_test_split</i> function, the <i>random_state</i> variable is specified to 42.\n",
    "<br>This specification allows <i>train_test_split</i> function to generate the identical training and testing subsets every time it is called.\n",
    "<br>This functionality allows all three prediction models to be trained on the same dataset, allowing better comparison between thier performance in the later step."
   ]
  },
  {
   "cell_type": "code",
   "execution_count": 3,
   "id": "2705cd45",
   "metadata": {},
   "outputs": [
    {
     "name": "stdout",
     "output_type": "stream",
     "text": [
      "         DateOfCall  PropertyType  NumPumpsAttending  PumpHoursRoundUp  \\\n",
      "706975            5            12                  1                 1   \n",
      "450954            9             6                  2                 1   \n",
      "525760            6            12                  2                 1   \n",
      "20577             3            83                  2                 1   \n",
      "1069644          11            37                  1                 1   \n",
      "\n",
      "         mean_temp  \n",
      "706975        15.0  \n",
      "450954        13.3  \n",
      "525760        16.4  \n",
      "20577          7.6  \n",
      "1069644        8.3  \n",
      "         CostCat\n",
      "706975         0\n",
      "450954         0\n",
      "525760         0\n",
      "20577          0\n",
      "1069644        1\n"
     ]
    }
   ],
   "source": [
    "# do train and test split\n",
    "X = df[['DateOfCall', 'PropertyType', 'NumPumpsAttending', 'PumpHoursRoundUp', 'mean_temp']]\n",
    "y = df[['CostCat']]\n",
    "X_train, X_test, y_train, y_test = train_test_split(X, y, test_size=0.33, random_state=42)\n",
    "\n",
    "# print a small sample of train X and y\n",
    "print(X_train[0:5])\n",
    "print(y_train[0:5])"
   ]
  },
  {
   "attachments": {},
   "cell_type": "markdown",
   "id": "54fe14f0",
   "metadata": {},
   "source": [
    "#### 4. Model implementation and training\n",
    "Scikit-Learn's deicision tree classifier offers a range of parameters that can be tuned to control the behaviour of the decision tree model.\n",
    "<br>\n",
    "The following are the parameters we are interested in:\n",
    "<ol>\n",
    "<li><b><i>max_depth</i></b>: \n",
    "<br> - Sets the maximum depth of the decision tree\n",
    "<br> - A deeper tree can capture more complex relationships in the data, but can also lead to overfitting\n",
    "<br> - Default value = \"None\"\n",
    "<li><b><i>min_samples_split</i></b>: \n",
    "<br> - Sets the minimum number of samples required to split an internal node. \n",
    "<br> - A higher value can prevent the tree from splitting too early, leading to more robust models.\n",
    "<br> - Default value = 2\n",
    "<li><b><i>criterion</i></b>: \n",
    "<br> - Specifies the function used to measure the quality of a split. \n",
    "<br> - The two options are \"gini\" and \"entropy\", which correspond to the Gini impurity and information gain criteria, respectively.\n",
    "<br> - Default value = \"gini\"\n",
    "</ol>\n",
    "\n",
    "\n",
    "The first training and testing of the decision tree model is done with default parameters set by the Scikit-Learn library.\n",
    "<br>\n",
    "These hyper parameters will be specified in the following step, once the decision tree model provides an acceptable performance score with the current training and testing datasets.\n"
   ]
  },
  {
   "cell_type": "code",
   "execution_count": 4,
   "id": "7abac23e",
   "metadata": {},
   "outputs": [],
   "source": [
    "# create and train decision tree\n",
    "clf = tree.DecisionTreeClassifier(random_state=0)\n",
    "clf = clf.fit(X_train, y_train)"
   ]
  },
  {
   "cell_type": "code",
   "execution_count": 5,
   "id": "09e9cec6",
   "metadata": {},
   "outputs": [
    {
     "name": "stdout",
     "output_type": "stream",
     "text": [
      "Default Decision Tree Model Description\n",
      "Depth: 52\n",
      "Number of Leaves: 86716\n",
      "*******************************************\n",
      "Classification Report of the default model\n",
      "              precision    recall  f1-score   support\n",
      "\n",
      "           0       0.78      0.85      0.81    231390\n",
      "           1       0.71      0.61      0.66    140418\n",
      "           2       1.00      1.00      1.00     34444\n",
      "           3       0.73      0.74      0.73      5421\n",
      "           4       0.58      0.57      0.57      4962\n",
      "           5       0.92      0.92      0.92      7949\n",
      "\n",
      "    accuracy                           0.78    424584\n",
      "   macro avg       0.79      0.78      0.78    424584\n",
      "weighted avg       0.77      0.78      0.77    424584\n",
      "\n"
     ]
    },
    {
     "data": {
      "image/png": "[encoded data removed]",
      "text/plain": [
       "<Figure size 700x700 with 2 Axes>"
      ]
     },
     "metadata": {},
     "output_type": "display_data"
    }
   ],
   "source": [
    "# test\n",
    "y_pred = clf.predict(X_test).round()\n",
    "print(\"Default Decision Tree Model Description\")\n",
    "print(\"Depth: %d\" % clf.get_depth())\n",
    "print(\"Number of Leaves: %d\" % clf.get_n_leaves())\n",
    "print(\"*******************************************\")\n",
    "print(\"Classification Report of the default model\")\n",
    "print(classification_report(y_test, y_pred))\n",
    "\n",
    "#vizualizing classification report\n",
    "cmap =sns.color_palette(\"Greens\")\n",
    "cm = confusion_matrix(y_test, y_pred)\n",
    "plt.figure(figsize=(7,7))\n",
    "sns.heatmap(cm, annot=True, fmt='g', cmap=cmap, \n",
    "            annot_kws={'fontsize':10}, linewidth=1, square=True)\n",
    "plt.xlabel(\"Predicted\")\n",
    "plt.ylabel(\"Actual\")\n",
    "plt.title('Decision Tree Default Parameter Model Classification')\n",
    "plt.show()\n"
   ]
  },
  {
   "cell_type": "code",
   "execution_count": 6,
   "id": "137bd5ad",
   "metadata": {},
   "outputs": [],
   "source": [
    "# saving the values in variables to export them later\n",
    "report_default = classification_report(y_test, y_pred,output_dict=True)\n",
    "macro_f1_default = report_default['macro avg']['f1-score']\n",
    "weighted_f1_default = report_default['weighted avg']['f1-score']\n",
    "class_0_default = report_default['0']['f1-score']\n",
    "class_1_default = report_default['1']['f1-score']\n",
    "class_2_default = report_default['2']['f1-score']\n",
    "class_3_default = report_default['3']['f1-score']\n",
    "class_4_default = report_default['4']['f1-score']\n",
    "class_5_default = report_default['5']['f1-score']"
   ]
  },
  {
   "attachments": {},
   "cell_type": "markdown",
   "id": "2fce405d",
   "metadata": {},
   "source": [
    "#### 5. Hyper-parameter Tuning\n",
    "\n",
    "Now that the decision tree model has proven to produce acceptable performance, we will try to specify its hyper parameters to determine the combination that maxmizes the model's performance score.\n",
    "\n",
    "Scikit-Learn offers an exhuastive search algorithm enabling us to easily determine the best hyper parameter combination called <b><i>GridSearchCV</i></b>\n",
    "<br>The algorithm iterate over every combination possible of the input hyper parameter values and select the best one.\n",
    "\n",
    "The following are the values of hyperparameters tested:\n",
    "<ol>\n",
    "<li><b><i>max_depth</i></b>: \n",
    "<br> - The depth of the decision tree for the default model grew until depth = 52, thus we selected a range of numbers between 45 and 55 to include this value\n",
    "<li><b><i>min_samples_split</i></b>: \n",
    "<br> - range from 2 to 10: (2, 3, 4, 5, 6, 7, 8, 9, 10)\n",
    "<br> - range from 10 to 100: (10, 20, 30, 40, 50, 60, 70, 80, 90, 100)\n",
    "<li><b><i>criterion</i></b>: \n",
    "<br> - \"gini\" and \"entropy\"\n",
    "</ol>\n",
    "\n"
   ]
  },
  {
   "cell_type": "code",
   "execution_count": 7,
   "id": "597eeed1",
   "metadata": {},
   "outputs": [
    {
     "name": "stdout",
     "output_type": "stream",
     "text": [
      "Best hyperparameters for decision tree classification:  {'criterion': 'gini', 'max_depth': 49, 'min_samples_split': 90}\n"
     ]
    }
   ],
   "source": [
    "#specify the value of parameters of interest\n",
    "tree_params = {'criterion':['gini','entropy'],'max_depth': list(range(45, 56)),'min_samples_split':list(range(2, 10))+np.arange(10, 100, 10).tolist()}\n",
    "\n",
    "#determine the best hyper parameter\n",
    "dtc_top = GridSearchCV(tree.DecisionTreeClassifier(), tree_params, cv=5)\n",
    "\n",
    "# Training the model for classification with the same dataset \n",
    "model2 = dtc_top.fit(X_train, y_train)\n",
    "\n",
    "print(\"Best hyperparameters for decision tree classification: \", dtc_top.best_params_)\n"
   ]
  },
  {
   "attachments": {},
   "cell_type": "markdown",
   "id": "1f36d286",
   "metadata": {},
   "source": [
    "#### 6. Best Performing Model\n",
    "\n",
    "The following are the selected hyperparameter values:\n",
    "<ol>\n",
    "<li><b><i>max_depth</i></b>: 49\n",
    "<li><b><i>min_samples_split</i></b>: 90\n",
    "<li><b><i>criterion</i></b>: gini\n",
    "</ol>\n",
    "\n",
    "With the best hyperparameter combination found in the previous step, we can now build our final decision tree classifier and measure its performance.\n",
    "<br>Using the <i>pickle</i> library, the model with the best hyperparameter is saved to the project file for future use.\n",
    "\n"
   ]
  },
  {
   "cell_type": "code",
   "execution_count": 8,
   "id": "7d9d4e3e",
   "metadata": {},
   "outputs": [],
   "source": [
    "#saving the model with the best performing hyperparameters\n",
    "filename = \"models/DT_model.pickle\"\n",
    "\n",
    "#train the model with the best hyperparameters\n",
    "model_final = tree.DecisionTreeClassifier(criterion = \"gini\", max_depth = 49, min_samples_split = 90)\n",
    "model_final.fit(X_train, y_train)\n",
    "\n",
    "# save model\n",
    "pickle.dump(model_final, open(filename, \"wb\"))"
   ]
  },
  {
   "cell_type": "code",
   "execution_count": 9,
   "id": "05f4b14e",
   "metadata": {},
   "outputs": [
    {
     "name": "stdout",
     "output_type": "stream",
     "text": [
      "Classification Report of the default model\n",
      "              precision    recall  f1-score   support\n",
      "\n",
      "           0       0.79      0.85      0.82    231390\n",
      "           1       0.71      0.62      0.66    140418\n",
      "           2       1.00      1.00      1.00     34444\n",
      "           3       0.70      0.80      0.75      5421\n",
      "           4       0.59      0.47      0.53      4962\n",
      "           5       0.91      0.93      0.92      7949\n",
      "\n",
      "    accuracy                           0.78    424584\n",
      "   macro avg       0.78      0.78      0.78    424584\n",
      "weighted avg       0.78      0.78      0.78    424584\n",
      "\n"
     ]
    },
    {
     "data": {
      "image/png": "[encoded data removed]",
      "text/plain": [
       "<Figure size 700x700 with 2 Axes>"
      ]
     },
     "metadata": {},
     "output_type": "display_data"
    }
   ],
   "source": [
    "# Measure performance of the model with the best hyper parameter \n",
    "y_top_pred = model_final.predict(X_test)\n",
    "print(\"Classification Report of the default model\")\n",
    "print(classification_report(y_test, y_top_pred))\n",
    "\n",
    "#vizualizing classification report\n",
    "cmap =sns.color_palette(\"Greens\")\n",
    "cm = confusion_matrix(y_test, y_top_pred)\n",
    "plt.figure(figsize=(7,7))\n",
    "sns.heatmap(cm, annot=True, fmt='g', cmap=cmap, \n",
    "            annot_kws={'fontsize':10}, linewidth=1, square=True)\n",
    "plt.xlabel(\"Predicted\")\n",
    "plt.ylabel(\"Actual\")\n",
    "plt.title('Decision Tree Parameter Tuning Model Classification')\n",
    "plt.show()"
   ]
  },
  {
   "cell_type": "code",
   "execution_count": 10,
   "id": "cd40d95e",
   "metadata": {},
   "outputs": [],
   "source": [
    "# saving the values in variables to export them later\n",
    "report_top = classification_report(y_test, y_top_pred,output_dict=True)\n",
    "macro_f1_top = report_top['macro avg']['f1-score']\n",
    "weighted_f1_top = report_top['weighted avg']['f1-score']\n",
    "class_0_top = report_top['0']['f1-score']\n",
    "class_1_top = report_top['1']['f1-score']\n",
    "class_2_top = report_top['2']['f1-score']\n",
    "class_3_top = report_top['3']['f1-score']\n",
    "class_4_top = report_top['4']['f1-score']\n",
    "class_5_top = report_top['5']['f1-score']\n"
   ]
  },
  {
   "attachments": {},
   "cell_type": "markdown",
   "id": "018ceffd",
   "metadata": {},
   "source": [
    "#### 7. Training and Testing the model with Undersampled Data\n",
    "\n",
    "After the hyper parameter tuning, the decision tree model's performance only slightly increased: its weighted f1-score changed from 0.77 to 0.78.\n",
    "<br> In an attempt to increase the performance of our model, we loaded an undersampled dataset to train and test the model.\n",
    "<br> The results of this section will let us know whether the imbalanced distribution of dataset has any correlation with the performance of our model.\n",
    "<br> This section uses the same methodology and libraries as the previous sections 3, 4, 5, and 6, but with <b><i>london_clean_undersample.csv</i></b> dataset.\n",
    "<br> For details, please refer to the previous sections.\n",
    "\n",
    "##### 7.1 Undersampled Dataset: Load and Split Dataset"
   ]
  },
  {
   "cell_type": "code",
   "execution_count": null,
   "id": "5da39e9e",
   "metadata": {},
   "outputs": [],
   "source": [
    "# load dataset, print types\n",
    "df1 = pd.read_csv('preprocessing/data/london_clean_undersample.csv')\n",
    "\n",
    "# do train and test split\n",
    "X = df1[['DateOfCall', 'PropertyType', 'NumPumpsAttending', 'PumpHoursRoundUp', 'mean_temp']]\n",
    "y = df1[['CostCat']]\n",
    "X_train, X_test, y_train, y_test = train_test_split(X, y, test_size=0.33, random_state=42)"
   ]
  },
  {
   "attachments": {},
   "cell_type": "markdown",
   "id": "a2ea8d9f",
   "metadata": {},
   "source": [
    "##### 7.2 Undersampled Dataset: Train and Test Model with Default Parameter"
   ]
  },
  {
   "cell_type": "code",
   "execution_count": 11,
   "metadata": {},
   "outputs": [
    {
     "name": "stdout",
     "output_type": "stream",
     "text": [
      "        DateOfCall  PropertyType  NumPumpsAttending  PumpHoursRoundUp  \\\n",
      "100629           1             4                  2                 1   \n",
      "30999            4            28                  2                 1   \n",
      "123846           4            40                  3                 2   \n",
      "169930           7            37                  3                 4   \n",
      "39290           11            65                  3                 1   \n",
      "\n",
      "        mean_temp  \n",
      "100629       11.8  \n",
      "30999         4.1  \n",
      "123846       10.3  \n",
      "169930       22.8  \n",
      "39290         2.7  \n",
      "        CostCat\n",
      "100629        1\n",
      "30999         0\n",
      "123846        2\n",
      "169930        4\n",
      "39290         0\n",
      "Default Decision Tree Model Description\n",
      "Depth: 43\n",
      "Number of Leaves: 27081\n",
      "*******************************************\n",
      "Classification Report of the default model\n",
      "              precision    recall  f1-score   support\n",
      "\n",
      "           0       0.76      0.82      0.79     22940\n",
      "           1       0.66      0.57      0.61     14064\n",
      "           2       1.00      1.00      1.00     10240\n",
      "           3       0.73      0.75      0.74      5454\n",
      "           4       0.59      0.59      0.59      5179\n",
      "           5       0.92      0.91      0.92      8126\n",
      "\n",
      "    accuracy                           0.78     66003\n",
      "   macro avg       0.78      0.77      0.77     66003\n",
      "weighted avg       0.78      0.78      0.78     66003\n",
      "\n"
     ]
    },
    {
     "data": {
      "image/png": "[encoded data removed]",
      "text/plain": [
       "<Figure size 700x700 with 2 Axes>"
      ]
     },
     "metadata": {},
     "output_type": "display_data"
    }
   ],
   "source": [
    "# create and train decision tree with default model\n",
    "clf = tree.DecisionTreeClassifier(random_state=0)\n",
    "clf = clf.fit(X_train, y_train)\n",
    "\n",
    "# test\n",
    "y_pred = clf.predict(X_test).round()\n",
    "print(\"Default Decision Tree Model Description\")\n",
    "print(\"Depth: %d\" % clf.get_depth())\n",
    "print(\"Number of Leaves: %d\" % clf.get_n_leaves())\n",
    "print(\"*******************************************\")\n",
    "print(\"Classification Report of the default model\")\n",
    "print(classification_report(y_test, y_pred))\n",
    "\n",
    "#vizualizing classification report\n",
    "cmap =sns.color_palette(\"Greens\")\n",
    "cm = confusion_matrix(y_test, y_pred)\n",
    "plt.figure(figsize=(7,7))\n",
    "sns.heatmap(cm, annot=True, fmt='g', cmap=cmap, \n",
    "            annot_kws={'fontsize':10}, linewidth=1, square=True)\n",
    "plt.xlabel(\"Predicted\")\n",
    "plt.ylabel(\"Actual\")\n",
    "plt.title('Decision Tree Default Parameter Model Classification')\n",
    "plt.show()\n",
    "\n",
    "# saving the values in variables to export them later\n",
    "report_under_default = classification_report(y_test, y_pred,output_dict=True)\n",
    "macro_f1_under_default = report_under_default['macro avg']['f1-score']\n",
    "weighted_f1_under_default = report_under_default['weighted avg']['f1-score']\n",
    "class_0_under_default = report_under_default['0']['f1-score']\n",
    "class_1_under_default = report_under_default['1']['f1-score']\n",
    "class_2_under_default = report_under_default['2']['f1-score']\n",
    "class_3_under_default = report_under_default['3']['f1-score']\n",
    "class_4_under_default = report_under_default['4']['f1-score']\n",
    "class_5_under_default = report_under_default['5']['f1-score']"
   ]
  },
  {
   "attachments": {},
   "cell_type": "markdown",
   "id": "eee7d6cc",
   "metadata": {},
   "source": [
    "##### 7.3 Undersampled Dataset: Hyper Parameter Tuning"
   ]
  },
  {
   "cell_type": "code",
   "execution_count": 18,
   "id": "b3b7b7b6",
   "metadata": {},
   "outputs": [
    {
     "name": "stdout",
     "output_type": "stream",
     "text": [
      "Best hyperparameters for decision tree classification:  {'criterion': 'gini', 'max_depth': 45, 'min_samples_split': 90}\n"
     ]
    }
   ],
   "source": [
    "#specify the value of parameters of interest\n",
    "tree_params = {'criterion':['gini','entropy'],'max_depth': list(range(45, 56)),'min_samples_split':list(range(2, 10))+np.arange(10, 100, 10).tolist()}\n",
    "\n",
    "#determine the best hyper parameter\n",
    "dtc_under_top = GridSearchCV(tree.DecisionTreeClassifier(), tree_params, cv=5)\n",
    "\n",
    "# Training the model for classification with the same dataset \n",
    "model2 = dtc_under_top.fit(X_train, y_train)\n",
    "\n",
    "print(\"Best hyperparameters for decision tree classification: \", dtc_under_top.best_params_)\n"
   ]
  },
  {
   "cell_type": "code",
   "execution_count": 19,
   "id": "7c2e2f05",
   "metadata": {},
   "outputs": [
    {
     "name": "stdout",
     "output_type": "stream",
     "text": [
      "Classification Report of the default model\n",
      "              precision    recall  f1-score   support\n",
      "\n",
      "           0       0.79      0.84      0.81    231390\n",
      "           1       0.71      0.62      0.66    140418\n",
      "           2       1.00      1.00      1.00     34444\n",
      "           3       0.71      0.78      0.74      5421\n",
      "           4       0.59      0.51      0.54      4962\n",
      "           5       0.91      0.93      0.92      7949\n",
      "\n",
      "    accuracy                           0.78    424584\n",
      "   macro avg       0.78      0.78      0.78    424584\n",
      "weighted avg       0.78      0.78      0.78    424584\n",
      "\n"
     ]
    },
    {
     "data": {
      "image/png": "[encoded data removed]",
      "text/plain": [
       "<Figure size 700x700 with 2 Axes>"
      ]
     },
     "metadata": {},
     "output_type": "display_data"
    }
   ],
   "source": [
    "#saving the model with the best performing hyperparameters\n",
    "filename = \"models/DT_undersample_model.pickle\"\n",
    "\n",
    "#train the model with the best hyperparameters\n",
    "model_under_final = tree.DecisionTreeClassifier(criterion = \"gini\", max_depth = 45, min_samples_split = 40)\n",
    "model_under_final.fit(X_train, y_train)\n",
    "\n",
    "# save model\n",
    "pickle.dump(model_under_final, open(filename, \"wb\"))\n",
    "\n",
    "# Measure performance of the model with the best hyper parameter \n",
    "y_top_pred = model_under_final.predict(X_test)\n",
    "print(\"Classification Report of the default model\")\n",
    "print(classification_report(y_test, y_top_pred))\n",
    "\n",
    "#vizualizing classification report\n",
    "cmap =sns.color_palette(\"Greens\")\n",
    "cm = confusion_matrix(y_test, y_top_pred)\n",
    "plt.figure(figsize=(7,7))\n",
    "sns.heatmap(cm, annot=True, fmt='g', cmap=cmap, \n",
    "            annot_kws={'fontsize':10}, linewidth=1, square=True)\n",
    "plt.xlabel(\"Predicted\")\n",
    "plt.ylabel(\"Actual\")\n",
    "plt.title('Decision Tree Parameter Tuning Model Classification')\n",
    "plt.show()\n",
    "\n",
    "# saving the values in variables to export them later\n",
    "report_under_top = classification_report(y_test, y_top_pred,output_dict=True)\n",
    "macro_f1_under_top = report_under_top['macro avg']['f1-score']\n",
    "weighted_f1_under_top = report_under_top['weighted avg']['f1-score']\n",
    "class_0_under_top = report_under_top['0']['f1-score']\n",
    "class_1_under_top = report_under_top['1']['f1-score']\n",
    "class_2_under_top = report_under_top['2']['f1-score']\n",
    "class_3_under_top = report_under_top['3']['f1-score']\n",
    "class_4_under_top = report_under_top['4']['f1-score']\n",
    "class_5_under_top = report_under_top['5']['f1-score']"
   ]
  },
  {
   "attachments": {},
   "cell_type": "markdown",
   "id": "e6c43ea7",
   "metadata": {},
   "source": [
    "#### 8. Cross Validation"
   ]
  },
  {
   "cell_type": "code",
   "execution_count": 20,
   "id": "5d77ceaa",
   "metadata": {},
   "outputs": [
    {
     "name": "stdout",
     "output_type": "stream",
     "text": [
      "Testing with 8 fold:\n",
      "Accuracy: 0.784 (0.001)\n",
      "Testing with 10 fold:\n",
      "Accuracy: 0.784 (0.001)\n"
     ]
    }
   ],
   "source": [
    "from sklearn.model_selection import KFold\n",
    "from sklearn.model_selection import cross_val_score\n",
    "from numpy import mean\n",
    "from numpy import std\n",
    "\n",
    "# load dataset\n",
    "df = pd.read_csv('preprocessing/data/london_clean.csv')\n",
    "\n",
    "# train and test split\n",
    "X = df[['DateOfCall', 'PropertyType', 'NumPumpsAttending', 'PumpHoursRoundUp', 'mean_temp']]\n",
    "y = df[['CostCat']]\n",
    "X_train, X_test, y_train, y_test = train_test_split(X, y, test_size=0.33, random_state=42)\n",
    "\n",
    "#load model\n",
    "loaded_model = pickle.load(open(\"models/DT_model.pickle\", 'rb'))\n",
    "\n",
    "folds = [8, 10]\n",
    "for i in folds:\n",
    "    cross_val = KFold(n_splits=i, random_state=42, shuffle=True)\n",
    "    scores = cross_val_score(loaded_model, X, y, scoring='accuracy', cv=cross_val, n_jobs=4)\n",
    "    print(\"Testing with {} fold:\".format(i))\n",
    "    print('Accuracy: %.3f (%.3f)' % (mean(scores), std(scores)))"
   ]
  },
  {
   "attachments": {},
   "cell_type": "markdown",
   "id": "7918f1eb",
   "metadata": {},
   "source": [
    "#### 9. Export Result for Comparison\n",
    "<br> The performance of all decision tree models (default parameter, hyper parameter tuned, undersampled with default parameter, undersampled with hyper parameter tuned) is recorded and arranged into pandas' dataframes.\n",
    "<ol>\n",
    "<li> Dataframe 1: weighted f1-score of each model\n",
    "<li> Dataframe 2: f1-score of each class for each model\n",
    "</ol>\n",
    "<br>The dataframes are exported and saved into csv files for easier access when comparing the performance between different models implemented in this project."
   ]
  },
  {
   "cell_type": "code",
   "execution_count": 23,
   "id": "7fa071e8",
   "metadata": {},
   "outputs": [],
   "source": [
    "filename_model ='test_results/DT_model_result.csv'\n",
    "filename_class = 'test_results/DT_class_result.csv'\n",
    "\n",
    "#overall f1-score result exporting\n",
    "model_d = {'model':['DT_default', 'DT_top', 'DT_under_default', 'dtc_under_top'], 'macro_f1-score': [macro_f1_default, macro_f1_top, macro_f1_under_default, macro_f1_under_top], \n",
    "           'weighted_f1-score': [weighted_f1_default, weighted_f1_top, weighted_f1_under_default, weighted_f1_under_top]}\n",
    "df_model_summary = pd.DataFrame(data=model_d)\n",
    "df_model_summary.to_csv(filename_model)\n",
    "\n",
    "#f1-score by class result exporting\n",
    "class_d = {'class':['0', '1', '2', '3', '4', '5', '0', '1', '2', '3', '4', '5', '0', '1', '2', '3', '4', '5', '0', '1', '2', '3', '4', '5'], \n",
    "           'model':['DT_default','DT_default','DT_default','DT_default','DT_default','DT_default','DT_top','DT_top','DT_top','DT_top','DT_top','DT_top',\n",
    "                    'DT_under_default','DT_under_default','DT_under_default','DT_under_default','DT_under_default','DT_under_default',\n",
    "                    'DT_under_top','DT_under_top','DT_under_top','DT_under_top','DT_under_top','DT_under_top'],\n",
    "           'f1-score': [class_0_default, class_1_default, class_2_default, class_3_default, class_4_default, class_5_default,\n",
    "                        class_0_top, class_1_top, class_2_top, class_3_top, class_4_top, class_5_top,\n",
    "                        class_0_under_default, class_1_under_default, class_2_under_default, class_3_under_default, class_4_under_default, class_5_under_default,\n",
    "                        class_0_under_top, class_1_under_top, class_2_under_top, class_3_under_top, class_4_under_top, class_5_under_top]}\n",
    "df_class_summary = pd.DataFrame(data=class_d)\n",
    "df_class_summary.to_csv(filename_class)\n"
   ]
  },
  {
   "cell_type": "code",
   "execution_count": 24,
   "id": "2912d884",
   "metadata": {},
   "outputs": [
    {
     "data": {
      "text/html": [
       "<div>\n",
       "<style scoped>\n",
       "    .dataframe tbody tr th:only-of-type {\n",
       "        vertical-align: middle;\n",
       "    }\n",
       "\n",
       "    .dataframe tbody tr th {\n",
       "        vertical-align: top;\n",
       "    }\n",
       "\n",
       "    .dataframe thead th {\n",
       "        text-align: right;\n",
       "    }\n",
       "</style>\n",
       "<table border=\"1\" class=\"dataframe\">\n",
       "  <thead>\n",
       "    <tr style=\"text-align: right;\">\n",
       "      <th></th>\n",
       "      <th>model</th>\n",
       "      <th>macro_f1-score</th>\n",
       "      <th>weighted_f1-score</th>\n",
       "    </tr>\n",
       "  </thead>\n",
       "  <tbody>\n",
       "    <tr>\n",
       "      <th>0</th>\n",
       "      <td>DT_default</td>\n",
       "      <td>0.782449</td>\n",
       "      <td>0.774664</td>\n",
       "    </tr>\n",
       "    <tr>\n",
       "      <th>1</th>\n",
       "      <td>DT_top</td>\n",
       "      <td>0.778998</td>\n",
       "      <td>0.777633</td>\n",
       "    </tr>\n",
       "    <tr>\n",
       "      <th>2</th>\n",
       "      <td>DT_under_default</td>\n",
       "      <td>0.773659</td>\n",
       "      <td>0.778783</td>\n",
       "    </tr>\n",
       "    <tr>\n",
       "      <th>3</th>\n",
       "      <td>dtc_under_top</td>\n",
       "      <td>0.780321</td>\n",
       "      <td>0.776776</td>\n",
       "    </tr>\n",
       "  </tbody>\n",
       "</table>\n",
       "</div>"
      ],
      "text/plain": [
       "              model  macro_f1-score  weighted_f1-score\n",
       "0        DT_default        0.782449           0.774664\n",
       "1            DT_top        0.778998           0.777633\n",
       "2  DT_under_default        0.773659           0.778783\n",
       "3     dtc_under_top        0.780321           0.776776"
      ]
     },
     "execution_count": 24,
     "metadata": {},
     "output_type": "execute_result"
    }
   ],
   "source": [
    "df_model_summary"
   ]
  },
  {
   "cell_type": "code",
   "execution_count": 25,
   "id": "68c8e6ff",
   "metadata": {},
   "outputs": [
    {
     "data": {
      "text/html": [
       "<div>\n",
       "<style scoped>\n",
       "    .dataframe tbody tr th:only-of-type {\n",
       "        vertical-align: middle;\n",
       "    }\n",
       "\n",
       "    .dataframe tbody tr th {\n",
       "        vertical-align: top;\n",
       "    }\n",
       "\n",
       "    .dataframe thead th {\n",
       "        text-align: right;\n",
       "    }\n",
       "</style>\n",
       "<table border=\"1\" class=\"dataframe\">\n",
       "  <thead>\n",
       "    <tr style=\"text-align: right;\">\n",
       "      <th></th>\n",
       "      <th>class</th>\n",
       "      <th>model</th>\n",
       "      <th>f1-score</th>\n",
       "    </tr>\n",
       "  </thead>\n",
       "  <tbody>\n",
       "    <tr>\n",
       "      <th>0</th>\n",
       "      <td>0</td>\n",
       "      <td>DT_default</td>\n",
       "      <td>0.812936</td>\n",
       "    </tr>\n",
       "    <tr>\n",
       "      <th>1</th>\n",
       "      <td>1</td>\n",
       "      <td>DT_default</td>\n",
       "      <td>0.656892</td>\n",
       "    </tr>\n",
       "    <tr>\n",
       "      <th>2</th>\n",
       "      <td>2</td>\n",
       "      <td>DT_default</td>\n",
       "      <td>1.000000</td>\n",
       "    </tr>\n",
       "    <tr>\n",
       "      <th>3</th>\n",
       "      <td>3</td>\n",
       "      <td>DT_default</td>\n",
       "      <td>0.734359</td>\n",
       "    </tr>\n",
       "    <tr>\n",
       "      <th>4</th>\n",
       "      <td>4</td>\n",
       "      <td>DT_default</td>\n",
       "      <td>0.571778</td>\n",
       "    </tr>\n",
       "    <tr>\n",
       "      <th>5</th>\n",
       "      <td>5</td>\n",
       "      <td>DT_default</td>\n",
       "      <td>0.918731</td>\n",
       "    </tr>\n",
       "    <tr>\n",
       "      <th>6</th>\n",
       "      <td>0</td>\n",
       "      <td>DT_top</td>\n",
       "      <td>0.815729</td>\n",
       "    </tr>\n",
       "    <tr>\n",
       "      <th>7</th>\n",
       "      <td>1</td>\n",
       "      <td>DT_top</td>\n",
       "      <td>0.662196</td>\n",
       "    </tr>\n",
       "    <tr>\n",
       "      <th>8</th>\n",
       "      <td>2</td>\n",
       "      <td>DT_top</td>\n",
       "      <td>1.000000</td>\n",
       "    </tr>\n",
       "    <tr>\n",
       "      <th>9</th>\n",
       "      <td>3</td>\n",
       "      <td>DT_top</td>\n",
       "      <td>0.747551</td>\n",
       "    </tr>\n",
       "    <tr>\n",
       "      <th>10</th>\n",
       "      <td>4</td>\n",
       "      <td>DT_top</td>\n",
       "      <td>0.527591</td>\n",
       "    </tr>\n",
       "    <tr>\n",
       "      <th>11</th>\n",
       "      <td>5</td>\n",
       "      <td>DT_top</td>\n",
       "      <td>0.920919</td>\n",
       "    </tr>\n",
       "    <tr>\n",
       "      <th>12</th>\n",
       "      <td>0</td>\n",
       "      <td>DT_under_default</td>\n",
       "      <td>0.786227</td>\n",
       "    </tr>\n",
       "    <tr>\n",
       "      <th>13</th>\n",
       "      <td>1</td>\n",
       "      <td>DT_under_default</td>\n",
       "      <td>0.611325</td>\n",
       "    </tr>\n",
       "    <tr>\n",
       "      <th>14</th>\n",
       "      <td>2</td>\n",
       "      <td>DT_under_default</td>\n",
       "      <td>1.000000</td>\n",
       "    </tr>\n",
       "    <tr>\n",
       "      <th>15</th>\n",
       "      <td>3</td>\n",
       "      <td>DT_under_default</td>\n",
       "      <td>0.737614</td>\n",
       "    </tr>\n",
       "    <tr>\n",
       "      <th>16</th>\n",
       "      <td>4</td>\n",
       "      <td>DT_under_default</td>\n",
       "      <td>0.590021</td>\n",
       "    </tr>\n",
       "    <tr>\n",
       "      <th>17</th>\n",
       "      <td>5</td>\n",
       "      <td>DT_under_default</td>\n",
       "      <td>0.916765</td>\n",
       "    </tr>\n",
       "    <tr>\n",
       "      <th>18</th>\n",
       "      <td>0</td>\n",
       "      <td>DT_under_top</td>\n",
       "      <td>0.814259</td>\n",
       "    </tr>\n",
       "    <tr>\n",
       "      <th>19</th>\n",
       "      <td>1</td>\n",
       "      <td>DT_under_top</td>\n",
       "      <td>0.661709</td>\n",
       "    </tr>\n",
       "    <tr>\n",
       "      <th>20</th>\n",
       "      <td>2</td>\n",
       "      <td>DT_under_top</td>\n",
       "      <td>1.000000</td>\n",
       "    </tr>\n",
       "    <tr>\n",
       "      <th>21</th>\n",
       "      <td>3</td>\n",
       "      <td>DT_under_top</td>\n",
       "      <td>0.742279</td>\n",
       "    </tr>\n",
       "    <tr>\n",
       "      <th>22</th>\n",
       "      <td>4</td>\n",
       "      <td>DT_under_top</td>\n",
       "      <td>0.543424</td>\n",
       "    </tr>\n",
       "    <tr>\n",
       "      <th>23</th>\n",
       "      <td>5</td>\n",
       "      <td>DT_under_top</td>\n",
       "      <td>0.920254</td>\n",
       "    </tr>\n",
       "  </tbody>\n",
       "</table>\n",
       "</div>"
      ],
      "text/plain": [
       "   class             model  f1-score\n",
       "0      0        DT_default  0.812936\n",
       "1      1        DT_default  0.656892\n",
       "2      2        DT_default  1.000000\n",
       "3      3        DT_default  0.734359\n",
       "4      4        DT_default  0.571778\n",
       "5      5        DT_default  0.918731\n",
       "6      0            DT_top  0.815729\n",
       "7      1            DT_top  0.662196\n",
       "8      2            DT_top  1.000000\n",
       "9      3            DT_top  0.747551\n",
       "10     4            DT_top  0.527591\n",
       "11     5            DT_top  0.920919\n",
       "12     0  DT_under_default  0.786227\n",
       "13     1  DT_under_default  0.611325\n",
       "14     2  DT_under_default  1.000000\n",
       "15     3  DT_under_default  0.737614\n",
       "16     4  DT_under_default  0.590021\n",
       "17     5  DT_under_default  0.916765\n",
       "18     0      DT_under_top  0.814259\n",
       "19     1      DT_under_top  0.661709\n",
       "20     2      DT_under_top  1.000000\n",
       "21     3      DT_under_top  0.742279\n",
       "22     4      DT_under_top  0.543424\n",
       "23     5      DT_under_top  0.920254"
      ]
     },
     "execution_count": 25,
     "metadata": {},
     "output_type": "execute_result"
    }
   ],
   "source": [
    "df_class_summary"
   ]
  },
  {
   "attachments": {},
   "cell_type": "markdown",
   "id": "c5dc88d7",
   "metadata": {},
   "source": [
    "#### 10. Conclusion"
   ]
  }
 ],
 "metadata": {
  "kernelspec": {
   "display_name": "Python 3",
   "language": "python",
   "name": "python3"
  },
  "language_info": {
   "codemirror_mode": {
    "name": "ipython",
    "version": 3
   },
   "file_extension": ".py",
   "mimetype": "text/x-python",
   "name": "python",
   "nbconvert_exporter": "python",
   "pygments_lexer": "ipython3",
   "version": "3.7.6"
  },
  "vscode": {
   "interpreter": {
    "hash": "31f2aee4e71d21fbe5cf8b01ff0e069b9275f58929596ceb00d14d90e3e16cd6"
   }
  }
 },
 "nbformat": 4,
 "nbformat_minor": 5
}
