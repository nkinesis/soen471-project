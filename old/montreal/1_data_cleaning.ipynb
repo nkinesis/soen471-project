{
 "cells": [
  {
   "cell_type": "code",
   "execution_count": 35,
   "id": "ad39133a",
   "metadata": {},
   "outputs": [],
   "source": [
    "import pandas as pd\n",
    "from datetime import datetime"
   ]
  },
  {
   "cell_type": "code",
   "execution_count": 36,
   "id": "fe7227ef",
   "metadata": {},
   "outputs": [],
   "source": [
    "def print_all(arr):\n",
    "    for item in arr:\n",
    "        print(item)"
   ]
  },
  {
   "cell_type": "code",
   "execution_count": 37,
   "id": "515bd07a",
   "metadata": {},
   "outputs": [
    {
     "name": "stdout",
     "output_type": "stream",
     "text": [
      "Count: 908486\n"
     ]
    }
   ],
   "source": [
    "# load the dataset with columns we intend to use\n",
    "usedcols = ['CREATION_DATE_TIME', 'INCIDENT_TYPE_DESC', \n",
    "          'DESCRIPTION_GROUPE', 'NOM_ARROND', 'NOM_VILLE']\n",
    "ds = pd.read_csv('donnes.csv', usecols=usedcols)\n",
    "print(\"Count:\", len(ds))"
   ]
  },
  {
   "cell_type": "code",
   "execution_count": 38,
   "id": "196e273f",
   "metadata": {},
   "outputs": [
    {
     "name": "stdout",
     "output_type": "stream",
     "text": [
      "Count: 908486\n"
     ]
    }
   ],
   "source": [
    "# filter: remove row if there is nan in any other column\n",
    "ds3 = ds.dropna()\n",
    "print(\"Count:\", len(ds3))"
   ]
  },
  {
   "cell_type": "code",
   "execution_count": 39,
   "id": "34ab9f17",
   "metadata": {},
   "outputs": [
    {
     "data": {
      "text/html": [
       "<div>\n",
       "<style scoped>\n",
       "    .dataframe tbody tr th:only-of-type {\n",
       "        vertical-align: middle;\n",
       "    }\n",
       "\n",
       "    .dataframe tbody tr th {\n",
       "        vertical-align: top;\n",
       "    }\n",
       "\n",
       "    .dataframe thead th {\n",
       "        text-align: right;\n",
       "    }\n",
       "</style>\n",
       "<table border=\"1\" class=\"dataframe\">\n",
       "  <thead>\n",
       "    <tr style=\"text-align: right;\">\n",
       "      <th></th>\n",
       "      <th>CREATION_DATE_TIME</th>\n",
       "      <th>INCIDENT_TYPE_DESC</th>\n",
       "      <th>DESCRIPTION_GROUPE</th>\n",
       "      <th>NOM_VILLE</th>\n",
       "      <th>NOM_ARROND</th>\n",
       "    </tr>\n",
       "  </thead>\n",
       "  <tbody>\n",
       "    <tr>\n",
       "      <th>0</th>\n",
       "      <td>2005-01-01 00:03:47</td>\n",
       "      <td>Inondation</td>\n",
       "      <td>Sans incendie</td>\n",
       "      <td>Montréal-Nord</td>\n",
       "      <td>Montréal-Nord</td>\n",
       "    </tr>\n",
       "    <tr>\n",
       "      <th>1</th>\n",
       "      <td>2005-01-01 00:03:56</td>\n",
       "      <td>Alarme privé ou locale</td>\n",
       "      <td>Alarmes-incendies</td>\n",
       "      <td>Montréal</td>\n",
       "      <td>Ville-Marie / Parc Jean-Drapeau / Centre-Sud</td>\n",
       "    </tr>\n",
       "    <tr>\n",
       "      <th>2</th>\n",
       "      <td>2005-01-01 00:03:57</td>\n",
       "      <td>Alarme privé ou locale</td>\n",
       "      <td>Alarmes-incendies</td>\n",
       "      <td>Saint-Laurent</td>\n",
       "      <td>St-Laurent</td>\n",
       "    </tr>\n",
       "  </tbody>\n",
       "</table>\n",
       "</div>"
      ],
      "text/plain": [
       "    CREATION_DATE_TIME      INCIDENT_TYPE_DESC DESCRIPTION_GROUPE  \\\n",
       "0  2005-01-01 00:03:47              Inondation      Sans incendie   \n",
       "1  2005-01-01 00:03:56  Alarme privé ou locale  Alarmes-incendies   \n",
       "2  2005-01-01 00:03:57  Alarme privé ou locale  Alarmes-incendies   \n",
       "\n",
       "       NOM_VILLE                                    NOM_ARROND  \n",
       "0  Montréal-Nord                                 Montréal-Nord  \n",
       "1       Montréal  Ville-Marie / Parc Jean-Drapeau / Centre-Sud  \n",
       "2  Saint-Laurent                                    St-Laurent  "
      ]
     },
     "execution_count": 39,
     "metadata": {},
     "output_type": "execute_result"
    }
   ],
   "source": [
    "# print\n",
    "ds4 = pd.DataFrame(ds3)\n",
    "ds4[0:3]"
   ]
  },
  {
   "cell_type": "code",
   "execution_count": 40,
   "id": "6be1d057",
   "metadata": {},
   "outputs": [],
   "source": [
    "# convert: IncidentDate from date to month only\n",
    "ds4['CREATION_DATE_TIME'] = ds4['CREATION_DATE_TIME'].apply(lambda row: datetime.strptime(row, '%Y-%m-%d %H:%M:%S').strftime('%-m'))"
   ]
  },
  {
   "cell_type": "code",
   "execution_count": 41,
   "id": "d1433abf",
   "metadata": {},
   "outputs": [],
   "source": [
    "# check: what are all possible values for INCIDENT_TYPE_DESC?\n",
    "#print_all(ds4['INCIDENT_TYPE_DESC'].unique())\n",
    "\n",
    "# convert: INCIDENT_TYPE_DESC to categorical (integers)\n",
    "ds4['INCIDENT_TYPE_DESC'] = pd.factorize(ds4['INCIDENT_TYPE_DESC'])[0]"
   ]
  },
  {
   "cell_type": "code",
   "execution_count": 42,
   "id": "d4c9c9ed",
   "metadata": {},
   "outputs": [],
   "source": [
    "# check: what are all possible values for DESCRIPTION_GROUPE?\n",
    "#print_all(ds4['DESCRIPTION_GROUPE'].unique())\n",
    "\n",
    "# convert: DESCRIPTION_GROUPE to categorical (integers)\n",
    "ds4['DESCRIPTION_GROUPE'] = pd.factorize(ds4['DESCRIPTION_GROUPE'])[0]"
   ]
  },
  {
   "cell_type": "code",
   "execution_count": 43,
   "id": "7511bc7b",
   "metadata": {},
   "outputs": [],
   "source": [
    "# check: what are all possible values for NOM_ARROND?\n",
    "#print_all(ds4['NOM_ARROND'].unique())\n",
    "\n",
    "# convert: NOM_ARROND to categorical (integers)\n",
    "ds4['NOM_ARROND'] = pd.factorize(ds4['NOM_ARROND'])[0]"
   ]
  },
  {
   "cell_type": "code",
   "execution_count": 45,
   "id": "8fb3ae3f",
   "metadata": {},
   "outputs": [
    {
     "name": "stdout",
     "output_type": "stream",
     "text": [
      "Montréal-Nord\n",
      "Montréal\n",
      "Saint-Laurent\n",
      "Anjou\n",
      "Westmount\n",
      "Saint-Léonard\n",
      "Ste-Anne-de-Bellevue\n",
      "Verdun / Ïle-des-Soeurs\n",
      "Lasalle\n",
      "Mont-Royal\n",
      "Roxboro\n",
      "Pierrefonds \n",
      "Pointe-Claire\n",
      "Montréal-Est\n",
      "Ste-Geneviève\n",
      "Montréal-Ouest\n",
      "Dorval\n",
      "Beaconsfield\n",
      "Lachine\n",
      "Outremont\n",
      "Dollard-des-Ormeaux\n",
      "Kirkland\n",
      "Côte St-Luc\n",
      "Ile-Bizard\n",
      "Baie d'Urfé\n",
      "Hampstead\n",
      "Senneville\n",
      "Saint-Hubert\n",
      "Laval\n",
      "Ile Dorval\n",
      "Indéterminé\n"
     ]
    }
   ],
   "source": [
    "# check: what are all possible values for NOM_ARROND?\n",
    "print_all(ds4['NOM_VILLE'].unique())\n",
    "\n",
    "# convert: NOM_ARROND to categorical (integers)\n",
    "ds4['NOM_VILLE'] = pd.factorize(ds4['NOM_VILLE'])[0]"
   ]
  },
  {
   "cell_type": "code",
   "execution_count": 46,
   "id": "bc02002c",
   "metadata": {},
   "outputs": [],
   "source": [
    "# save dataset to disk\n",
    "ds4.to_csv('mtl_clean.csv', index=False)"
   ]
  },
  {
   "cell_type": "code",
   "execution_count": 34,
   "id": "22f37710",
   "metadata": {},
   "outputs": [
    {
     "data": {
      "text/plain": [
       "908486"
      ]
     },
     "execution_count": 34,
     "metadata": {},
     "output_type": "execute_result"
    }
   ],
   "source": [
    "len(ds4)"
   ]
  },
  {
   "cell_type": "code",
   "execution_count": null,
   "id": "80913115",
   "metadata": {},
   "outputs": [],
   "source": []
  }
 ],
 "metadata": {
  "kernelspec": {
   "display_name": "Python 3",
   "language": "python",
   "name": "python3"
  },
  "language_info": {
   "codemirror_mode": {
    "name": "ipython",
    "version": 3
   },
   "file_extension": ".py",
   "mimetype": "text/x-python",
   "name": "python",
   "nbconvert_exporter": "python",
   "pygments_lexer": "ipython3",
   "version": "3.8.10"
  },
  "vscode": {
   "interpreter": {
    "hash": "916dbcbb3f70747c44a77c7bcd40155683ae19c65e1c03b4aa3499c5328201f1"
   }
  }
 },
 "nbformat": 4,
 "nbformat_minor": 5
}
